{
  "nbformat": 4,
  "nbformat_minor": 0,
  "metadata": {
    "colab": {
      "provenance": []
    },
    "kernelspec": {
      "name": "python3",
      "display_name": "Python 3"
    },
    "language_info": {
      "name": "python"
    },
    "accelerator": "GPU",
    "gpuClass": "standard"
  },
  "cells": [
    {
      "cell_type": "code",
      "execution_count": 1,
      "metadata": {
        "id": "t30aXG-mzB8X"
      },
      "outputs": [],
      "source": [
        "import numpy as np\n",
        "import pandas as pd"
      ]
    },
    {
      "cell_type": "code",
      "source": [
        "df = pd.read_csv('/content/diabetes.csv')"
      ],
      "metadata": {
        "id": "8T7QklfBzMDg"
      },
      "execution_count": 39,
      "outputs": []
    },
    {
      "cell_type": "code",
      "source": [
        "df.head()"
      ],
      "metadata": {
        "colab": {
          "base_uri": "https://localhost:8080/",
          "height": 270
        },
        "id": "MpJiv755z8uP",
        "outputId": "336381d9-8137-4609-ef78-5dc235c7c645"
      },
      "execution_count": 40,
      "outputs": [
        {
          "output_type": "execute_result",
          "data": {
            "text/plain": [
              "   Pregnancies  Glucose  BloodPressure  SkinThickness  Insulin   BMI  \\\n",
              "0            6      148             72             35        0  33.6   \n",
              "1            1       85             66             29        0  26.6   \n",
              "2            8      183             64              0        0  23.3   \n",
              "3            1       89             66             23       94  28.1   \n",
              "4            0      137             40             35      168  43.1   \n",
              "\n",
              "   DiabetesPedigreeFunction  Age  Outcome  \n",
              "0                     0.627   50        1  \n",
              "1                     0.351   31        0  \n",
              "2                     0.672   32        1  \n",
              "3                     0.167   21        0  \n",
              "4                     2.288   33        1  "
            ],
            "text/html": [
              "\n",
              "  <div id=\"df-8b4bcca7-496c-400f-96b3-2a24a2d3c7f6\">\n",
              "    <div class=\"colab-df-container\">\n",
              "      <div>\n",
              "<style scoped>\n",
              "    .dataframe tbody tr th:only-of-type {\n",
              "        vertical-align: middle;\n",
              "    }\n",
              "\n",
              "    .dataframe tbody tr th {\n",
              "        vertical-align: top;\n",
              "    }\n",
              "\n",
              "    .dataframe thead th {\n",
              "        text-align: right;\n",
              "    }\n",
              "</style>\n",
              "<table border=\"1\" class=\"dataframe\">\n",
              "  <thead>\n",
              "    <tr style=\"text-align: right;\">\n",
              "      <th></th>\n",
              "      <th>Pregnancies</th>\n",
              "      <th>Glucose</th>\n",
              "      <th>BloodPressure</th>\n",
              "      <th>SkinThickness</th>\n",
              "      <th>Insulin</th>\n",
              "      <th>BMI</th>\n",
              "      <th>DiabetesPedigreeFunction</th>\n",
              "      <th>Age</th>\n",
              "      <th>Outcome</th>\n",
              "    </tr>\n",
              "  </thead>\n",
              "  <tbody>\n",
              "    <tr>\n",
              "      <th>0</th>\n",
              "      <td>6</td>\n",
              "      <td>148</td>\n",
              "      <td>72</td>\n",
              "      <td>35</td>\n",
              "      <td>0</td>\n",
              "      <td>33.6</td>\n",
              "      <td>0.627</td>\n",
              "      <td>50</td>\n",
              "      <td>1</td>\n",
              "    </tr>\n",
              "    <tr>\n",
              "      <th>1</th>\n",
              "      <td>1</td>\n",
              "      <td>85</td>\n",
              "      <td>66</td>\n",
              "      <td>29</td>\n",
              "      <td>0</td>\n",
              "      <td>26.6</td>\n",
              "      <td>0.351</td>\n",
              "      <td>31</td>\n",
              "      <td>0</td>\n",
              "    </tr>\n",
              "    <tr>\n",
              "      <th>2</th>\n",
              "      <td>8</td>\n",
              "      <td>183</td>\n",
              "      <td>64</td>\n",
              "      <td>0</td>\n",
              "      <td>0</td>\n",
              "      <td>23.3</td>\n",
              "      <td>0.672</td>\n",
              "      <td>32</td>\n",
              "      <td>1</td>\n",
              "    </tr>\n",
              "    <tr>\n",
              "      <th>3</th>\n",
              "      <td>1</td>\n",
              "      <td>89</td>\n",
              "      <td>66</td>\n",
              "      <td>23</td>\n",
              "      <td>94</td>\n",
              "      <td>28.1</td>\n",
              "      <td>0.167</td>\n",
              "      <td>21</td>\n",
              "      <td>0</td>\n",
              "    </tr>\n",
              "    <tr>\n",
              "      <th>4</th>\n",
              "      <td>0</td>\n",
              "      <td>137</td>\n",
              "      <td>40</td>\n",
              "      <td>35</td>\n",
              "      <td>168</td>\n",
              "      <td>43.1</td>\n",
              "      <td>2.288</td>\n",
              "      <td>33</td>\n",
              "      <td>1</td>\n",
              "    </tr>\n",
              "  </tbody>\n",
              "</table>\n",
              "</div>\n",
              "      <button class=\"colab-df-convert\" onclick=\"convertToInteractive('df-8b4bcca7-496c-400f-96b3-2a24a2d3c7f6')\"\n",
              "              title=\"Convert this dataframe to an interactive table.\"\n",
              "              style=\"display:none;\">\n",
              "        \n",
              "  <svg xmlns=\"http://www.w3.org/2000/svg\" height=\"24px\"viewBox=\"0 0 24 24\"\n",
              "       width=\"24px\">\n",
              "    <path d=\"M0 0h24v24H0V0z\" fill=\"none\"/>\n",
              "    <path d=\"M18.56 5.44l.94 2.06.94-2.06 2.06-.94-2.06-.94-.94-2.06-.94 2.06-2.06.94zm-11 1L8.5 8.5l.94-2.06 2.06-.94-2.06-.94L8.5 2.5l-.94 2.06-2.06.94zm10 10l.94 2.06.94-2.06 2.06-.94-2.06-.94-.94-2.06-.94 2.06-2.06.94z\"/><path d=\"M17.41 7.96l-1.37-1.37c-.4-.4-.92-.59-1.43-.59-.52 0-1.04.2-1.43.59L10.3 9.45l-7.72 7.72c-.78.78-.78 2.05 0 2.83L4 21.41c.39.39.9.59 1.41.59.51 0 1.02-.2 1.41-.59l7.78-7.78 2.81-2.81c.8-.78.8-2.07 0-2.86zM5.41 20L4 18.59l7.72-7.72 1.47 1.35L5.41 20z\"/>\n",
              "  </svg>\n",
              "      </button>\n",
              "      \n",
              "  <style>\n",
              "    .colab-df-container {\n",
              "      display:flex;\n",
              "      flex-wrap:wrap;\n",
              "      gap: 12px;\n",
              "    }\n",
              "\n",
              "    .colab-df-convert {\n",
              "      background-color: #E8F0FE;\n",
              "      border: none;\n",
              "      border-radius: 50%;\n",
              "      cursor: pointer;\n",
              "      display: none;\n",
              "      fill: #1967D2;\n",
              "      height: 32px;\n",
              "      padding: 0 0 0 0;\n",
              "      width: 32px;\n",
              "    }\n",
              "\n",
              "    .colab-df-convert:hover {\n",
              "      background-color: #E2EBFA;\n",
              "      box-shadow: 0px 1px 2px rgba(60, 64, 67, 0.3), 0px 1px 3px 1px rgba(60, 64, 67, 0.15);\n",
              "      fill: #174EA6;\n",
              "    }\n",
              "\n",
              "    [theme=dark] .colab-df-convert {\n",
              "      background-color: #3B4455;\n",
              "      fill: #D2E3FC;\n",
              "    }\n",
              "\n",
              "    [theme=dark] .colab-df-convert:hover {\n",
              "      background-color: #434B5C;\n",
              "      box-shadow: 0px 1px 3px 1px rgba(0, 0, 0, 0.15);\n",
              "      filter: drop-shadow(0px 1px 2px rgba(0, 0, 0, 0.3));\n",
              "      fill: #FFFFFF;\n",
              "    }\n",
              "  </style>\n",
              "\n",
              "      <script>\n",
              "        const buttonEl =\n",
              "          document.querySelector('#df-8b4bcca7-496c-400f-96b3-2a24a2d3c7f6 button.colab-df-convert');\n",
              "        buttonEl.style.display =\n",
              "          google.colab.kernel.accessAllowed ? 'block' : 'none';\n",
              "\n",
              "        async function convertToInteractive(key) {\n",
              "          const element = document.querySelector('#df-8b4bcca7-496c-400f-96b3-2a24a2d3c7f6');\n",
              "          const dataTable =\n",
              "            await google.colab.kernel.invokeFunction('convertToInteractive',\n",
              "                                                     [key], {});\n",
              "          if (!dataTable) return;\n",
              "\n",
              "          const docLinkHtml = 'Like what you see? Visit the ' +\n",
              "            '<a target=\"_blank\" href=https://colab.research.google.com/notebooks/data_table.ipynb>data table notebook</a>'\n",
              "            + ' to learn more about interactive tables.';\n",
              "          element.innerHTML = '';\n",
              "          dataTable['output_type'] = 'display_data';\n",
              "          await google.colab.output.renderOutput(dataTable, element);\n",
              "          const docLink = document.createElement('div');\n",
              "          docLink.innerHTML = docLinkHtml;\n",
              "          element.appendChild(docLink);\n",
              "        }\n",
              "      </script>\n",
              "    </div>\n",
              "  </div>\n",
              "  "
            ]
          },
          "metadata": {},
          "execution_count": 40
        }
      ]
    },
    {
      "cell_type": "code",
      "source": [
        "df.corr()['Outcome']"
      ],
      "metadata": {
        "colab": {
          "base_uri": "https://localhost:8080/"
        },
        "id": "t7JpbZEjz-H0",
        "outputId": "5c1f5ab6-0a85-48f2-b497-11aa915eca0b"
      },
      "execution_count": 41,
      "outputs": [
        {
          "output_type": "execute_result",
          "data": {
            "text/plain": [
              "Pregnancies                 0.221898\n",
              "Glucose                     0.466581\n",
              "BloodPressure               0.065068\n",
              "SkinThickness               0.074752\n",
              "Insulin                     0.130548\n",
              "BMI                         0.292695\n",
              "DiabetesPedigreeFunction    0.173844\n",
              "Age                         0.238356\n",
              "Outcome                     1.000000\n",
              "Name: Outcome, dtype: float64"
            ]
          },
          "metadata": {},
          "execution_count": 41
        }
      ]
    },
    {
      "cell_type": "code",
      "source": [
        "x = df.iloc[:,:-1].values\n",
        "y = df.iloc[:,-1].values"
      ],
      "metadata": {
        "id": "jmZAtEq00ILP"
      },
      "execution_count": 42,
      "outputs": []
    },
    {
      "cell_type": "code",
      "source": [
        "from sklearn.preprocessing import StandardScaler\n",
        "scaler = StandardScaler()"
      ],
      "metadata": {
        "id": "ktfUGqDl0fbl"
      },
      "execution_count": 43,
      "outputs": []
    },
    {
      "cell_type": "code",
      "source": [
        "x = scaler.fit_transform(x)"
      ],
      "metadata": {
        "id": "Nqdv43-Q0tET"
      },
      "execution_count": 44,
      "outputs": []
    },
    {
      "cell_type": "code",
      "source": [
        "x[0], x.shape"
      ],
      "metadata": {
        "colab": {
          "base_uri": "https://localhost:8080/"
        },
        "id": "2sHvUUC50xIb",
        "outputId": "a9745ddf-43ab-4995-b162-b4b82687be12"
      },
      "execution_count": 45,
      "outputs": [
        {
          "output_type": "execute_result",
          "data": {
            "text/plain": [
              "(array([ 0.63994726,  0.84832379,  0.14964075,  0.90726993, -0.69289057,\n",
              "         0.20401277,  0.46849198,  1.4259954 ]), (768, 8))"
            ]
          },
          "metadata": {},
          "execution_count": 45
        }
      ]
    },
    {
      "cell_type": "code",
      "source": [
        "from sklearn.model_selection import train_test_split\n",
        "x_train, x_test, y_train, y_test = train_test_split(x, y, test_size=0.2, random_state= 1)"
      ],
      "metadata": {
        "id": "PfIcpr2xjN3F"
      },
      "execution_count": 46,
      "outputs": []
    },
    {
      "cell_type": "code",
      "source": [
        "import tensorflow\n",
        "from tensorflow import keras\n",
        "from keras import Sequential\n",
        "from keras.layers import Dense,Dropout"
      ],
      "metadata": {
        "id": "HQ0oJW-LjoSK"
      },
      "execution_count": 95,
      "outputs": []
    },
    {
      "cell_type": "code",
      "source": [
        "model = Sequential()\n",
        "model.add(Dense(32,input_dim= 8 , activation ='relu'))\n",
        "model.add(Dense(1, activation='sigmoid'))"
      ],
      "metadata": {
        "id": "iePLkfcnj_y1"
      },
      "execution_count": 13,
      "outputs": []
    },
    {
      "cell_type": "code",
      "source": [
        "model.compile(optimizer='adam',loss= \"binary_crossentropy\",metrics=['accuracy'])"
      ],
      "metadata": {
        "id": "j-3Y7VM-kNY6"
      },
      "execution_count": 14,
      "outputs": []
    },
    {
      "cell_type": "code",
      "source": [
        "model.fit(x_train,y_train, validation_data=(x_test,y_test), epochs = 50)"
      ],
      "metadata": {
        "colab": {
          "base_uri": "https://localhost:8080/"
        },
        "id": "Y9HC5AszkXoG",
        "outputId": "a707cc4f-70ed-4be0-a5ce-c3f714db5089"
      },
      "execution_count": 16,
      "outputs": [
        {
          "output_type": "stream",
          "name": "stdout",
          "text": [
            "Epoch 1/50\n",
            "20/20 [==============================] - 0s 7ms/step - loss: 0.4551 - accuracy: 0.7687 - val_loss: 0.4711 - val_accuracy: 0.7922\n",
            "Epoch 2/50\n",
            "20/20 [==============================] - 0s 6ms/step - loss: 0.4541 - accuracy: 0.7736 - val_loss: 0.4722 - val_accuracy: 0.7857\n",
            "Epoch 3/50\n",
            "20/20 [==============================] - 0s 5ms/step - loss: 0.4522 - accuracy: 0.7785 - val_loss: 0.4710 - val_accuracy: 0.7922\n",
            "Epoch 4/50\n",
            "20/20 [==============================] - 0s 5ms/step - loss: 0.4511 - accuracy: 0.7785 - val_loss: 0.4707 - val_accuracy: 0.7792\n",
            "Epoch 5/50\n",
            "20/20 [==============================] - 0s 6ms/step - loss: 0.4501 - accuracy: 0.7752 - val_loss: 0.4700 - val_accuracy: 0.7792\n",
            "Epoch 6/50\n",
            "20/20 [==============================] - 0s 6ms/step - loss: 0.4490 - accuracy: 0.7769 - val_loss: 0.4698 - val_accuracy: 0.7792\n",
            "Epoch 7/50\n",
            "20/20 [==============================] - 0s 5ms/step - loss: 0.4486 - accuracy: 0.7801 - val_loss: 0.4696 - val_accuracy: 0.7857\n",
            "Epoch 8/50\n",
            "20/20 [==============================] - 0s 5ms/step - loss: 0.4477 - accuracy: 0.7818 - val_loss: 0.4695 - val_accuracy: 0.7857\n",
            "Epoch 9/50\n",
            "20/20 [==============================] - 0s 6ms/step - loss: 0.4472 - accuracy: 0.7818 - val_loss: 0.4686 - val_accuracy: 0.7792\n",
            "Epoch 10/50\n",
            "20/20 [==============================] - 0s 6ms/step - loss: 0.4470 - accuracy: 0.7818 - val_loss: 0.4696 - val_accuracy: 0.7792\n",
            "Epoch 11/50\n",
            "20/20 [==============================] - 0s 5ms/step - loss: 0.4454 - accuracy: 0.7801 - val_loss: 0.4697 - val_accuracy: 0.7792\n",
            "Epoch 12/50\n",
            "20/20 [==============================] - 0s 5ms/step - loss: 0.4449 - accuracy: 0.7818 - val_loss: 0.4696 - val_accuracy: 0.7857\n",
            "Epoch 13/50\n",
            "20/20 [==============================] - 0s 5ms/step - loss: 0.4442 - accuracy: 0.7818 - val_loss: 0.4695 - val_accuracy: 0.7857\n",
            "Epoch 14/50\n",
            "20/20 [==============================] - 0s 5ms/step - loss: 0.4436 - accuracy: 0.7785 - val_loss: 0.4690 - val_accuracy: 0.7857\n",
            "Epoch 15/50\n",
            "20/20 [==============================] - 0s 6ms/step - loss: 0.4433 - accuracy: 0.7801 - val_loss: 0.4682 - val_accuracy: 0.7857\n",
            "Epoch 16/50\n",
            "20/20 [==============================] - 0s 5ms/step - loss: 0.4424 - accuracy: 0.7818 - val_loss: 0.4696 - val_accuracy: 0.7857\n",
            "Epoch 17/50\n",
            "20/20 [==============================] - 0s 5ms/step - loss: 0.4420 - accuracy: 0.7834 - val_loss: 0.4685 - val_accuracy: 0.7857\n",
            "Epoch 18/50\n",
            "20/20 [==============================] - 0s 5ms/step - loss: 0.4415 - accuracy: 0.7834 - val_loss: 0.4694 - val_accuracy: 0.7922\n",
            "Epoch 19/50\n",
            "20/20 [==============================] - 0s 5ms/step - loss: 0.4411 - accuracy: 0.7834 - val_loss: 0.4671 - val_accuracy: 0.7922\n",
            "Epoch 20/50\n",
            "20/20 [==============================] - 0s 5ms/step - loss: 0.4409 - accuracy: 0.7818 - val_loss: 0.4661 - val_accuracy: 0.7922\n",
            "Epoch 21/50\n",
            "20/20 [==============================] - 0s 5ms/step - loss: 0.4403 - accuracy: 0.7834 - val_loss: 0.4655 - val_accuracy: 0.7922\n",
            "Epoch 22/50\n",
            "20/20 [==============================] - 0s 6ms/step - loss: 0.4398 - accuracy: 0.7883 - val_loss: 0.4669 - val_accuracy: 0.7987\n",
            "Epoch 23/50\n",
            "20/20 [==============================] - 0s 6ms/step - loss: 0.4393 - accuracy: 0.7883 - val_loss: 0.4666 - val_accuracy: 0.7922\n",
            "Epoch 24/50\n",
            "20/20 [==============================] - 0s 5ms/step - loss: 0.4386 - accuracy: 0.7850 - val_loss: 0.4666 - val_accuracy: 0.7922\n",
            "Epoch 25/50\n",
            "20/20 [==============================] - 0s 5ms/step - loss: 0.4386 - accuracy: 0.7834 - val_loss: 0.4666 - val_accuracy: 0.7922\n",
            "Epoch 26/50\n",
            "20/20 [==============================] - 0s 5ms/step - loss: 0.4378 - accuracy: 0.7818 - val_loss: 0.4663 - val_accuracy: 0.7857\n",
            "Epoch 27/50\n",
            "20/20 [==============================] - 0s 5ms/step - loss: 0.4376 - accuracy: 0.7866 - val_loss: 0.4649 - val_accuracy: 0.7857\n",
            "Epoch 28/50\n",
            "20/20 [==============================] - 0s 5ms/step - loss: 0.4367 - accuracy: 0.7850 - val_loss: 0.4654 - val_accuracy: 0.7922\n",
            "Epoch 29/50\n",
            "20/20 [==============================] - 0s 5ms/step - loss: 0.4364 - accuracy: 0.7866 - val_loss: 0.4675 - val_accuracy: 0.7792\n",
            "Epoch 30/50\n",
            "20/20 [==============================] - 0s 6ms/step - loss: 0.4360 - accuracy: 0.7834 - val_loss: 0.4673 - val_accuracy: 0.7792\n",
            "Epoch 31/50\n",
            "20/20 [==============================] - 0s 5ms/step - loss: 0.4357 - accuracy: 0.7834 - val_loss: 0.4664 - val_accuracy: 0.7792\n",
            "Epoch 32/50\n",
            "20/20 [==============================] - 0s 6ms/step - loss: 0.4350 - accuracy: 0.7899 - val_loss: 0.4658 - val_accuracy: 0.7857\n",
            "Epoch 33/50\n",
            "20/20 [==============================] - 0s 5ms/step - loss: 0.4346 - accuracy: 0.7899 - val_loss: 0.4652 - val_accuracy: 0.7857\n",
            "Epoch 34/50\n",
            "20/20 [==============================] - 0s 6ms/step - loss: 0.4343 - accuracy: 0.7883 - val_loss: 0.4662 - val_accuracy: 0.7792\n",
            "Epoch 35/50\n",
            "20/20 [==============================] - 0s 5ms/step - loss: 0.4335 - accuracy: 0.7850 - val_loss: 0.4661 - val_accuracy: 0.7792\n",
            "Epoch 36/50\n",
            "20/20 [==============================] - 0s 6ms/step - loss: 0.4334 - accuracy: 0.7818 - val_loss: 0.4659 - val_accuracy: 0.7792\n",
            "Epoch 37/50\n",
            "20/20 [==============================] - 0s 5ms/step - loss: 0.4328 - accuracy: 0.7850 - val_loss: 0.4649 - val_accuracy: 0.7792\n",
            "Epoch 38/50\n",
            "20/20 [==============================] - 0s 6ms/step - loss: 0.4321 - accuracy: 0.7866 - val_loss: 0.4638 - val_accuracy: 0.7792\n",
            "Epoch 39/50\n",
            "20/20 [==============================] - 0s 6ms/step - loss: 0.4321 - accuracy: 0.7866 - val_loss: 0.4637 - val_accuracy: 0.7792\n",
            "Epoch 40/50\n",
            "20/20 [==============================] - 0s 7ms/step - loss: 0.4322 - accuracy: 0.7899 - val_loss: 0.4641 - val_accuracy: 0.7922\n",
            "Epoch 41/50\n",
            "20/20 [==============================] - 0s 7ms/step - loss: 0.4313 - accuracy: 0.7948 - val_loss: 0.4648 - val_accuracy: 0.7987\n",
            "Epoch 42/50\n",
            "20/20 [==============================] - 0s 6ms/step - loss: 0.4306 - accuracy: 0.7899 - val_loss: 0.4645 - val_accuracy: 0.7792\n",
            "Epoch 43/50\n",
            "20/20 [==============================] - 0s 8ms/step - loss: 0.4301 - accuracy: 0.7899 - val_loss: 0.4651 - val_accuracy: 0.7857\n",
            "Epoch 44/50\n",
            "20/20 [==============================] - 0s 7ms/step - loss: 0.4296 - accuracy: 0.7866 - val_loss: 0.4644 - val_accuracy: 0.7792\n",
            "Epoch 45/50\n",
            "20/20 [==============================] - 0s 7ms/step - loss: 0.4294 - accuracy: 0.7883 - val_loss: 0.4634 - val_accuracy: 0.7792\n",
            "Epoch 46/50\n",
            "20/20 [==============================] - 0s 7ms/step - loss: 0.4287 - accuracy: 0.7883 - val_loss: 0.4640 - val_accuracy: 0.7857\n",
            "Epoch 47/50\n",
            "20/20 [==============================] - 0s 6ms/step - loss: 0.4281 - accuracy: 0.7915 - val_loss: 0.4627 - val_accuracy: 0.7857\n",
            "Epoch 48/50\n",
            "20/20 [==============================] - 0s 7ms/step - loss: 0.4281 - accuracy: 0.7932 - val_loss: 0.4622 - val_accuracy: 0.7792\n",
            "Epoch 49/50\n",
            "20/20 [==============================] - 0s 7ms/step - loss: 0.4286 - accuracy: 0.7932 - val_loss: 0.4630 - val_accuracy: 0.7792\n",
            "Epoch 50/50\n",
            "20/20 [==============================] - 0s 7ms/step - loss: 0.4277 - accuracy: 0.7915 - val_loss: 0.4634 - val_accuracy: 0.7857\n"
          ]
        },
        {
          "output_type": "execute_result",
          "data": {
            "text/plain": [
              "<keras.callbacks.History at 0x7feac0784e20>"
            ]
          },
          "metadata": {},
          "execution_count": 16
        }
      ]
    },
    {
      "cell_type": "code",
      "source": [
        "#tuning the otimizer\n",
        "!pip install -U keras-tuner\n",
        "\n"
      ],
      "metadata": {
        "colab": {
          "base_uri": "https://localhost:8080/"
        },
        "id": "p3MKDIcLkgty",
        "outputId": "a6d834cd-9694-4a37-9b50-40d82ab08510"
      },
      "execution_count": 23,
      "outputs": [
        {
          "output_type": "stream",
          "name": "stdout",
          "text": [
            "Looking in indexes: https://pypi.org/simple, https://us-python.pkg.dev/colab-wheels/public/simple/\n",
            "Collecting keras-tuner\n",
            "  Downloading keras_tuner-1.3.3-py3-none-any.whl (172 kB)\n",
            "\u001b[2K     \u001b[90m━━━━━━━━━━━━━━━━━━━━━━━━━━━━━━━━━━━━━━━\u001b[0m \u001b[32m172.1/172.1 KB\u001b[0m \u001b[31m4.4 MB/s\u001b[0m eta \u001b[36m0:00:00\u001b[0m\n",
            "\u001b[?25hRequirement already satisfied: tensorflow>=2.0 in /usr/local/lib/python3.9/dist-packages (from keras-tuner) (2.11.0)\n",
            "Requirement already satisfied: packaging in /usr/local/lib/python3.9/dist-packages (from keras-tuner) (23.0)\n",
            "Requirement already satisfied: protobuf<=3.20.3 in /usr/local/lib/python3.9/dist-packages (from keras-tuner) (3.19.6)\n",
            "Collecting kt-legacy\n",
            "  Downloading kt_legacy-1.0.4-py3-none-any.whl (9.6 kB)\n",
            "Requirement already satisfied: requests in /usr/local/lib/python3.9/dist-packages (from keras-tuner) (2.27.1)\n",
            "Requirement already satisfied: termcolor>=1.1.0 in /usr/local/lib/python3.9/dist-packages (from tensorflow>=2.0->keras-tuner) (2.2.0)\n",
            "Requirement already satisfied: flatbuffers>=2.0 in /usr/local/lib/python3.9/dist-packages (from tensorflow>=2.0->keras-tuner) (23.3.3)\n",
            "Requirement already satisfied: setuptools in /usr/local/lib/python3.9/dist-packages (from tensorflow>=2.0->keras-tuner) (67.6.0)\n",
            "Requirement already satisfied: wrapt>=1.11.0 in /usr/local/lib/python3.9/dist-packages (from tensorflow>=2.0->keras-tuner) (1.15.0)\n",
            "Requirement already satisfied: six>=1.12.0 in /usr/local/lib/python3.9/dist-packages (from tensorflow>=2.0->keras-tuner) (1.16.0)\n",
            "Requirement already satisfied: tensorflow-io-gcs-filesystem>=0.23.1 in /usr/local/lib/python3.9/dist-packages (from tensorflow>=2.0->keras-tuner) (0.31.0)\n",
            "Requirement already satisfied: tensorboard<2.12,>=2.11 in /usr/local/lib/python3.9/dist-packages (from tensorflow>=2.0->keras-tuner) (2.11.2)\n",
            "Requirement already satisfied: tensorflow-estimator<2.12,>=2.11.0 in /usr/local/lib/python3.9/dist-packages (from tensorflow>=2.0->keras-tuner) (2.11.0)\n",
            "Requirement already satisfied: libclang>=13.0.0 in /usr/local/lib/python3.9/dist-packages (from tensorflow>=2.0->keras-tuner) (15.0.6.1)\n",
            "Requirement already satisfied: h5py>=2.9.0 in /usr/local/lib/python3.9/dist-packages (from tensorflow>=2.0->keras-tuner) (3.8.0)\n",
            "Requirement already satisfied: gast<=0.4.0,>=0.2.1 in /usr/local/lib/python3.9/dist-packages (from tensorflow>=2.0->keras-tuner) (0.4.0)\n",
            "Requirement already satisfied: numpy>=1.20 in /usr/local/lib/python3.9/dist-packages (from tensorflow>=2.0->keras-tuner) (1.22.4)\n",
            "Requirement already satisfied: grpcio<2.0,>=1.24.3 in /usr/local/lib/python3.9/dist-packages (from tensorflow>=2.0->keras-tuner) (1.51.3)\n",
            "Requirement already satisfied: google-pasta>=0.1.1 in /usr/local/lib/python3.9/dist-packages (from tensorflow>=2.0->keras-tuner) (0.2.0)\n",
            "Requirement already satisfied: astunparse>=1.6.0 in /usr/local/lib/python3.9/dist-packages (from tensorflow>=2.0->keras-tuner) (1.6.3)\n",
            "Requirement already satisfied: typing-extensions>=3.6.6 in /usr/local/lib/python3.9/dist-packages (from tensorflow>=2.0->keras-tuner) (4.5.0)\n",
            "Requirement already satisfied: keras<2.12,>=2.11.0 in /usr/local/lib/python3.9/dist-packages (from tensorflow>=2.0->keras-tuner) (2.11.0)\n",
            "Requirement already satisfied: opt-einsum>=2.3.2 in /usr/local/lib/python3.9/dist-packages (from tensorflow>=2.0->keras-tuner) (3.3.0)\n",
            "Requirement already satisfied: absl-py>=1.0.0 in /usr/local/lib/python3.9/dist-packages (from tensorflow>=2.0->keras-tuner) (1.4.0)\n",
            "Requirement already satisfied: certifi>=2017.4.17 in /usr/local/lib/python3.9/dist-packages (from requests->keras-tuner) (2022.12.7)\n",
            "Requirement already satisfied: urllib3<1.27,>=1.21.1 in /usr/local/lib/python3.9/dist-packages (from requests->keras-tuner) (1.26.15)\n",
            "Requirement already satisfied: charset-normalizer~=2.0.0 in /usr/local/lib/python3.9/dist-packages (from requests->keras-tuner) (2.0.12)\n",
            "Requirement already satisfied: idna<4,>=2.5 in /usr/local/lib/python3.9/dist-packages (from requests->keras-tuner) (3.4)\n",
            "Requirement already satisfied: wheel<1.0,>=0.23.0 in /usr/local/lib/python3.9/dist-packages (from astunparse>=1.6.0->tensorflow>=2.0->keras-tuner) (0.40.0)\n",
            "Requirement already satisfied: google-auth<3,>=1.6.3 in /usr/local/lib/python3.9/dist-packages (from tensorboard<2.12,>=2.11->tensorflow>=2.0->keras-tuner) (2.16.2)\n",
            "Requirement already satisfied: markdown>=2.6.8 in /usr/local/lib/python3.9/dist-packages (from tensorboard<2.12,>=2.11->tensorflow>=2.0->keras-tuner) (3.4.3)\n",
            "Requirement already satisfied: tensorboard-data-server<0.7.0,>=0.6.0 in /usr/local/lib/python3.9/dist-packages (from tensorboard<2.12,>=2.11->tensorflow>=2.0->keras-tuner) (0.6.1)\n",
            "Requirement already satisfied: tensorboard-plugin-wit>=1.6.0 in /usr/local/lib/python3.9/dist-packages (from tensorboard<2.12,>=2.11->tensorflow>=2.0->keras-tuner) (1.8.1)\n",
            "Requirement already satisfied: werkzeug>=1.0.1 in /usr/local/lib/python3.9/dist-packages (from tensorboard<2.12,>=2.11->tensorflow>=2.0->keras-tuner) (2.2.3)\n",
            "Requirement already satisfied: google-auth-oauthlib<0.5,>=0.4.1 in /usr/local/lib/python3.9/dist-packages (from tensorboard<2.12,>=2.11->tensorflow>=2.0->keras-tuner) (0.4.6)\n",
            "Requirement already satisfied: pyasn1-modules>=0.2.1 in /usr/local/lib/python3.9/dist-packages (from google-auth<3,>=1.6.3->tensorboard<2.12,>=2.11->tensorflow>=2.0->keras-tuner) (0.2.8)\n",
            "Requirement already satisfied: rsa<5,>=3.1.4 in /usr/local/lib/python3.9/dist-packages (from google-auth<3,>=1.6.3->tensorboard<2.12,>=2.11->tensorflow>=2.0->keras-tuner) (4.9)\n",
            "Requirement already satisfied: cachetools<6.0,>=2.0.0 in /usr/local/lib/python3.9/dist-packages (from google-auth<3,>=1.6.3->tensorboard<2.12,>=2.11->tensorflow>=2.0->keras-tuner) (5.3.0)\n",
            "Requirement already satisfied: requests-oauthlib>=0.7.0 in /usr/local/lib/python3.9/dist-packages (from google-auth-oauthlib<0.5,>=0.4.1->tensorboard<2.12,>=2.11->tensorflow>=2.0->keras-tuner) (1.3.1)\n",
            "Requirement already satisfied: importlib-metadata>=4.4 in /usr/local/lib/python3.9/dist-packages (from markdown>=2.6.8->tensorboard<2.12,>=2.11->tensorflow>=2.0->keras-tuner) (6.1.0)\n",
            "Requirement already satisfied: MarkupSafe>=2.1.1 in /usr/local/lib/python3.9/dist-packages (from werkzeug>=1.0.1->tensorboard<2.12,>=2.11->tensorflow>=2.0->keras-tuner) (2.1.2)\n",
            "Requirement already satisfied: zipp>=0.5 in /usr/local/lib/python3.9/dist-packages (from importlib-metadata>=4.4->markdown>=2.6.8->tensorboard<2.12,>=2.11->tensorflow>=2.0->keras-tuner) (3.15.0)\n",
            "Requirement already satisfied: pyasn1<0.5.0,>=0.4.6 in /usr/local/lib/python3.9/dist-packages (from pyasn1-modules>=0.2.1->google-auth<3,>=1.6.3->tensorboard<2.12,>=2.11->tensorflow>=2.0->keras-tuner) (0.4.8)\n",
            "Requirement already satisfied: oauthlib>=3.0.0 in /usr/local/lib/python3.9/dist-packages (from requests-oauthlib>=0.7.0->google-auth-oauthlib<0.5,>=0.4.1->tensorboard<2.12,>=2.11->tensorflow>=2.0->keras-tuner) (3.2.2)\n",
            "Installing collected packages: kt-legacy, keras-tuner\n",
            "Successfully installed keras-tuner-1.3.3 kt-legacy-1.0.4\n"
          ]
        }
      ]
    },
    {
      "cell_type": "code",
      "source": [
        "import kerastuner as kt"
      ],
      "metadata": {
        "id": "3xip5f0WlPvx"
      },
      "execution_count": 48,
      "outputs": []
    },
    {
      "cell_type": "code",
      "source": [
        "def b_model(hp):\n",
        "  model = Sequential()\n",
        "  model.add(Dense(32, activation='relu', input_dim=8))\n",
        "  model.add(Dense(1,activation='sigmoid'))\n",
        "\n",
        "  optimizer = hp.Choice('optimizer',values = ['adam','sgd','rmsprop','adadelta'])\n",
        "  model.compile(optimizer=optimizer, loss = 'binary_crossentropy', metrics=['accuracy'])\n",
        "\n",
        "  return model\n"
      ],
      "metadata": {
        "id": "OqPFZUgYlxxd"
      },
      "execution_count": 49,
      "outputs": []
    },
    {
      "cell_type": "code",
      "source": [
        "tuner = kt.RandomSearch(b_model,objective='val_accuracy', max_trials=5)"
      ],
      "metadata": {
        "id": "QeHp4bvqqSCq"
      },
      "execution_count": 50,
      "outputs": []
    },
    {
      "cell_type": "code",
      "source": [
        "tuner.search(x_train, y_train, epochs=10,validation_data=(x_test,y_test), verbose=1)"
      ],
      "metadata": {
        "id": "sJ84Z3Ylqw_h"
      },
      "execution_count": 52,
      "outputs": []
    },
    {
      "cell_type": "code",
      "source": [
        "tuner.get_best_hyperparameters()[0].values"
      ],
      "metadata": {
        "colab": {
          "base_uri": "https://localhost:8080/"
        },
        "id": "U1E4t0tzrZKD",
        "outputId": "17ca1158-604d-4b96-b0f9-8d3131ac8727"
      },
      "execution_count": 54,
      "outputs": [
        {
          "output_type": "execute_result",
          "data": {
            "text/plain": [
              "{'optimizer': 'adam'}"
            ]
          },
          "metadata": {},
          "execution_count": 54
        }
      ]
    },
    {
      "cell_type": "code",
      "source": [
        "model = tuner.get_best_models(num_models=1)[0]"
      ],
      "metadata": {
        "id": "7E1N0zRGtIp8"
      },
      "execution_count": 55,
      "outputs": []
    },
    {
      "cell_type": "code",
      "source": [
        "model.summary()"
      ],
      "metadata": {
        "colab": {
          "base_uri": "https://localhost:8080/"
        },
        "id": "nyNXaq8ytaBR",
        "outputId": "b83097c6-bc8c-4421-8e83-08e610a07eec"
      },
      "execution_count": 56,
      "outputs": [
        {
          "output_type": "stream",
          "name": "stdout",
          "text": [
            "Model: \"sequential\"\n",
            "_________________________________________________________________\n",
            " Layer (type)                Output Shape              Param #   \n",
            "=================================================================\n",
            " dense (Dense)               (None, 32)                288       \n",
            "                                                                 \n",
            " dense_1 (Dense)             (None, 1)                 33        \n",
            "                                                                 \n",
            "=================================================================\n",
            "Total params: 321\n",
            "Trainable params: 321\n",
            "Non-trainable params: 0\n",
            "_________________________________________________________________\n"
          ]
        }
      ]
    },
    {
      "cell_type": "code",
      "source": [
        "model.fit(x_train,y_train, validation_data=(x_test,y_test), batch_size=32, epochs=100 , initial_epoch=5)"
      ],
      "metadata": {
        "colab": {
          "base_uri": "https://localhost:8080/"
        },
        "id": "7B6Rh69ltbqi",
        "outputId": "f3071b81-9a5a-4de9-8b5e-65289584cc31"
      },
      "execution_count": 57,
      "outputs": [
        {
          "output_type": "stream",
          "name": "stdout",
          "text": [
            "Epoch 6/100\n",
            "20/20 [==============================] - 1s 12ms/step - loss: 0.5303 - accuracy: 0.7296 - val_loss: 0.5135 - val_accuracy: 0.7792\n",
            "Epoch 7/100\n",
            "20/20 [==============================] - 0s 5ms/step - loss: 0.5184 - accuracy: 0.7410 - val_loss: 0.5018 - val_accuracy: 0.7662\n",
            "Epoch 8/100\n",
            "20/20 [==============================] - 0s 6ms/step - loss: 0.5081 - accuracy: 0.7459 - val_loss: 0.4949 - val_accuracy: 0.7662\n",
            "Epoch 9/100\n",
            "20/20 [==============================] - 0s 5ms/step - loss: 0.4998 - accuracy: 0.7557 - val_loss: 0.4874 - val_accuracy: 0.7662\n",
            "Epoch 10/100\n",
            "20/20 [==============================] - 0s 5ms/step - loss: 0.4923 - accuracy: 0.7590 - val_loss: 0.4802 - val_accuracy: 0.7857\n",
            "Epoch 11/100\n",
            "20/20 [==============================] - 0s 5ms/step - loss: 0.4865 - accuracy: 0.7606 - val_loss: 0.4739 - val_accuracy: 0.7792\n",
            "Epoch 12/100\n",
            "20/20 [==============================] - 0s 5ms/step - loss: 0.4815 - accuracy: 0.7638 - val_loss: 0.4715 - val_accuracy: 0.7857\n",
            "Epoch 13/100\n",
            "20/20 [==============================] - 0s 6ms/step - loss: 0.4767 - accuracy: 0.7655 - val_loss: 0.4672 - val_accuracy: 0.7727\n",
            "Epoch 14/100\n",
            "20/20 [==============================] - 0s 6ms/step - loss: 0.4731 - accuracy: 0.7671 - val_loss: 0.4645 - val_accuracy: 0.7662\n",
            "Epoch 15/100\n",
            "20/20 [==============================] - 0s 6ms/step - loss: 0.4703 - accuracy: 0.7655 - val_loss: 0.4646 - val_accuracy: 0.7792\n",
            "Epoch 16/100\n",
            "20/20 [==============================] - 0s 5ms/step - loss: 0.4672 - accuracy: 0.7687 - val_loss: 0.4626 - val_accuracy: 0.7792\n",
            "Epoch 17/100\n",
            "20/20 [==============================] - 0s 5ms/step - loss: 0.4649 - accuracy: 0.7671 - val_loss: 0.4631 - val_accuracy: 0.7922\n",
            "Epoch 18/100\n",
            "20/20 [==============================] - 0s 5ms/step - loss: 0.4628 - accuracy: 0.7671 - val_loss: 0.4627 - val_accuracy: 0.7922\n",
            "Epoch 19/100\n",
            "20/20 [==============================] - 0s 5ms/step - loss: 0.4612 - accuracy: 0.7671 - val_loss: 0.4621 - val_accuracy: 0.7922\n",
            "Epoch 20/100\n",
            "20/20 [==============================] - 0s 5ms/step - loss: 0.4593 - accuracy: 0.7655 - val_loss: 0.4611 - val_accuracy: 0.7857\n",
            "Epoch 21/100\n",
            "20/20 [==============================] - 0s 5ms/step - loss: 0.4581 - accuracy: 0.7704 - val_loss: 0.4588 - val_accuracy: 0.7857\n",
            "Epoch 22/100\n",
            "20/20 [==============================] - 0s 6ms/step - loss: 0.4572 - accuracy: 0.7704 - val_loss: 0.4574 - val_accuracy: 0.7922\n",
            "Epoch 23/100\n",
            "20/20 [==============================] - 0s 5ms/step - loss: 0.4563 - accuracy: 0.7769 - val_loss: 0.4577 - val_accuracy: 0.7792\n",
            "Epoch 24/100\n",
            "20/20 [==============================] - 0s 5ms/step - loss: 0.4553 - accuracy: 0.7736 - val_loss: 0.4564 - val_accuracy: 0.7857\n",
            "Epoch 25/100\n",
            "20/20 [==============================] - 0s 5ms/step - loss: 0.4540 - accuracy: 0.7752 - val_loss: 0.4584 - val_accuracy: 0.7792\n",
            "Epoch 26/100\n",
            "20/20 [==============================] - 0s 6ms/step - loss: 0.4527 - accuracy: 0.7736 - val_loss: 0.4587 - val_accuracy: 0.7922\n",
            "Epoch 27/100\n",
            "20/20 [==============================] - 0s 5ms/step - loss: 0.4519 - accuracy: 0.7752 - val_loss: 0.4603 - val_accuracy: 0.7987\n",
            "Epoch 28/100\n",
            "20/20 [==============================] - 0s 5ms/step - loss: 0.4514 - accuracy: 0.7736 - val_loss: 0.4593 - val_accuracy: 0.7987\n",
            "Epoch 29/100\n",
            "20/20 [==============================] - 0s 5ms/step - loss: 0.4503 - accuracy: 0.7752 - val_loss: 0.4588 - val_accuracy: 0.7987\n",
            "Epoch 30/100\n",
            "20/20 [==============================] - 0s 5ms/step - loss: 0.4495 - accuracy: 0.7752 - val_loss: 0.4586 - val_accuracy: 0.7987\n",
            "Epoch 31/100\n",
            "20/20 [==============================] - 0s 5ms/step - loss: 0.4487 - accuracy: 0.7818 - val_loss: 0.4589 - val_accuracy: 0.7922\n",
            "Epoch 32/100\n",
            "20/20 [==============================] - 0s 5ms/step - loss: 0.4481 - accuracy: 0.7801 - val_loss: 0.4581 - val_accuracy: 0.7792\n",
            "Epoch 33/100\n",
            "20/20 [==============================] - 0s 5ms/step - loss: 0.4476 - accuracy: 0.7769 - val_loss: 0.4583 - val_accuracy: 0.7727\n",
            "Epoch 34/100\n",
            "20/20 [==============================] - 0s 5ms/step - loss: 0.4467 - accuracy: 0.7769 - val_loss: 0.4578 - val_accuracy: 0.7727\n",
            "Epoch 35/100\n",
            "20/20 [==============================] - 0s 5ms/step - loss: 0.4461 - accuracy: 0.7801 - val_loss: 0.4568 - val_accuracy: 0.7792\n",
            "Epoch 36/100\n",
            "20/20 [==============================] - 0s 5ms/step - loss: 0.4460 - accuracy: 0.7769 - val_loss: 0.4581 - val_accuracy: 0.7792\n",
            "Epoch 37/100\n",
            "20/20 [==============================] - 0s 5ms/step - loss: 0.4449 - accuracy: 0.7801 - val_loss: 0.4577 - val_accuracy: 0.7857\n",
            "Epoch 38/100\n",
            "20/20 [==============================] - 0s 5ms/step - loss: 0.4447 - accuracy: 0.7785 - val_loss: 0.4570 - val_accuracy: 0.7922\n",
            "Epoch 39/100\n",
            "20/20 [==============================] - 0s 6ms/step - loss: 0.4438 - accuracy: 0.7834 - val_loss: 0.4576 - val_accuracy: 0.7857\n",
            "Epoch 40/100\n",
            "20/20 [==============================] - 0s 6ms/step - loss: 0.4436 - accuracy: 0.7801 - val_loss: 0.4567 - val_accuracy: 0.7922\n",
            "Epoch 41/100\n",
            "20/20 [==============================] - 0s 5ms/step - loss: 0.4434 - accuracy: 0.7834 - val_loss: 0.4597 - val_accuracy: 0.7857\n",
            "Epoch 42/100\n",
            "20/20 [==============================] - 0s 5ms/step - loss: 0.4427 - accuracy: 0.7818 - val_loss: 0.4587 - val_accuracy: 0.7792\n",
            "Epoch 43/100\n",
            "20/20 [==============================] - 0s 5ms/step - loss: 0.4416 - accuracy: 0.7818 - val_loss: 0.4596 - val_accuracy: 0.7857\n",
            "Epoch 44/100\n",
            "20/20 [==============================] - 0s 6ms/step - loss: 0.4411 - accuracy: 0.7785 - val_loss: 0.4585 - val_accuracy: 0.7922\n",
            "Epoch 45/100\n",
            "20/20 [==============================] - 0s 5ms/step - loss: 0.4406 - accuracy: 0.7801 - val_loss: 0.4591 - val_accuracy: 0.7792\n",
            "Epoch 46/100\n",
            "20/20 [==============================] - 0s 5ms/step - loss: 0.4402 - accuracy: 0.7801 - val_loss: 0.4588 - val_accuracy: 0.7857\n",
            "Epoch 47/100\n",
            "20/20 [==============================] - 0s 5ms/step - loss: 0.4400 - accuracy: 0.7752 - val_loss: 0.4593 - val_accuracy: 0.7857\n",
            "Epoch 48/100\n",
            "20/20 [==============================] - 0s 5ms/step - loss: 0.4395 - accuracy: 0.7818 - val_loss: 0.4588 - val_accuracy: 0.7857\n",
            "Epoch 49/100\n",
            "20/20 [==============================] - 0s 5ms/step - loss: 0.4387 - accuracy: 0.7818 - val_loss: 0.4578 - val_accuracy: 0.7987\n",
            "Epoch 50/100\n",
            "20/20 [==============================] - 0s 6ms/step - loss: 0.4388 - accuracy: 0.7818 - val_loss: 0.4581 - val_accuracy: 0.8052\n",
            "Epoch 51/100\n",
            "20/20 [==============================] - 0s 5ms/step - loss: 0.4380 - accuracy: 0.7818 - val_loss: 0.4585 - val_accuracy: 0.8052\n",
            "Epoch 52/100\n",
            "20/20 [==============================] - 0s 5ms/step - loss: 0.4377 - accuracy: 0.7801 - val_loss: 0.4584 - val_accuracy: 0.8052\n",
            "Epoch 53/100\n",
            "20/20 [==============================] - 0s 5ms/step - loss: 0.4371 - accuracy: 0.7752 - val_loss: 0.4593 - val_accuracy: 0.8052\n",
            "Epoch 54/100\n",
            "20/20 [==============================] - 0s 5ms/step - loss: 0.4366 - accuracy: 0.7801 - val_loss: 0.4591 - val_accuracy: 0.7922\n",
            "Epoch 55/100\n",
            "20/20 [==============================] - 0s 5ms/step - loss: 0.4363 - accuracy: 0.7801 - val_loss: 0.4578 - val_accuracy: 0.7922\n",
            "Epoch 56/100\n",
            "20/20 [==============================] - 0s 5ms/step - loss: 0.4355 - accuracy: 0.7801 - val_loss: 0.4583 - val_accuracy: 0.7987\n",
            "Epoch 57/100\n",
            "20/20 [==============================] - 0s 5ms/step - loss: 0.4353 - accuracy: 0.7801 - val_loss: 0.4605 - val_accuracy: 0.7857\n",
            "Epoch 58/100\n",
            "20/20 [==============================] - 0s 5ms/step - loss: 0.4355 - accuracy: 0.7834 - val_loss: 0.4595 - val_accuracy: 0.7922\n",
            "Epoch 59/100\n",
            "20/20 [==============================] - 0s 5ms/step - loss: 0.4343 - accuracy: 0.7850 - val_loss: 0.4582 - val_accuracy: 0.7987\n",
            "Epoch 60/100\n",
            "20/20 [==============================] - 0s 5ms/step - loss: 0.4339 - accuracy: 0.7834 - val_loss: 0.4583 - val_accuracy: 0.7987\n",
            "Epoch 61/100\n",
            "20/20 [==============================] - 0s 5ms/step - loss: 0.4338 - accuracy: 0.7850 - val_loss: 0.4587 - val_accuracy: 0.7987\n",
            "Epoch 62/100\n",
            "20/20 [==============================] - 0s 5ms/step - loss: 0.4336 - accuracy: 0.7866 - val_loss: 0.4591 - val_accuracy: 0.7987\n",
            "Epoch 63/100\n",
            "20/20 [==============================] - 0s 6ms/step - loss: 0.4330 - accuracy: 0.7850 - val_loss: 0.4598 - val_accuracy: 0.7987\n",
            "Epoch 64/100\n",
            "20/20 [==============================] - 0s 5ms/step - loss: 0.4325 - accuracy: 0.7883 - val_loss: 0.4604 - val_accuracy: 0.7987\n",
            "Epoch 65/100\n",
            "20/20 [==============================] - 0s 7ms/step - loss: 0.4328 - accuracy: 0.7818 - val_loss: 0.4587 - val_accuracy: 0.7922\n",
            "Epoch 66/100\n",
            "20/20 [==============================] - 0s 9ms/step - loss: 0.4318 - accuracy: 0.7834 - val_loss: 0.4588 - val_accuracy: 0.7922\n",
            "Epoch 67/100\n",
            "20/20 [==============================] - 0s 7ms/step - loss: 0.4318 - accuracy: 0.7834 - val_loss: 0.4586 - val_accuracy: 0.7987\n",
            "Epoch 68/100\n",
            "20/20 [==============================] - 0s 7ms/step - loss: 0.4311 - accuracy: 0.7834 - val_loss: 0.4572 - val_accuracy: 0.7987\n",
            "Epoch 69/100\n",
            "20/20 [==============================] - 0s 7ms/step - loss: 0.4310 - accuracy: 0.7818 - val_loss: 0.4575 - val_accuracy: 0.7987\n",
            "Epoch 70/100\n",
            "20/20 [==============================] - 0s 7ms/step - loss: 0.4303 - accuracy: 0.7850 - val_loss: 0.4576 - val_accuracy: 0.7987\n",
            "Epoch 71/100\n",
            "20/20 [==============================] - 0s 7ms/step - loss: 0.4304 - accuracy: 0.7866 - val_loss: 0.4575 - val_accuracy: 0.7987\n",
            "Epoch 72/100\n",
            "20/20 [==============================] - 0s 7ms/step - loss: 0.4294 - accuracy: 0.7834 - val_loss: 0.4583 - val_accuracy: 0.7987\n",
            "Epoch 73/100\n",
            "20/20 [==============================] - 0s 7ms/step - loss: 0.4294 - accuracy: 0.7834 - val_loss: 0.4585 - val_accuracy: 0.7987\n",
            "Epoch 74/100\n",
            "20/20 [==============================] - 0s 7ms/step - loss: 0.4287 - accuracy: 0.7866 - val_loss: 0.4577 - val_accuracy: 0.7987\n",
            "Epoch 75/100\n",
            "20/20 [==============================] - 0s 7ms/step - loss: 0.4288 - accuracy: 0.7866 - val_loss: 0.4592 - val_accuracy: 0.7987\n",
            "Epoch 76/100\n",
            "20/20 [==============================] - 0s 7ms/step - loss: 0.4285 - accuracy: 0.7866 - val_loss: 0.4560 - val_accuracy: 0.8052\n",
            "Epoch 77/100\n",
            "20/20 [==============================] - 0s 7ms/step - loss: 0.4283 - accuracy: 0.7883 - val_loss: 0.4559 - val_accuracy: 0.7922\n",
            "Epoch 78/100\n",
            "20/20 [==============================] - 0s 7ms/step - loss: 0.4276 - accuracy: 0.7883 - val_loss: 0.4567 - val_accuracy: 0.7987\n",
            "Epoch 79/100\n",
            "20/20 [==============================] - 0s 7ms/step - loss: 0.4270 - accuracy: 0.7866 - val_loss: 0.4559 - val_accuracy: 0.8052\n",
            "Epoch 80/100\n",
            "20/20 [==============================] - 0s 6ms/step - loss: 0.4271 - accuracy: 0.7899 - val_loss: 0.4555 - val_accuracy: 0.7987\n",
            "Epoch 81/100\n",
            "20/20 [==============================] - 0s 7ms/step - loss: 0.4270 - accuracy: 0.7948 - val_loss: 0.4548 - val_accuracy: 0.7987\n",
            "Epoch 82/100\n",
            "20/20 [==============================] - 0s 6ms/step - loss: 0.4267 - accuracy: 0.7915 - val_loss: 0.4550 - val_accuracy: 0.7987\n",
            "Epoch 83/100\n",
            "20/20 [==============================] - 0s 6ms/step - loss: 0.4262 - accuracy: 0.7932 - val_loss: 0.4554 - val_accuracy: 0.7987\n",
            "Epoch 84/100\n",
            "20/20 [==============================] - 0s 6ms/step - loss: 0.4258 - accuracy: 0.7948 - val_loss: 0.4554 - val_accuracy: 0.7987\n",
            "Epoch 85/100\n",
            "20/20 [==============================] - 0s 7ms/step - loss: 0.4259 - accuracy: 0.7915 - val_loss: 0.4563 - val_accuracy: 0.7922\n",
            "Epoch 86/100\n",
            "20/20 [==============================] - 0s 7ms/step - loss: 0.4251 - accuracy: 0.7932 - val_loss: 0.4553 - val_accuracy: 0.7987\n",
            "Epoch 87/100\n",
            "20/20 [==============================] - 0s 7ms/step - loss: 0.4250 - accuracy: 0.7948 - val_loss: 0.4558 - val_accuracy: 0.8052\n",
            "Epoch 88/100\n",
            "20/20 [==============================] - 0s 9ms/step - loss: 0.4245 - accuracy: 0.7948 - val_loss: 0.4535 - val_accuracy: 0.7987\n",
            "Epoch 89/100\n",
            "20/20 [==============================] - 0s 7ms/step - loss: 0.4239 - accuracy: 0.7964 - val_loss: 0.4528 - val_accuracy: 0.7987\n",
            "Epoch 90/100\n",
            "20/20 [==============================] - 0s 6ms/step - loss: 0.4239 - accuracy: 0.7932 - val_loss: 0.4535 - val_accuracy: 0.7987\n",
            "Epoch 91/100\n",
            "20/20 [==============================] - 0s 5ms/step - loss: 0.4240 - accuracy: 0.7964 - val_loss: 0.4536 - val_accuracy: 0.8117\n",
            "Epoch 92/100\n",
            "20/20 [==============================] - 0s 5ms/step - loss: 0.4234 - accuracy: 0.7964 - val_loss: 0.4539 - val_accuracy: 0.8117\n",
            "Epoch 93/100\n",
            "20/20 [==============================] - 0s 5ms/step - loss: 0.4232 - accuracy: 0.7964 - val_loss: 0.4550 - val_accuracy: 0.8052\n",
            "Epoch 94/100\n",
            "20/20 [==============================] - 0s 5ms/step - loss: 0.4228 - accuracy: 0.7964 - val_loss: 0.4550 - val_accuracy: 0.8052\n",
            "Epoch 95/100\n",
            "20/20 [==============================] - 0s 5ms/step - loss: 0.4225 - accuracy: 0.7948 - val_loss: 0.4544 - val_accuracy: 0.7987\n",
            "Epoch 96/100\n",
            "20/20 [==============================] - 0s 5ms/step - loss: 0.4225 - accuracy: 0.7948 - val_loss: 0.4564 - val_accuracy: 0.7987\n",
            "Epoch 97/100\n",
            "20/20 [==============================] - 0s 5ms/step - loss: 0.4218 - accuracy: 0.7980 - val_loss: 0.4557 - val_accuracy: 0.7987\n",
            "Epoch 98/100\n",
            "20/20 [==============================] - 0s 5ms/step - loss: 0.4220 - accuracy: 0.7997 - val_loss: 0.4571 - val_accuracy: 0.7987\n",
            "Epoch 99/100\n",
            "20/20 [==============================] - 0s 5ms/step - loss: 0.4211 - accuracy: 0.8013 - val_loss: 0.4565 - val_accuracy: 0.7987\n",
            "Epoch 100/100\n",
            "20/20 [==============================] - 0s 6ms/step - loss: 0.4212 - accuracy: 0.7980 - val_loss: 0.4564 - val_accuracy: 0.7987\n"
          ]
        },
        {
          "output_type": "execute_result",
          "data": {
            "text/plain": [
              "<keras.callbacks.History at 0x7feac0268b50>"
            ]
          },
          "metadata": {},
          "execution_count": 57
        }
      ]
    },
    {
      "cell_type": "code",
      "source": [
        "def build_model(hp):\n",
        "  model= Sequential()\n",
        "\n",
        "  units = hp.Int(\"units\",min_value=8,max_value=128,step=1)\n",
        "  model.add(Dense(units=units,activation='relu',input_dim=8))\n",
        "  model.add(Dense(1, activation='sigmoid'))\n",
        "\n",
        "  model.compile(optimizer='adam',loss='binary_crossentropy', metrics=['accuracy'])\n",
        "  return model"
      ],
      "metadata": {
        "id": "_eDl_dYbtrjE"
      },
      "execution_count": 64,
      "outputs": []
    },
    {
      "cell_type": "code",
      "source": [
        "tuner = kt.RandomSearch(build_model,\n",
        "                        objective='val_accuracy',\n",
        "                        max_trials=5,\n",
        "                        directory='mydir',\n",
        "                        project_name='alpha')"
      ],
      "metadata": {
        "id": "IEeEKikGusIM"
      },
      "execution_count": 65,
      "outputs": []
    },
    {
      "cell_type": "code",
      "source": [
        "tuner.search(x_train,y_train, epochs=5, validation_data=(x_test,y_test))"
      ],
      "metadata": {
        "colab": {
          "base_uri": "https://localhost:8080/"
        },
        "id": "zvIPYfCIvIeV",
        "outputId": "30a549ea-6cc7-4860-b61b-ed8b29ecf795"
      },
      "execution_count": 66,
      "outputs": [
        {
          "output_type": "stream",
          "name": "stdout",
          "text": [
            "Trial 5 Complete [00h 00m 03s]\n",
            "val_accuracy: 0.7922077775001526\n",
            "\n",
            "Best val_accuracy So Far: 0.798701286315918\n",
            "Total elapsed time: 00h 00m 11s\n"
          ]
        }
      ]
    },
    {
      "cell_type": "code",
      "source": [
        "tuner.get_best_hyperparameters()[0].values\n"
      ],
      "metadata": {
        "colab": {
          "base_uri": "https://localhost:8080/"
        },
        "id": "BZ-wrCPrvZFa",
        "outputId": "c43b4088-6f03-43cf-d9d9-a71cd58c2977"
      },
      "execution_count": 67,
      "outputs": [
        {
          "output_type": "execute_result",
          "data": {
            "text/plain": [
              "{'units': 46}"
            ]
          },
          "metadata": {},
          "execution_count": 67
        }
      ]
    },
    {
      "cell_type": "code",
      "source": [
        "model = tuner.get_best_models(num_models=1)[0]"
      ],
      "metadata": {
        "id": "YPmp41gOwGwO"
      },
      "execution_count": 68,
      "outputs": []
    },
    {
      "cell_type": "code",
      "source": [
        "model.fit(x_train,y_train, validation_data=(x_test,y_test),epochs=100, initial_epoch=6)"
      ],
      "metadata": {
        "colab": {
          "base_uri": "https://localhost:8080/"
        },
        "id": "_VpOAk2JwVAE",
        "outputId": "0665dbac-f6cc-429d-92d1-17fa4f23b3db"
      },
      "execution_count": 69,
      "outputs": [
        {
          "output_type": "stream",
          "name": "stdout",
          "text": [
            "Epoch 7/100\n",
            "20/20 [==============================] - 1s 12ms/step - loss: 0.5388 - accuracy: 0.7671 - val_loss: 0.5012 - val_accuracy: 0.7987\n",
            "Epoch 8/100\n",
            "20/20 [==============================] - 0s 5ms/step - loss: 0.5143 - accuracy: 0.7704 - val_loss: 0.4831 - val_accuracy: 0.7987\n",
            "Epoch 9/100\n",
            "20/20 [==============================] - 0s 5ms/step - loss: 0.4974 - accuracy: 0.7752 - val_loss: 0.4714 - val_accuracy: 0.7857\n",
            "Epoch 10/100\n",
            "20/20 [==============================] - 0s 5ms/step - loss: 0.4858 - accuracy: 0.7752 - val_loss: 0.4645 - val_accuracy: 0.7792\n",
            "Epoch 11/100\n",
            "20/20 [==============================] - 0s 5ms/step - loss: 0.4778 - accuracy: 0.7736 - val_loss: 0.4575 - val_accuracy: 0.7857\n",
            "Epoch 12/100\n",
            "20/20 [==============================] - 0s 5ms/step - loss: 0.4721 - accuracy: 0.7752 - val_loss: 0.4545 - val_accuracy: 0.7792\n",
            "Epoch 13/100\n",
            "20/20 [==============================] - 0s 5ms/step - loss: 0.4677 - accuracy: 0.7769 - val_loss: 0.4529 - val_accuracy: 0.7727\n",
            "Epoch 14/100\n",
            "20/20 [==============================] - 0s 6ms/step - loss: 0.4633 - accuracy: 0.7785 - val_loss: 0.4515 - val_accuracy: 0.7727\n",
            "Epoch 15/100\n",
            "20/20 [==============================] - 0s 8ms/step - loss: 0.4608 - accuracy: 0.7720 - val_loss: 0.4494 - val_accuracy: 0.7792\n",
            "Epoch 16/100\n",
            "20/20 [==============================] - 0s 7ms/step - loss: 0.4579 - accuracy: 0.7785 - val_loss: 0.4502 - val_accuracy: 0.7727\n",
            "Epoch 17/100\n",
            "20/20 [==============================] - 0s 7ms/step - loss: 0.4568 - accuracy: 0.7769 - val_loss: 0.4474 - val_accuracy: 0.7792\n",
            "Epoch 18/100\n",
            "20/20 [==============================] - 0s 6ms/step - loss: 0.4541 - accuracy: 0.7801 - val_loss: 0.4475 - val_accuracy: 0.7727\n",
            "Epoch 19/100\n",
            "20/20 [==============================] - 0s 7ms/step - loss: 0.4539 - accuracy: 0.7866 - val_loss: 0.4509 - val_accuracy: 0.7662\n",
            "Epoch 20/100\n",
            "20/20 [==============================] - 0s 6ms/step - loss: 0.4528 - accuracy: 0.7866 - val_loss: 0.4503 - val_accuracy: 0.7857\n",
            "Epoch 21/100\n",
            "20/20 [==============================] - 0s 7ms/step - loss: 0.4502 - accuracy: 0.7834 - val_loss: 0.4486 - val_accuracy: 0.7727\n",
            "Epoch 22/100\n",
            "20/20 [==============================] - 0s 7ms/step - loss: 0.4492 - accuracy: 0.7785 - val_loss: 0.4483 - val_accuracy: 0.7792\n",
            "Epoch 23/100\n",
            "20/20 [==============================] - 0s 7ms/step - loss: 0.4480 - accuracy: 0.7834 - val_loss: 0.4467 - val_accuracy: 0.7857\n",
            "Epoch 24/100\n",
            "20/20 [==============================] - 0s 7ms/step - loss: 0.4473 - accuracy: 0.7818 - val_loss: 0.4470 - val_accuracy: 0.7922\n",
            "Epoch 25/100\n",
            "20/20 [==============================] - 0s 7ms/step - loss: 0.4459 - accuracy: 0.7785 - val_loss: 0.4461 - val_accuracy: 0.7987\n",
            "Epoch 26/100\n",
            "20/20 [==============================] - 0s 7ms/step - loss: 0.4448 - accuracy: 0.7801 - val_loss: 0.4460 - val_accuracy: 0.7987\n",
            "Epoch 27/100\n",
            "20/20 [==============================] - 0s 7ms/step - loss: 0.4441 - accuracy: 0.7801 - val_loss: 0.4455 - val_accuracy: 0.7987\n",
            "Epoch 28/100\n",
            "20/20 [==============================] - 0s 7ms/step - loss: 0.4438 - accuracy: 0.7818 - val_loss: 0.4489 - val_accuracy: 0.7792\n",
            "Epoch 29/100\n",
            "20/20 [==============================] - 0s 7ms/step - loss: 0.4424 - accuracy: 0.7818 - val_loss: 0.4489 - val_accuracy: 0.7792\n",
            "Epoch 30/100\n",
            "20/20 [==============================] - 0s 7ms/step - loss: 0.4416 - accuracy: 0.7834 - val_loss: 0.4488 - val_accuracy: 0.7792\n",
            "Epoch 31/100\n",
            "20/20 [==============================] - 0s 7ms/step - loss: 0.4406 - accuracy: 0.7818 - val_loss: 0.4481 - val_accuracy: 0.7857\n",
            "Epoch 32/100\n",
            "20/20 [==============================] - 0s 7ms/step - loss: 0.4399 - accuracy: 0.7818 - val_loss: 0.4485 - val_accuracy: 0.7922\n",
            "Epoch 33/100\n",
            "20/20 [==============================] - 0s 7ms/step - loss: 0.4389 - accuracy: 0.7801 - val_loss: 0.4463 - val_accuracy: 0.8052\n",
            "Epoch 34/100\n",
            "20/20 [==============================] - 0s 7ms/step - loss: 0.4384 - accuracy: 0.7818 - val_loss: 0.4471 - val_accuracy: 0.7987\n",
            "Epoch 35/100\n",
            "20/20 [==============================] - 0s 7ms/step - loss: 0.4388 - accuracy: 0.7834 - val_loss: 0.4486 - val_accuracy: 0.7857\n",
            "Epoch 36/100\n",
            "20/20 [==============================] - 0s 7ms/step - loss: 0.4376 - accuracy: 0.7818 - val_loss: 0.4482 - val_accuracy: 0.7857\n",
            "Epoch 37/100\n",
            "20/20 [==============================] - 0s 6ms/step - loss: 0.4367 - accuracy: 0.7834 - val_loss: 0.4488 - val_accuracy: 0.7857\n",
            "Epoch 38/100\n",
            "20/20 [==============================] - 0s 6ms/step - loss: 0.4364 - accuracy: 0.7818 - val_loss: 0.4498 - val_accuracy: 0.7922\n",
            "Epoch 39/100\n",
            "20/20 [==============================] - 0s 7ms/step - loss: 0.4358 - accuracy: 0.7818 - val_loss: 0.4498 - val_accuracy: 0.7857\n",
            "Epoch 40/100\n",
            "20/20 [==============================] - 0s 7ms/step - loss: 0.4350 - accuracy: 0.7834 - val_loss: 0.4501 - val_accuracy: 0.7922\n",
            "Epoch 41/100\n",
            "20/20 [==============================] - 0s 7ms/step - loss: 0.4346 - accuracy: 0.7818 - val_loss: 0.4496 - val_accuracy: 0.7922\n",
            "Epoch 42/100\n",
            "20/20 [==============================] - 0s 6ms/step - loss: 0.4336 - accuracy: 0.7850 - val_loss: 0.4506 - val_accuracy: 0.7987\n",
            "Epoch 43/100\n",
            "20/20 [==============================] - 0s 5ms/step - loss: 0.4336 - accuracy: 0.7866 - val_loss: 0.4493 - val_accuracy: 0.7987\n",
            "Epoch 44/100\n",
            "20/20 [==============================] - 0s 5ms/step - loss: 0.4330 - accuracy: 0.7866 - val_loss: 0.4507 - val_accuracy: 0.7922\n",
            "Epoch 45/100\n",
            "20/20 [==============================] - 0s 5ms/step - loss: 0.4326 - accuracy: 0.7850 - val_loss: 0.4508 - val_accuracy: 0.7922\n",
            "Epoch 46/100\n",
            "20/20 [==============================] - 0s 4ms/step - loss: 0.4315 - accuracy: 0.7883 - val_loss: 0.4508 - val_accuracy: 0.7987\n",
            "Epoch 47/100\n",
            "20/20 [==============================] - 0s 5ms/step - loss: 0.4323 - accuracy: 0.7834 - val_loss: 0.4499 - val_accuracy: 0.7922\n",
            "Epoch 48/100\n",
            "20/20 [==============================] - 0s 6ms/step - loss: 0.4309 - accuracy: 0.7866 - val_loss: 0.4510 - val_accuracy: 0.7987\n",
            "Epoch 49/100\n",
            "20/20 [==============================] - 0s 5ms/step - loss: 0.4305 - accuracy: 0.7850 - val_loss: 0.4487 - val_accuracy: 0.8052\n",
            "Epoch 50/100\n",
            "20/20 [==============================] - 0s 6ms/step - loss: 0.4299 - accuracy: 0.7866 - val_loss: 0.4482 - val_accuracy: 0.8052\n",
            "Epoch 51/100\n",
            "20/20 [==============================] - 0s 5ms/step - loss: 0.4291 - accuracy: 0.7866 - val_loss: 0.4506 - val_accuracy: 0.7922\n",
            "Epoch 52/100\n",
            "20/20 [==============================] - 0s 6ms/step - loss: 0.4286 - accuracy: 0.7850 - val_loss: 0.4507 - val_accuracy: 0.7922\n",
            "Epoch 53/100\n",
            "20/20 [==============================] - 0s 5ms/step - loss: 0.4280 - accuracy: 0.7834 - val_loss: 0.4500 - val_accuracy: 0.7987\n",
            "Epoch 54/100\n",
            "20/20 [==============================] - 0s 5ms/step - loss: 0.4280 - accuracy: 0.7883 - val_loss: 0.4494 - val_accuracy: 0.7987\n",
            "Epoch 55/100\n",
            "20/20 [==============================] - 0s 6ms/step - loss: 0.4276 - accuracy: 0.7850 - val_loss: 0.4492 - val_accuracy: 0.7987\n",
            "Epoch 56/100\n",
            "20/20 [==============================] - 0s 5ms/step - loss: 0.4267 - accuracy: 0.7866 - val_loss: 0.4501 - val_accuracy: 0.7987\n",
            "Epoch 57/100\n",
            "20/20 [==============================] - 0s 5ms/step - loss: 0.4262 - accuracy: 0.7899 - val_loss: 0.4517 - val_accuracy: 0.7922\n",
            "Epoch 58/100\n",
            "20/20 [==============================] - 0s 5ms/step - loss: 0.4257 - accuracy: 0.7883 - val_loss: 0.4520 - val_accuracy: 0.8052\n",
            "Epoch 59/100\n",
            "20/20 [==============================] - 0s 5ms/step - loss: 0.4253 - accuracy: 0.7883 - val_loss: 0.4525 - val_accuracy: 0.8117\n",
            "Epoch 60/100\n",
            "20/20 [==============================] - 0s 5ms/step - loss: 0.4246 - accuracy: 0.7915 - val_loss: 0.4528 - val_accuracy: 0.7922\n",
            "Epoch 61/100\n",
            "20/20 [==============================] - 0s 5ms/step - loss: 0.4244 - accuracy: 0.7899 - val_loss: 0.4518 - val_accuracy: 0.8052\n",
            "Epoch 62/100\n",
            "20/20 [==============================] - 0s 5ms/step - loss: 0.4243 - accuracy: 0.7850 - val_loss: 0.4509 - val_accuracy: 0.8117\n",
            "Epoch 63/100\n",
            "20/20 [==============================] - 0s 5ms/step - loss: 0.4234 - accuracy: 0.7883 - val_loss: 0.4535 - val_accuracy: 0.7987\n",
            "Epoch 64/100\n",
            "20/20 [==============================] - 0s 5ms/step - loss: 0.4229 - accuracy: 0.7899 - val_loss: 0.4524 - val_accuracy: 0.7922\n",
            "Epoch 65/100\n",
            "20/20 [==============================] - 0s 6ms/step - loss: 0.4226 - accuracy: 0.7915 - val_loss: 0.4524 - val_accuracy: 0.7922\n",
            "Epoch 66/100\n",
            "20/20 [==============================] - 0s 5ms/step - loss: 0.4220 - accuracy: 0.7932 - val_loss: 0.4521 - val_accuracy: 0.7987\n",
            "Epoch 67/100\n",
            "20/20 [==============================] - 0s 5ms/step - loss: 0.4217 - accuracy: 0.7915 - val_loss: 0.4524 - val_accuracy: 0.7987\n",
            "Epoch 68/100\n",
            "20/20 [==============================] - 0s 5ms/step - loss: 0.4215 - accuracy: 0.7915 - val_loss: 0.4521 - val_accuracy: 0.7987\n",
            "Epoch 69/100\n",
            "20/20 [==============================] - 0s 5ms/step - loss: 0.4206 - accuracy: 0.7915 - val_loss: 0.4522 - val_accuracy: 0.7987\n",
            "Epoch 70/100\n",
            "20/20 [==============================] - 0s 5ms/step - loss: 0.4201 - accuracy: 0.7899 - val_loss: 0.4521 - val_accuracy: 0.8117\n",
            "Epoch 71/100\n",
            "20/20 [==============================] - 0s 5ms/step - loss: 0.4203 - accuracy: 0.7883 - val_loss: 0.4524 - val_accuracy: 0.8052\n",
            "Epoch 72/100\n",
            "20/20 [==============================] - 0s 5ms/step - loss: 0.4194 - accuracy: 0.7964 - val_loss: 0.4533 - val_accuracy: 0.7987\n",
            "Epoch 73/100\n",
            "20/20 [==============================] - 0s 5ms/step - loss: 0.4194 - accuracy: 0.7964 - val_loss: 0.4518 - val_accuracy: 0.8182\n",
            "Epoch 74/100\n",
            "20/20 [==============================] - 0s 5ms/step - loss: 0.4186 - accuracy: 0.7948 - val_loss: 0.4501 - val_accuracy: 0.8182\n",
            "Epoch 75/100\n",
            "20/20 [==============================] - 0s 5ms/step - loss: 0.4178 - accuracy: 0.7980 - val_loss: 0.4496 - val_accuracy: 0.8052\n",
            "Epoch 76/100\n",
            "20/20 [==============================] - 0s 5ms/step - loss: 0.4177 - accuracy: 0.7980 - val_loss: 0.4495 - val_accuracy: 0.8182\n",
            "Epoch 77/100\n",
            "20/20 [==============================] - 0s 6ms/step - loss: 0.4176 - accuracy: 0.7997 - val_loss: 0.4507 - val_accuracy: 0.8117\n",
            "Epoch 78/100\n",
            "20/20 [==============================] - 0s 6ms/step - loss: 0.4168 - accuracy: 0.8013 - val_loss: 0.4517 - val_accuracy: 0.8117\n",
            "Epoch 79/100\n",
            "20/20 [==============================] - 0s 6ms/step - loss: 0.4162 - accuracy: 0.7997 - val_loss: 0.4499 - val_accuracy: 0.8117\n",
            "Epoch 80/100\n",
            "20/20 [==============================] - 0s 5ms/step - loss: 0.4163 - accuracy: 0.7948 - val_loss: 0.4494 - val_accuracy: 0.8117\n",
            "Epoch 81/100\n",
            "20/20 [==============================] - 0s 5ms/step - loss: 0.4159 - accuracy: 0.8013 - val_loss: 0.4498 - val_accuracy: 0.8052\n",
            "Epoch 82/100\n",
            "20/20 [==============================] - 0s 5ms/step - loss: 0.4160 - accuracy: 0.8029 - val_loss: 0.4493 - val_accuracy: 0.7987\n",
            "Epoch 83/100\n",
            "20/20 [==============================] - 0s 5ms/step - loss: 0.4154 - accuracy: 0.8094 - val_loss: 0.4511 - val_accuracy: 0.8117\n",
            "Epoch 84/100\n",
            "20/20 [==============================] - 0s 5ms/step - loss: 0.4151 - accuracy: 0.8029 - val_loss: 0.4527 - val_accuracy: 0.8052\n",
            "Epoch 85/100\n",
            "20/20 [==============================] - 0s 5ms/step - loss: 0.4142 - accuracy: 0.8046 - val_loss: 0.4535 - val_accuracy: 0.8182\n",
            "Epoch 86/100\n",
            "20/20 [==============================] - 0s 5ms/step - loss: 0.4142 - accuracy: 0.8078 - val_loss: 0.4551 - val_accuracy: 0.8182\n",
            "Epoch 87/100\n",
            "20/20 [==============================] - 0s 5ms/step - loss: 0.4141 - accuracy: 0.8046 - val_loss: 0.4538 - val_accuracy: 0.8052\n",
            "Epoch 88/100\n",
            "20/20 [==============================] - 0s 5ms/step - loss: 0.4134 - accuracy: 0.8062 - val_loss: 0.4528 - val_accuracy: 0.8182\n",
            "Epoch 89/100\n",
            "20/20 [==============================] - 0s 5ms/step - loss: 0.4131 - accuracy: 0.8078 - val_loss: 0.4518 - val_accuracy: 0.8052\n",
            "Epoch 90/100\n",
            "20/20 [==============================] - 0s 5ms/step - loss: 0.4131 - accuracy: 0.8094 - val_loss: 0.4514 - val_accuracy: 0.8052\n",
            "Epoch 91/100\n",
            "20/20 [==============================] - 0s 5ms/step - loss: 0.4126 - accuracy: 0.8046 - val_loss: 0.4531 - val_accuracy: 0.8052\n",
            "Epoch 92/100\n",
            "20/20 [==============================] - 0s 5ms/step - loss: 0.4115 - accuracy: 0.8062 - val_loss: 0.4535 - val_accuracy: 0.8052\n",
            "Epoch 93/100\n",
            "20/20 [==============================] - 0s 6ms/step - loss: 0.4115 - accuracy: 0.8046 - val_loss: 0.4531 - val_accuracy: 0.8117\n",
            "Epoch 94/100\n",
            "20/20 [==============================] - 0s 5ms/step - loss: 0.4107 - accuracy: 0.8094 - val_loss: 0.4542 - val_accuracy: 0.8117\n",
            "Epoch 95/100\n",
            "20/20 [==============================] - 0s 6ms/step - loss: 0.4107 - accuracy: 0.8078 - val_loss: 0.4537 - val_accuracy: 0.8052\n",
            "Epoch 96/100\n",
            "20/20 [==============================] - 0s 6ms/step - loss: 0.4103 - accuracy: 0.8078 - val_loss: 0.4536 - val_accuracy: 0.8247\n",
            "Epoch 97/100\n",
            "20/20 [==============================] - 0s 5ms/step - loss: 0.4098 - accuracy: 0.8094 - val_loss: 0.4530 - val_accuracy: 0.8182\n",
            "Epoch 98/100\n",
            "20/20 [==============================] - 0s 5ms/step - loss: 0.4100 - accuracy: 0.8094 - val_loss: 0.4529 - val_accuracy: 0.8182\n",
            "Epoch 99/100\n",
            "20/20 [==============================] - 0s 5ms/step - loss: 0.4093 - accuracy: 0.8078 - val_loss: 0.4539 - val_accuracy: 0.8182\n",
            "Epoch 100/100\n",
            "20/20 [==============================] - 0s 5ms/step - loss: 0.4105 - accuracy: 0.8062 - val_loss: 0.4527 - val_accuracy: 0.8117\n"
          ]
        },
        {
          "output_type": "execute_result",
          "data": {
            "text/plain": [
              "<keras.callbacks.History at 0x7fea4db1c520>"
            ]
          },
          "metadata": {},
          "execution_count": 69
        }
      ]
    },
    {
      "cell_type": "code",
      "source": [
        "# find No. of layers\n",
        "\n",
        "def build_model(hp):\n",
        "  model = Sequential()\n",
        "  model.add(Dense(46, activation='relu', input_dim=8))\n",
        "  for i in range(hp.Int('num_layers', min_value=1, max_value=10)):\n",
        "\n",
        "    model.add(Dense(72,activation=\"relu\"))\n",
        "\n",
        "  model.add(Dense(1, activation='sigmoid'))\n",
        "  model.compile(optimizer='adam',loss='binary_crossentropy', metrics=['accuracy'])\n",
        "\n",
        "  return model"
      ],
      "metadata": {
        "id": "yz12sxyfwjmp"
      },
      "execution_count": 70,
      "outputs": []
    },
    {
      "cell_type": "code",
      "source": [
        "tuner = kt.RandomSearch(build_model,objective='val_accuracy', max_trials=5,\n",
        "                        directory='mydir',\n",
        "                        project_name='layers_checking')"
      ],
      "metadata": {
        "id": "KZYZ55MbyImo"
      },
      "execution_count": 71,
      "outputs": []
    },
    {
      "cell_type": "code",
      "source": [
        "tuner.search(x_train,y_train, epochs=5, validation_data=(x_test,y_test))"
      ],
      "metadata": {
        "colab": {
          "base_uri": "https://localhost:8080/"
        },
        "id": "Dl7ZfCuwyaMX",
        "outputId": "9bad0e45-3d91-47f2-e9a4-805158792d37"
      },
      "execution_count": 72,
      "outputs": [
        {
          "output_type": "stream",
          "name": "stdout",
          "text": [
            "Trial 5 Complete [00h 00m 03s]\n",
            "val_accuracy: 0.8181818127632141\n",
            "\n",
            "Best val_accuracy So Far: 0.8181818127632141\n",
            "Total elapsed time: 00h 00m 18s\n"
          ]
        }
      ]
    },
    {
      "cell_type": "code",
      "source": [
        "tuner.get_best_hyperparameters()[0].values"
      ],
      "metadata": {
        "colab": {
          "base_uri": "https://localhost:8080/"
        },
        "id": "w-TUF11Cyic0",
        "outputId": "91f46ec7-f99e-4be0-a4e8-decd2b72f4b3"
      },
      "execution_count": 73,
      "outputs": [
        {
          "output_type": "execute_result",
          "data": {
            "text/plain": [
              "{'num_layers': 3}"
            ]
          },
          "metadata": {},
          "execution_count": 73
        }
      ]
    },
    {
      "cell_type": "code",
      "source": [
        "model = tuner.get_best_models(num_models=1)[0]"
      ],
      "metadata": {
        "id": "l87rF-arysSu"
      },
      "execution_count": 74,
      "outputs": []
    },
    {
      "cell_type": "code",
      "source": [
        "model.fit(x_train,y_train, epochs=100, initial_epoch=6,validation_data=(x_test,y_test))"
      ],
      "metadata": {
        "colab": {
          "base_uri": "https://localhost:8080/"
        },
        "id": "VYnmPV7Jyyno",
        "outputId": "9f677966-b03a-4224-bb58-706783297d02"
      },
      "execution_count": 75,
      "outputs": [
        {
          "output_type": "stream",
          "name": "stdout",
          "text": [
            "Epoch 7/100\n",
            "20/20 [==============================] - 2s 14ms/step - loss: 0.4473 - accuracy: 0.7834 - val_loss: 0.4881 - val_accuracy: 0.8052\n",
            "Epoch 8/100\n",
            "20/20 [==============================] - 0s 5ms/step - loss: 0.4382 - accuracy: 0.7883 - val_loss: 0.4857 - val_accuracy: 0.8052\n",
            "Epoch 9/100\n",
            "20/20 [==============================] - 0s 6ms/step - loss: 0.4366 - accuracy: 0.7883 - val_loss: 0.4932 - val_accuracy: 0.7987\n",
            "Epoch 10/100\n",
            "20/20 [==============================] - 0s 6ms/step - loss: 0.4259 - accuracy: 0.7997 - val_loss: 0.4853 - val_accuracy: 0.8182\n",
            "Epoch 11/100\n",
            "20/20 [==============================] - 0s 6ms/step - loss: 0.4145 - accuracy: 0.7980 - val_loss: 0.4979 - val_accuracy: 0.7922\n",
            "Epoch 12/100\n",
            "20/20 [==============================] - 0s 5ms/step - loss: 0.4057 - accuracy: 0.7997 - val_loss: 0.5015 - val_accuracy: 0.7662\n",
            "Epoch 13/100\n",
            "20/20 [==============================] - 0s 5ms/step - loss: 0.4148 - accuracy: 0.8046 - val_loss: 0.4824 - val_accuracy: 0.8117\n",
            "Epoch 14/100\n",
            "20/20 [==============================] - 0s 6ms/step - loss: 0.3967 - accuracy: 0.8127 - val_loss: 0.4849 - val_accuracy: 0.8052\n",
            "Epoch 15/100\n",
            "20/20 [==============================] - 0s 6ms/step - loss: 0.3826 - accuracy: 0.8274 - val_loss: 0.4851 - val_accuracy: 0.8247\n",
            "Epoch 16/100\n",
            "20/20 [==============================] - 0s 5ms/step - loss: 0.3706 - accuracy: 0.8322 - val_loss: 0.4770 - val_accuracy: 0.8117\n",
            "Epoch 17/100\n",
            "20/20 [==============================] - 0s 6ms/step - loss: 0.3612 - accuracy: 0.8257 - val_loss: 0.4826 - val_accuracy: 0.7662\n",
            "Epoch 18/100\n",
            "20/20 [==============================] - 0s 5ms/step - loss: 0.3602 - accuracy: 0.8404 - val_loss: 0.4931 - val_accuracy: 0.7857\n",
            "Epoch 19/100\n",
            "20/20 [==============================] - 0s 8ms/step - loss: 0.3430 - accuracy: 0.8599 - val_loss: 0.4944 - val_accuracy: 0.7532\n",
            "Epoch 20/100\n",
            "20/20 [==============================] - 0s 7ms/step - loss: 0.3371 - accuracy: 0.8534 - val_loss: 0.5050 - val_accuracy: 0.7597\n",
            "Epoch 21/100\n",
            "20/20 [==============================] - 0s 7ms/step - loss: 0.3216 - accuracy: 0.8550 - val_loss: 0.4956 - val_accuracy: 0.7727\n",
            "Epoch 22/100\n",
            "20/20 [==============================] - 0s 8ms/step - loss: 0.3051 - accuracy: 0.8730 - val_loss: 0.5389 - val_accuracy: 0.7662\n",
            "Epoch 23/100\n",
            "20/20 [==============================] - 0s 8ms/step - loss: 0.3061 - accuracy: 0.8583 - val_loss: 0.5250 - val_accuracy: 0.7792\n",
            "Epoch 24/100\n",
            "20/20 [==============================] - 0s 7ms/step - loss: 0.2851 - accuracy: 0.8860 - val_loss: 0.5508 - val_accuracy: 0.7792\n",
            "Epoch 25/100\n",
            "20/20 [==============================] - 0s 8ms/step - loss: 0.2774 - accuracy: 0.8958 - val_loss: 0.5551 - val_accuracy: 0.7792\n",
            "Epoch 26/100\n",
            "20/20 [==============================] - 0s 7ms/step - loss: 0.2697 - accuracy: 0.8925 - val_loss: 0.5639 - val_accuracy: 0.7792\n",
            "Epoch 27/100\n",
            "20/20 [==============================] - 0s 7ms/step - loss: 0.2568 - accuracy: 0.8844 - val_loss: 0.5877 - val_accuracy: 0.7792\n",
            "Epoch 28/100\n",
            "20/20 [==============================] - 0s 10ms/step - loss: 0.2620 - accuracy: 0.8779 - val_loss: 0.5910 - val_accuracy: 0.7662\n",
            "Epoch 29/100\n",
            "20/20 [==============================] - 0s 8ms/step - loss: 0.2334 - accuracy: 0.9072 - val_loss: 0.6157 - val_accuracy: 0.7792\n",
            "Epoch 30/100\n",
            "20/20 [==============================] - 0s 7ms/step - loss: 0.2162 - accuracy: 0.9186 - val_loss: 0.6582 - val_accuracy: 0.7597\n",
            "Epoch 31/100\n",
            "20/20 [==============================] - 0s 8ms/step - loss: 0.2364 - accuracy: 0.9023 - val_loss: 0.6421 - val_accuracy: 0.7662\n",
            "Epoch 32/100\n",
            "20/20 [==============================] - 0s 7ms/step - loss: 0.2116 - accuracy: 0.9186 - val_loss: 0.6479 - val_accuracy: 0.7532\n",
            "Epoch 33/100\n",
            "20/20 [==============================] - 0s 7ms/step - loss: 0.1997 - accuracy: 0.9251 - val_loss: 0.7122 - val_accuracy: 0.7338\n",
            "Epoch 34/100\n",
            "20/20 [==============================] - 0s 7ms/step - loss: 0.1789 - accuracy: 0.9381 - val_loss: 0.7188 - val_accuracy: 0.7597\n",
            "Epoch 35/100\n",
            "20/20 [==============================] - 0s 8ms/step - loss: 0.1870 - accuracy: 0.9235 - val_loss: 0.6597 - val_accuracy: 0.7922\n",
            "Epoch 36/100\n",
            "20/20 [==============================] - 0s 7ms/step - loss: 0.1636 - accuracy: 0.9397 - val_loss: 0.7451 - val_accuracy: 0.7662\n",
            "Epoch 37/100\n",
            "20/20 [==============================] - 0s 7ms/step - loss: 0.1468 - accuracy: 0.9593 - val_loss: 0.7503 - val_accuracy: 0.7792\n",
            "Epoch 38/100\n",
            "20/20 [==============================] - 0s 7ms/step - loss: 0.1373 - accuracy: 0.9544 - val_loss: 0.7628 - val_accuracy: 0.7922\n",
            "Epoch 39/100\n",
            "20/20 [==============================] - 0s 8ms/step - loss: 0.1265 - accuracy: 0.9609 - val_loss: 0.7953 - val_accuracy: 0.7597\n",
            "Epoch 40/100\n",
            "20/20 [==============================] - 0s 8ms/step - loss: 0.1250 - accuracy: 0.9593 - val_loss: 0.8473 - val_accuracy: 0.7922\n",
            "Epoch 41/100\n",
            "20/20 [==============================] - 0s 7ms/step - loss: 0.1187 - accuracy: 0.9658 - val_loss: 0.8866 - val_accuracy: 0.7597\n",
            "Epoch 42/100\n",
            "20/20 [==============================] - 0s 9ms/step - loss: 0.1023 - accuracy: 0.9674 - val_loss: 0.8204 - val_accuracy: 0.7922\n",
            "Epoch 43/100\n",
            "20/20 [==============================] - 0s 6ms/step - loss: 0.1063 - accuracy: 0.9577 - val_loss: 0.9448 - val_accuracy: 0.7403\n",
            "Epoch 44/100\n",
            "20/20 [==============================] - 0s 6ms/step - loss: 0.1089 - accuracy: 0.9642 - val_loss: 0.9590 - val_accuracy: 0.7597\n",
            "Epoch 45/100\n",
            "20/20 [==============================] - 0s 6ms/step - loss: 0.1230 - accuracy: 0.9577 - val_loss: 0.8951 - val_accuracy: 0.7662\n",
            "Epoch 46/100\n",
            "20/20 [==============================] - 0s 6ms/step - loss: 0.0905 - accuracy: 0.9691 - val_loss: 0.9906 - val_accuracy: 0.7468\n",
            "Epoch 47/100\n",
            "20/20 [==============================] - 0s 6ms/step - loss: 0.1241 - accuracy: 0.9658 - val_loss: 0.9819 - val_accuracy: 0.7792\n",
            "Epoch 48/100\n",
            "20/20 [==============================] - 0s 5ms/step - loss: 0.1083 - accuracy: 0.9577 - val_loss: 1.0311 - val_accuracy: 0.7403\n",
            "Epoch 49/100\n",
            "20/20 [==============================] - 0s 6ms/step - loss: 0.0898 - accuracy: 0.9739 - val_loss: 1.0344 - val_accuracy: 0.7922\n",
            "Epoch 50/100\n",
            "20/20 [==============================] - 0s 5ms/step - loss: 0.0854 - accuracy: 0.9723 - val_loss: 1.0272 - val_accuracy: 0.7727\n",
            "Epoch 51/100\n",
            "20/20 [==============================] - 0s 6ms/step - loss: 0.0854 - accuracy: 0.9772 - val_loss: 1.0845 - val_accuracy: 0.7792\n",
            "Epoch 52/100\n",
            "20/20 [==============================] - 0s 5ms/step - loss: 0.0672 - accuracy: 0.9772 - val_loss: 1.0356 - val_accuracy: 0.7792\n",
            "Epoch 53/100\n",
            "20/20 [==============================] - 0s 6ms/step - loss: 0.0491 - accuracy: 0.9870 - val_loss: 1.1119 - val_accuracy: 0.7532\n",
            "Epoch 54/100\n",
            "20/20 [==============================] - 0s 6ms/step - loss: 0.0633 - accuracy: 0.9805 - val_loss: 1.0950 - val_accuracy: 0.7468\n",
            "Epoch 55/100\n",
            "20/20 [==============================] - 0s 6ms/step - loss: 0.0499 - accuracy: 0.9870 - val_loss: 1.1849 - val_accuracy: 0.7857\n",
            "Epoch 56/100\n",
            "20/20 [==============================] - 0s 6ms/step - loss: 0.0427 - accuracy: 0.9919 - val_loss: 1.1485 - val_accuracy: 0.7532\n",
            "Epoch 57/100\n",
            "20/20 [==============================] - 0s 6ms/step - loss: 0.0500 - accuracy: 0.9853 - val_loss: 1.1663 - val_accuracy: 0.7532\n",
            "Epoch 58/100\n",
            "20/20 [==============================] - 0s 6ms/step - loss: 0.0368 - accuracy: 0.9951 - val_loss: 1.1819 - val_accuracy: 0.7143\n",
            "Epoch 59/100\n",
            "20/20 [==============================] - 0s 6ms/step - loss: 0.0461 - accuracy: 0.9902 - val_loss: 1.3007 - val_accuracy: 0.7727\n",
            "Epoch 60/100\n",
            "20/20 [==============================] - 0s 6ms/step - loss: 0.0462 - accuracy: 0.9853 - val_loss: 1.2021 - val_accuracy: 0.7468\n",
            "Epoch 61/100\n",
            "20/20 [==============================] - 0s 5ms/step - loss: 0.0402 - accuracy: 0.9870 - val_loss: 1.2132 - val_accuracy: 0.7338\n",
            "Epoch 62/100\n",
            "20/20 [==============================] - 0s 6ms/step - loss: 0.0382 - accuracy: 0.9919 - val_loss: 1.3603 - val_accuracy: 0.7468\n",
            "Epoch 63/100\n",
            "20/20 [==============================] - 0s 6ms/step - loss: 0.0674 - accuracy: 0.9788 - val_loss: 1.3296 - val_accuracy: 0.7532\n",
            "Epoch 64/100\n",
            "20/20 [==============================] - 0s 5ms/step - loss: 0.0658 - accuracy: 0.9837 - val_loss: 1.4961 - val_accuracy: 0.7078\n",
            "Epoch 65/100\n",
            "20/20 [==============================] - 0s 5ms/step - loss: 0.0614 - accuracy: 0.9788 - val_loss: 1.3538 - val_accuracy: 0.7662\n",
            "Epoch 66/100\n",
            "20/20 [==============================] - 0s 6ms/step - loss: 0.0419 - accuracy: 0.9870 - val_loss: 1.3346 - val_accuracy: 0.7403\n",
            "Epoch 67/100\n",
            "20/20 [==============================] - 0s 6ms/step - loss: 0.0285 - accuracy: 0.9919 - val_loss: 1.2874 - val_accuracy: 0.7468\n",
            "Epoch 68/100\n",
            "20/20 [==============================] - 0s 5ms/step - loss: 0.0238 - accuracy: 0.9984 - val_loss: 1.3591 - val_accuracy: 0.7403\n",
            "Epoch 69/100\n",
            "20/20 [==============================] - 0s 6ms/step - loss: 0.0248 - accuracy: 0.9951 - val_loss: 1.4006 - val_accuracy: 0.7532\n",
            "Epoch 70/100\n",
            "20/20 [==============================] - 0s 5ms/step - loss: 0.0257 - accuracy: 0.9951 - val_loss: 1.4010 - val_accuracy: 0.7597\n",
            "Epoch 71/100\n",
            "20/20 [==============================] - 0s 5ms/step - loss: 0.0179 - accuracy: 0.9967 - val_loss: 1.4198 - val_accuracy: 0.7403\n",
            "Epoch 72/100\n",
            "20/20 [==============================] - 0s 5ms/step - loss: 0.0134 - accuracy: 0.9984 - val_loss: 1.4403 - val_accuracy: 0.7532\n",
            "Epoch 73/100\n",
            "20/20 [==============================] - 0s 5ms/step - loss: 0.0181 - accuracy: 0.9967 - val_loss: 1.5312 - val_accuracy: 0.7532\n",
            "Epoch 74/100\n",
            "20/20 [==============================] - 0s 6ms/step - loss: 0.0338 - accuracy: 0.9902 - val_loss: 1.6223 - val_accuracy: 0.7273\n",
            "Epoch 75/100\n",
            "20/20 [==============================] - 0s 5ms/step - loss: 0.0322 - accuracy: 0.9935 - val_loss: 1.5078 - val_accuracy: 0.7597\n",
            "Epoch 76/100\n",
            "20/20 [==============================] - 0s 6ms/step - loss: 0.0150 - accuracy: 0.9967 - val_loss: 1.5156 - val_accuracy: 0.7468\n",
            "Epoch 77/100\n",
            "20/20 [==============================] - 0s 6ms/step - loss: 0.0153 - accuracy: 0.9967 - val_loss: 1.5189 - val_accuracy: 0.7532\n",
            "Epoch 78/100\n",
            "20/20 [==============================] - 0s 6ms/step - loss: 0.0139 - accuracy: 0.9967 - val_loss: 1.5630 - val_accuracy: 0.7468\n",
            "Epoch 79/100\n",
            "20/20 [==============================] - 0s 5ms/step - loss: 0.0082 - accuracy: 0.9984 - val_loss: 1.5441 - val_accuracy: 0.7662\n",
            "Epoch 80/100\n",
            "20/20 [==============================] - 0s 5ms/step - loss: 0.0077 - accuracy: 1.0000 - val_loss: 1.6023 - val_accuracy: 0.7403\n",
            "Epoch 81/100\n",
            "20/20 [==============================] - 0s 5ms/step - loss: 0.0106 - accuracy: 0.9967 - val_loss: 1.5968 - val_accuracy: 0.7662\n",
            "Epoch 82/100\n",
            "20/20 [==============================] - 0s 5ms/step - loss: 0.0109 - accuracy: 0.9967 - val_loss: 1.6220 - val_accuracy: 0.7338\n",
            "Epoch 83/100\n",
            "20/20 [==============================] - 0s 5ms/step - loss: 0.0106 - accuracy: 0.9967 - val_loss: 1.6780 - val_accuracy: 0.7403\n",
            "Epoch 84/100\n",
            "20/20 [==============================] - 0s 6ms/step - loss: 0.0093 - accuracy: 0.9967 - val_loss: 1.6618 - val_accuracy: 0.7338\n",
            "Epoch 85/100\n",
            "20/20 [==============================] - 0s 7ms/step - loss: 0.0059 - accuracy: 1.0000 - val_loss: 1.6760 - val_accuracy: 0.7532\n",
            "Epoch 86/100\n",
            "20/20 [==============================] - 0s 5ms/step - loss: 0.0081 - accuracy: 0.9984 - val_loss: 1.7157 - val_accuracy: 0.7468\n",
            "Epoch 87/100\n",
            "20/20 [==============================] - 0s 5ms/step - loss: 0.0066 - accuracy: 1.0000 - val_loss: 1.7126 - val_accuracy: 0.7532\n",
            "Epoch 88/100\n",
            "20/20 [==============================] - 0s 6ms/step - loss: 0.0072 - accuracy: 0.9967 - val_loss: 1.7339 - val_accuracy: 0.7403\n",
            "Epoch 89/100\n",
            "20/20 [==============================] - 0s 5ms/step - loss: 0.0078 - accuracy: 0.9967 - val_loss: 1.7186 - val_accuracy: 0.7403\n",
            "Epoch 90/100\n",
            "20/20 [==============================] - 0s 5ms/step - loss: 0.0135 - accuracy: 0.9967 - val_loss: 1.8280 - val_accuracy: 0.7403\n",
            "Epoch 91/100\n",
            "20/20 [==============================] - 0s 6ms/step - loss: 0.0262 - accuracy: 0.9951 - val_loss: 1.6894 - val_accuracy: 0.7273\n",
            "Epoch 92/100\n",
            "20/20 [==============================] - 0s 6ms/step - loss: 0.0200 - accuracy: 0.9935 - val_loss: 1.7796 - val_accuracy: 0.7597\n",
            "Epoch 93/100\n",
            "20/20 [==============================] - 0s 6ms/step - loss: 0.0231 - accuracy: 0.9935 - val_loss: 1.8544 - val_accuracy: 0.7208\n",
            "Epoch 94/100\n",
            "20/20 [==============================] - 0s 6ms/step - loss: 0.0257 - accuracy: 0.9935 - val_loss: 1.8993 - val_accuracy: 0.7403\n",
            "Epoch 95/100\n",
            "20/20 [==============================] - 0s 6ms/step - loss: 0.1158 - accuracy: 0.9691 - val_loss: 1.7626 - val_accuracy: 0.7468\n",
            "Epoch 96/100\n",
            "20/20 [==============================] - 0s 6ms/step - loss: 0.0716 - accuracy: 0.9805 - val_loss: 1.7482 - val_accuracy: 0.7013\n",
            "Epoch 97/100\n",
            "20/20 [==============================] - 0s 5ms/step - loss: 0.0570 - accuracy: 0.9837 - val_loss: 1.9563 - val_accuracy: 0.7273\n",
            "Epoch 98/100\n",
            "20/20 [==============================] - 0s 6ms/step - loss: 0.1282 - accuracy: 0.9560 - val_loss: 1.9137 - val_accuracy: 0.7143\n",
            "Epoch 99/100\n",
            "20/20 [==============================] - 0s 5ms/step - loss: 0.0521 - accuracy: 0.9805 - val_loss: 1.8369 - val_accuracy: 0.7273\n",
            "Epoch 100/100\n",
            "20/20 [==============================] - 0s 7ms/step - loss: 0.0424 - accuracy: 0.9886 - val_loss: 1.7921 - val_accuracy: 0.7273\n"
          ]
        },
        {
          "output_type": "execute_result",
          "data": {
            "text/plain": [
              "<keras.callbacks.History at 0x7fea4d76e7f0>"
            ]
          },
          "metadata": {},
          "execution_count": 75
        }
      ]
    },
    {
      "cell_type": "code",
      "source": [
        "def build_model(hp):\n",
        "  model=Sequential()\n",
        "  counter = 0\n",
        "  \n",
        "  for i in range(hp.Int('num_layers', min_value=1, max_value=10)):\n",
        "    if counter == 0:\n",
        "      model.add(Dense(hp.Int('units'+ str(i),min_value=8, max_value=128, step=8 ), \n",
        "                      activation= hp.Choice('activation'+ str(i), values=['relu','tanh','sigmoid']),\n",
        "                      input_dim=8\n",
        "                      ))\n",
        "      model.add(Dropout(hp.Choice('dropout' + str(i), values=[0.1,0.2,0.3,0.4,0.5,0.6,0.7,0.8,0.9])))\n",
        "    else:\n",
        "      model.add(Dense(hp.Int('units'+ str(i),min_value=8, max_value=128, step=8 ), \n",
        "                      activation= hp.Choice('activation'+ str(i), values=['relu','tanh','sigmoid'])\n",
        "                      ))\n",
        "      model.add(Dropout(hp.Choice('dropout' + str(i), values=[0.1,0.2,0.3,0.4,0.5,0.6,0.7,0.8,0.9])))\n",
        "      \n",
        "      counter +=1\n",
        "  \n",
        "  model.add(Dense(1, activation='sigmoid'))\n",
        "\n",
        "  model.compile(optimizer=hp.Choice('optimizer', values=['rmsprop','sgd','adam','adadelta','nadam']),\n",
        "              loss='binary_crossentropy',\n",
        "              metrics=['accuracy']\n",
        "  )\n",
        "  return model"
      ],
      "metadata": {
        "id": "1aJ90JT2y84y"
      },
      "execution_count": 102,
      "outputs": []
    },
    {
      "cell_type": "code",
      "source": [
        "tuner = kt.RandomSearch(build_model,\n",
        "                        objective='val_accuracy',\n",
        "                        max_trials=5,\n",
        "                        directory='mydir',\n",
        "                        project_name='all_in_one_final')"
      ],
      "metadata": {
        "id": "U74GdPJX0_WX"
      },
      "execution_count": 103,
      "outputs": []
    },
    {
      "cell_type": "code",
      "source": [
        "tuner.search(x_train,y_train, epochs = 5 , validation_data=(x_test,y_test))"
      ],
      "metadata": {
        "colab": {
          "base_uri": "https://localhost:8080/"
        },
        "id": "T24YRIaW1fSq",
        "outputId": "aded9a2e-db91-4b54-82df-82df8bc3d05e"
      },
      "execution_count": 104,
      "outputs": [
        {
          "output_type": "stream",
          "name": "stdout",
          "text": [
            "Trial 5 Complete [00h 00m 04s]\n",
            "val_accuracy: 0.6428571343421936\n",
            "\n",
            "Best val_accuracy So Far: 0.6428571343421936\n",
            "Total elapsed time: 00h 00m 22s\n"
          ]
        }
      ]
    },
    {
      "cell_type": "code",
      "source": [
        "tuner.get_best_hyperparameters()[0].values"
      ],
      "metadata": {
        "colab": {
          "base_uri": "https://localhost:8080/"
        },
        "id": "e-dFXWGf2BX4",
        "outputId": "bad22145-610a-4bce-c5ff-1cb432a03788"
      },
      "execution_count": 99,
      "outputs": [
        {
          "output_type": "execute_result",
          "data": {
            "text/plain": [
              "{'num_layers': 5,\n",
              " 'units0': 16,\n",
              " 'activation0': 'tanh',\n",
              " 'optimizer': 'sgd',\n",
              " 'units1': 72,\n",
              " 'activation1': 'tanh',\n",
              " 'units2': 104,\n",
              " 'activation2': 'sigmoid',\n",
              " 'units3': 112,\n",
              " 'activation3': 'sigmoid',\n",
              " 'units4': 120,\n",
              " 'activation4': 'relu',\n",
              " 'units5': 8,\n",
              " 'activation5': 'sigmoid',\n",
              " 'units6': 96,\n",
              " 'activation6': 'tanh',\n",
              " 'units7': 64,\n",
              " 'activation7': 'tanh',\n",
              " 'units8': 120,\n",
              " 'activation8': 'relu',\n",
              " 'units9': 8,\n",
              " 'activation9': 'tanh'}"
            ]
          },
          "metadata": {},
          "execution_count": 99
        }
      ]
    },
    {
      "cell_type": "code",
      "source": [
        "model = tuner.get_best_models(num_models=1)[0]"
      ],
      "metadata": {
        "id": "uZZkbrfK2aCQ"
      },
      "execution_count": 105,
      "outputs": []
    },
    {
      "cell_type": "code",
      "source": [
        "model.fit(x_train,y_train, validation_data=(x_test,y_test), epochs=200, initial_epoch=5)"
      ],
      "metadata": {
        "colab": {
          "base_uri": "https://localhost:8080/"
        },
        "id": "IdS9urCP2pX7",
        "outputId": "e4c76624-7375-47fe-ca16-8aa140909a3d"
      },
      "execution_count": 106,
      "outputs": [
        {
          "output_type": "stream",
          "name": "stdout",
          "text": [
            "Epoch 6/200\n",
            "20/20 [==============================] - 2s 16ms/step - loss: 0.6611 - accuracy: 0.6270 - val_loss: 0.6384 - val_accuracy: 0.6429\n",
            "Epoch 7/200\n",
            "20/20 [==============================] - 0s 7ms/step - loss: 0.6373 - accuracy: 0.6384 - val_loss: 0.6096 - val_accuracy: 0.6429\n",
            "Epoch 8/200\n",
            "20/20 [==============================] - 0s 8ms/step - loss: 0.6254 - accuracy: 0.6433 - val_loss: 0.5858 - val_accuracy: 0.6753\n",
            "Epoch 9/200\n",
            "20/20 [==============================] - 0s 7ms/step - loss: 0.6103 - accuracy: 0.6743 - val_loss: 0.5673 - val_accuracy: 0.7078\n",
            "Epoch 10/200\n",
            "20/20 [==============================] - 0s 7ms/step - loss: 0.5902 - accuracy: 0.6743 - val_loss: 0.5513 - val_accuracy: 0.7143\n",
            "Epoch 11/200\n",
            "20/20 [==============================] - 0s 8ms/step - loss: 0.5797 - accuracy: 0.6824 - val_loss: 0.5396 - val_accuracy: 0.7338\n",
            "Epoch 12/200\n",
            "20/20 [==============================] - 0s 8ms/step - loss: 0.5766 - accuracy: 0.6759 - val_loss: 0.5293 - val_accuracy: 0.7597\n",
            "Epoch 13/200\n",
            "20/20 [==============================] - 0s 7ms/step - loss: 0.5694 - accuracy: 0.7150 - val_loss: 0.5190 - val_accuracy: 0.7597\n",
            "Epoch 14/200\n",
            "20/20 [==============================] - 0s 7ms/step - loss: 0.5650 - accuracy: 0.7020 - val_loss: 0.5146 - val_accuracy: 0.7662\n",
            "Epoch 15/200\n",
            "20/20 [==============================] - 0s 7ms/step - loss: 0.5660 - accuracy: 0.7182 - val_loss: 0.5095 - val_accuracy: 0.7662\n",
            "Epoch 16/200\n",
            "20/20 [==============================] - 0s 9ms/step - loss: 0.5429 - accuracy: 0.7362 - val_loss: 0.5043 - val_accuracy: 0.7662\n",
            "Epoch 17/200\n",
            "20/20 [==============================] - 0s 8ms/step - loss: 0.5397 - accuracy: 0.7280 - val_loss: 0.5000 - val_accuracy: 0.7662\n",
            "Epoch 18/200\n",
            "20/20 [==============================] - 0s 7ms/step - loss: 0.5442 - accuracy: 0.7394 - val_loss: 0.4988 - val_accuracy: 0.7727\n",
            "Epoch 19/200\n",
            "20/20 [==============================] - 0s 7ms/step - loss: 0.5226 - accuracy: 0.7378 - val_loss: 0.4945 - val_accuracy: 0.7727\n",
            "Epoch 20/200\n",
            "20/20 [==============================] - 0s 7ms/step - loss: 0.5354 - accuracy: 0.7329 - val_loss: 0.4913 - val_accuracy: 0.7922\n",
            "Epoch 21/200\n",
            "20/20 [==============================] - 0s 7ms/step - loss: 0.5339 - accuracy: 0.7573 - val_loss: 0.4941 - val_accuracy: 0.7922\n",
            "Epoch 22/200\n",
            "20/20 [==============================] - 0s 8ms/step - loss: 0.5179 - accuracy: 0.7248 - val_loss: 0.4958 - val_accuracy: 0.7662\n",
            "Epoch 23/200\n",
            "20/20 [==============================] - 0s 7ms/step - loss: 0.5220 - accuracy: 0.7524 - val_loss: 0.4927 - val_accuracy: 0.7792\n",
            "Epoch 24/200\n",
            "20/20 [==============================] - 0s 7ms/step - loss: 0.5310 - accuracy: 0.7313 - val_loss: 0.4886 - val_accuracy: 0.7987\n",
            "Epoch 25/200\n",
            "20/20 [==============================] - 0s 7ms/step - loss: 0.5296 - accuracy: 0.7345 - val_loss: 0.4927 - val_accuracy: 0.8117\n",
            "Epoch 26/200\n",
            "20/20 [==============================] - 0s 8ms/step - loss: 0.5168 - accuracy: 0.7378 - val_loss: 0.4878 - val_accuracy: 0.7792\n",
            "Epoch 27/200\n",
            "20/20 [==============================] - 0s 7ms/step - loss: 0.5227 - accuracy: 0.7524 - val_loss: 0.4836 - val_accuracy: 0.8052\n",
            "Epoch 28/200\n",
            "20/20 [==============================] - 0s 8ms/step - loss: 0.5016 - accuracy: 0.7590 - val_loss: 0.4833 - val_accuracy: 0.7922\n",
            "Epoch 29/200\n",
            "20/20 [==============================] - 0s 7ms/step - loss: 0.5225 - accuracy: 0.7557 - val_loss: 0.4828 - val_accuracy: 0.8052\n",
            "Epoch 30/200\n",
            "20/20 [==============================] - 0s 8ms/step - loss: 0.5252 - accuracy: 0.7541 - val_loss: 0.4845 - val_accuracy: 0.7857\n",
            "Epoch 31/200\n",
            "20/20 [==============================] - 0s 6ms/step - loss: 0.5136 - accuracy: 0.7394 - val_loss: 0.4852 - val_accuracy: 0.7792\n",
            "Epoch 32/200\n",
            "20/20 [==============================] - 0s 6ms/step - loss: 0.5175 - accuracy: 0.7573 - val_loss: 0.4847 - val_accuracy: 0.8117\n",
            "Epoch 33/200\n",
            "20/20 [==============================] - 0s 6ms/step - loss: 0.5278 - accuracy: 0.7459 - val_loss: 0.4833 - val_accuracy: 0.8052\n",
            "Epoch 34/200\n",
            "20/20 [==============================] - 0s 9ms/step - loss: 0.5024 - accuracy: 0.7590 - val_loss: 0.4825 - val_accuracy: 0.7857\n",
            "Epoch 35/200\n",
            "20/20 [==============================] - 0s 7ms/step - loss: 0.5181 - accuracy: 0.7313 - val_loss: 0.4815 - val_accuracy: 0.7922\n",
            "Epoch 36/200\n",
            "20/20 [==============================] - 0s 11ms/step - loss: 0.5035 - accuracy: 0.7410 - val_loss: 0.4803 - val_accuracy: 0.8052\n",
            "Epoch 37/200\n",
            "20/20 [==============================] - 0s 10ms/step - loss: 0.5276 - accuracy: 0.7394 - val_loss: 0.4802 - val_accuracy: 0.8052\n",
            "Epoch 38/200\n",
            "20/20 [==============================] - 0s 8ms/step - loss: 0.5164 - accuracy: 0.7573 - val_loss: 0.4820 - val_accuracy: 0.7792\n",
            "Epoch 39/200\n",
            "20/20 [==============================] - 0s 7ms/step - loss: 0.5011 - accuracy: 0.7427 - val_loss: 0.4807 - val_accuracy: 0.8052\n",
            "Epoch 40/200\n",
            "20/20 [==============================] - 0s 8ms/step - loss: 0.4978 - accuracy: 0.7508 - val_loss: 0.4790 - val_accuracy: 0.7987\n",
            "Epoch 41/200\n",
            "20/20 [==============================] - 0s 7ms/step - loss: 0.5091 - accuracy: 0.7622 - val_loss: 0.4804 - val_accuracy: 0.8052\n",
            "Epoch 42/200\n",
            "20/20 [==============================] - 0s 7ms/step - loss: 0.5061 - accuracy: 0.7508 - val_loss: 0.4830 - val_accuracy: 0.7987\n",
            "Epoch 43/200\n",
            "20/20 [==============================] - 0s 7ms/step - loss: 0.4976 - accuracy: 0.7671 - val_loss: 0.4829 - val_accuracy: 0.7922\n",
            "Epoch 44/200\n",
            "20/20 [==============================] - 0s 7ms/step - loss: 0.4915 - accuracy: 0.7573 - val_loss: 0.4810 - val_accuracy: 0.7987\n",
            "Epoch 45/200\n",
            "20/20 [==============================] - 0s 7ms/step - loss: 0.4928 - accuracy: 0.7704 - val_loss: 0.4802 - val_accuracy: 0.7922\n",
            "Epoch 46/200\n",
            "20/20 [==============================] - 0s 8ms/step - loss: 0.5019 - accuracy: 0.7459 - val_loss: 0.4817 - val_accuracy: 0.7987\n",
            "Epoch 47/200\n",
            "20/20 [==============================] - 0s 9ms/step - loss: 0.5155 - accuracy: 0.7410 - val_loss: 0.4835 - val_accuracy: 0.7922\n",
            "Epoch 48/200\n",
            "20/20 [==============================] - 0s 8ms/step - loss: 0.5192 - accuracy: 0.7492 - val_loss: 0.4908 - val_accuracy: 0.7987\n",
            "Epoch 49/200\n",
            "20/20 [==============================] - 0s 7ms/step - loss: 0.5018 - accuracy: 0.7524 - val_loss: 0.4876 - val_accuracy: 0.7792\n",
            "Epoch 50/200\n",
            "20/20 [==============================] - 0s 7ms/step - loss: 0.5033 - accuracy: 0.7671 - val_loss: 0.4837 - val_accuracy: 0.7792\n",
            "Epoch 51/200\n",
            "20/20 [==============================] - 0s 7ms/step - loss: 0.5011 - accuracy: 0.7590 - val_loss: 0.4832 - val_accuracy: 0.7987\n",
            "Epoch 52/200\n",
            "20/20 [==============================] - 0s 7ms/step - loss: 0.4885 - accuracy: 0.7704 - val_loss: 0.4789 - val_accuracy: 0.7922\n",
            "Epoch 53/200\n",
            "20/20 [==============================] - 0s 8ms/step - loss: 0.4936 - accuracy: 0.7736 - val_loss: 0.4774 - val_accuracy: 0.7987\n",
            "Epoch 54/200\n",
            "20/20 [==============================] - 0s 8ms/step - loss: 0.4874 - accuracy: 0.7655 - val_loss: 0.4764 - val_accuracy: 0.8052\n",
            "Epoch 55/200\n",
            "20/20 [==============================] - 0s 7ms/step - loss: 0.5020 - accuracy: 0.7606 - val_loss: 0.4794 - val_accuracy: 0.7922\n",
            "Epoch 56/200\n",
            "20/20 [==============================] - 0s 7ms/step - loss: 0.4831 - accuracy: 0.7850 - val_loss: 0.4809 - val_accuracy: 0.7922\n",
            "Epoch 57/200\n",
            "20/20 [==============================] - 0s 6ms/step - loss: 0.4891 - accuracy: 0.7606 - val_loss: 0.4817 - val_accuracy: 0.7857\n",
            "Epoch 58/200\n",
            "20/20 [==============================] - 0s 5ms/step - loss: 0.5129 - accuracy: 0.7410 - val_loss: 0.4862 - val_accuracy: 0.7792\n",
            "Epoch 59/200\n",
            "20/20 [==============================] - 0s 5ms/step - loss: 0.4981 - accuracy: 0.7541 - val_loss: 0.4871 - val_accuracy: 0.7792\n",
            "Epoch 60/200\n",
            "20/20 [==============================] - 0s 6ms/step - loss: 0.5045 - accuracy: 0.7590 - val_loss: 0.4845 - val_accuracy: 0.7792\n",
            "Epoch 61/200\n",
            "20/20 [==============================] - 0s 6ms/step - loss: 0.4946 - accuracy: 0.7687 - val_loss: 0.4890 - val_accuracy: 0.7857\n",
            "Epoch 62/200\n",
            "20/20 [==============================] - 0s 6ms/step - loss: 0.5049 - accuracy: 0.7606 - val_loss: 0.4823 - val_accuracy: 0.7922\n",
            "Epoch 63/200\n",
            "20/20 [==============================] - 0s 6ms/step - loss: 0.4991 - accuracy: 0.7622 - val_loss: 0.4866 - val_accuracy: 0.7922\n",
            "Epoch 64/200\n",
            "20/20 [==============================] - 0s 7ms/step - loss: 0.4996 - accuracy: 0.7476 - val_loss: 0.4872 - val_accuracy: 0.7857\n",
            "Epoch 65/200\n",
            "20/20 [==============================] - 0s 5ms/step - loss: 0.4884 - accuracy: 0.7590 - val_loss: 0.4856 - val_accuracy: 0.7857\n",
            "Epoch 66/200\n",
            "20/20 [==============================] - 0s 6ms/step - loss: 0.4986 - accuracy: 0.7622 - val_loss: 0.4852 - val_accuracy: 0.7922\n",
            "Epoch 67/200\n",
            "20/20 [==============================] - 0s 5ms/step - loss: 0.4781 - accuracy: 0.7752 - val_loss: 0.4844 - val_accuracy: 0.7857\n",
            "Epoch 68/200\n",
            "20/20 [==============================] - 0s 6ms/step - loss: 0.4907 - accuracy: 0.7801 - val_loss: 0.4850 - val_accuracy: 0.7857\n",
            "Epoch 69/200\n",
            "20/20 [==============================] - 0s 5ms/step - loss: 0.4857 - accuracy: 0.7704 - val_loss: 0.4828 - val_accuracy: 0.7922\n",
            "Epoch 70/200\n",
            "20/20 [==============================] - 0s 6ms/step - loss: 0.4929 - accuracy: 0.7590 - val_loss: 0.4831 - val_accuracy: 0.7922\n",
            "Epoch 71/200\n",
            "20/20 [==============================] - 0s 5ms/step - loss: 0.4928 - accuracy: 0.7606 - val_loss: 0.4809 - val_accuracy: 0.7987\n",
            "Epoch 72/200\n",
            "20/20 [==============================] - 0s 6ms/step - loss: 0.4916 - accuracy: 0.7638 - val_loss: 0.4851 - val_accuracy: 0.7987\n",
            "Epoch 73/200\n",
            "20/20 [==============================] - 0s 5ms/step - loss: 0.4878 - accuracy: 0.7573 - val_loss: 0.4945 - val_accuracy: 0.7857\n",
            "Epoch 74/200\n",
            "20/20 [==============================] - 0s 5ms/step - loss: 0.4907 - accuracy: 0.7671 - val_loss: 0.4899 - val_accuracy: 0.7792\n",
            "Epoch 75/200\n",
            "20/20 [==============================] - 0s 6ms/step - loss: 0.4902 - accuracy: 0.7736 - val_loss: 0.4831 - val_accuracy: 0.7857\n",
            "Epoch 76/200\n",
            "20/20 [==============================] - 0s 7ms/step - loss: 0.4870 - accuracy: 0.7606 - val_loss: 0.4887 - val_accuracy: 0.7792\n",
            "Epoch 77/200\n",
            "20/20 [==============================] - 0s 6ms/step - loss: 0.4933 - accuracy: 0.7687 - val_loss: 0.4861 - val_accuracy: 0.7792\n",
            "Epoch 78/200\n",
            "20/20 [==============================] - 0s 6ms/step - loss: 0.4872 - accuracy: 0.7671 - val_loss: 0.4896 - val_accuracy: 0.7792\n",
            "Epoch 79/200\n",
            "20/20 [==============================] - 0s 5ms/step - loss: 0.4753 - accuracy: 0.7655 - val_loss: 0.4867 - val_accuracy: 0.7727\n",
            "Epoch 80/200\n",
            "20/20 [==============================] - 0s 6ms/step - loss: 0.4691 - accuracy: 0.7671 - val_loss: 0.4871 - val_accuracy: 0.7727\n",
            "Epoch 81/200\n",
            "20/20 [==============================] - 0s 6ms/step - loss: 0.4777 - accuracy: 0.7932 - val_loss: 0.4877 - val_accuracy: 0.7727\n",
            "Epoch 82/200\n",
            "20/20 [==============================] - 0s 6ms/step - loss: 0.4805 - accuracy: 0.7801 - val_loss: 0.4864 - val_accuracy: 0.7792\n",
            "Epoch 83/200\n",
            "20/20 [==============================] - 0s 6ms/step - loss: 0.4754 - accuracy: 0.7687 - val_loss: 0.4875 - val_accuracy: 0.7727\n",
            "Epoch 84/200\n",
            "20/20 [==============================] - 0s 6ms/step - loss: 0.4810 - accuracy: 0.7590 - val_loss: 0.4889 - val_accuracy: 0.7792\n",
            "Epoch 85/200\n",
            "20/20 [==============================] - 0s 5ms/step - loss: 0.4835 - accuracy: 0.7557 - val_loss: 0.4903 - val_accuracy: 0.7792\n",
            "Epoch 86/200\n",
            "20/20 [==============================] - 0s 6ms/step - loss: 0.4761 - accuracy: 0.7801 - val_loss: 0.4872 - val_accuracy: 0.7792\n",
            "Epoch 87/200\n",
            "20/20 [==============================] - 0s 5ms/step - loss: 0.4807 - accuracy: 0.7720 - val_loss: 0.4883 - val_accuracy: 0.7792\n",
            "Epoch 88/200\n",
            "20/20 [==============================] - 0s 6ms/step - loss: 0.4841 - accuracy: 0.7638 - val_loss: 0.4918 - val_accuracy: 0.7792\n",
            "Epoch 89/200\n",
            "20/20 [==============================] - 0s 6ms/step - loss: 0.4829 - accuracy: 0.7622 - val_loss: 0.4832 - val_accuracy: 0.7792\n",
            "Epoch 90/200\n",
            "20/20 [==============================] - 0s 6ms/step - loss: 0.4816 - accuracy: 0.7590 - val_loss: 0.4828 - val_accuracy: 0.7727\n",
            "Epoch 91/200\n",
            "20/20 [==============================] - 0s 6ms/step - loss: 0.4879 - accuracy: 0.7687 - val_loss: 0.4852 - val_accuracy: 0.7792\n",
            "Epoch 92/200\n",
            "20/20 [==============================] - 0s 6ms/step - loss: 0.4937 - accuracy: 0.7687 - val_loss: 0.4891 - val_accuracy: 0.7792\n",
            "Epoch 93/200\n",
            "20/20 [==============================] - 0s 6ms/step - loss: 0.4802 - accuracy: 0.7704 - val_loss: 0.4909 - val_accuracy: 0.7792\n",
            "Epoch 94/200\n",
            "20/20 [==============================] - 0s 5ms/step - loss: 0.4940 - accuracy: 0.7541 - val_loss: 0.4912 - val_accuracy: 0.7792\n",
            "Epoch 95/200\n",
            "20/20 [==============================] - 0s 6ms/step - loss: 0.4881 - accuracy: 0.7557 - val_loss: 0.4927 - val_accuracy: 0.7792\n",
            "Epoch 96/200\n",
            "20/20 [==============================] - 0s 5ms/step - loss: 0.4770 - accuracy: 0.7573 - val_loss: 0.4908 - val_accuracy: 0.7792\n",
            "Epoch 97/200\n",
            "20/20 [==============================] - 0s 6ms/step - loss: 0.4795 - accuracy: 0.7785 - val_loss: 0.4909 - val_accuracy: 0.7792\n",
            "Epoch 98/200\n",
            "20/20 [==============================] - 0s 6ms/step - loss: 0.4902 - accuracy: 0.7590 - val_loss: 0.4942 - val_accuracy: 0.7792\n",
            "Epoch 99/200\n",
            "20/20 [==============================] - 0s 5ms/step - loss: 0.4874 - accuracy: 0.7557 - val_loss: 0.4992 - val_accuracy: 0.7792\n",
            "Epoch 100/200\n",
            "20/20 [==============================] - 0s 6ms/step - loss: 0.4886 - accuracy: 0.7655 - val_loss: 0.4913 - val_accuracy: 0.7792\n",
            "Epoch 101/200\n",
            "20/20 [==============================] - 0s 6ms/step - loss: 0.4882 - accuracy: 0.7752 - val_loss: 0.4907 - val_accuracy: 0.7792\n",
            "Epoch 102/200\n",
            "20/20 [==============================] - 0s 6ms/step - loss: 0.4723 - accuracy: 0.7801 - val_loss: 0.4954 - val_accuracy: 0.7792\n",
            "Epoch 103/200\n",
            "20/20 [==============================] - 0s 5ms/step - loss: 0.4768 - accuracy: 0.7752 - val_loss: 0.4945 - val_accuracy: 0.7792\n",
            "Epoch 104/200\n",
            "20/20 [==============================] - 0s 5ms/step - loss: 0.4880 - accuracy: 0.7736 - val_loss: 0.4939 - val_accuracy: 0.7792\n",
            "Epoch 105/200\n",
            "20/20 [==============================] - 0s 8ms/step - loss: 0.4768 - accuracy: 0.7687 - val_loss: 0.4942 - val_accuracy: 0.7857\n",
            "Epoch 106/200\n",
            "20/20 [==============================] - 0s 7ms/step - loss: 0.4767 - accuracy: 0.7655 - val_loss: 0.4936 - val_accuracy: 0.7792\n",
            "Epoch 107/200\n",
            "20/20 [==============================] - 0s 8ms/step - loss: 0.4812 - accuracy: 0.7638 - val_loss: 0.4946 - val_accuracy: 0.7857\n",
            "Epoch 108/200\n",
            "20/20 [==============================] - 0s 7ms/step - loss: 0.4812 - accuracy: 0.7492 - val_loss: 0.4964 - val_accuracy: 0.7792\n",
            "Epoch 109/200\n",
            "20/20 [==============================] - 0s 8ms/step - loss: 0.4836 - accuracy: 0.7590 - val_loss: 0.4989 - val_accuracy: 0.7792\n",
            "Epoch 110/200\n",
            "20/20 [==============================] - 0s 8ms/step - loss: 0.4802 - accuracy: 0.7769 - val_loss: 0.4920 - val_accuracy: 0.7727\n",
            "Epoch 111/200\n",
            "20/20 [==============================] - 0s 8ms/step - loss: 0.4677 - accuracy: 0.7801 - val_loss: 0.4931 - val_accuracy: 0.7792\n",
            "Epoch 112/200\n",
            "20/20 [==============================] - 0s 8ms/step - loss: 0.4679 - accuracy: 0.7915 - val_loss: 0.4920 - val_accuracy: 0.7727\n",
            "Epoch 113/200\n",
            "20/20 [==============================] - 0s 7ms/step - loss: 0.4743 - accuracy: 0.7720 - val_loss: 0.4976 - val_accuracy: 0.7792\n",
            "Epoch 114/200\n",
            "20/20 [==============================] - 0s 7ms/step - loss: 0.4731 - accuracy: 0.7622 - val_loss: 0.4948 - val_accuracy: 0.7792\n",
            "Epoch 115/200\n",
            "20/20 [==============================] - 0s 8ms/step - loss: 0.4647 - accuracy: 0.7736 - val_loss: 0.4941 - val_accuracy: 0.7792\n",
            "Epoch 116/200\n",
            "20/20 [==============================] - 0s 7ms/step - loss: 0.4745 - accuracy: 0.7736 - val_loss: 0.4963 - val_accuracy: 0.7792\n",
            "Epoch 117/200\n",
            "20/20 [==============================] - 0s 7ms/step - loss: 0.4660 - accuracy: 0.7801 - val_loss: 0.4998 - val_accuracy: 0.7792\n",
            "Epoch 118/200\n",
            "20/20 [==============================] - 0s 8ms/step - loss: 0.4729 - accuracy: 0.7687 - val_loss: 0.4977 - val_accuracy: 0.7792\n",
            "Epoch 119/200\n",
            "20/20 [==============================] - 0s 8ms/step - loss: 0.4877 - accuracy: 0.7622 - val_loss: 0.5032 - val_accuracy: 0.7792\n",
            "Epoch 120/200\n",
            "20/20 [==============================] - 0s 7ms/step - loss: 0.4894 - accuracy: 0.7671 - val_loss: 0.5017 - val_accuracy: 0.7792\n",
            "Epoch 121/200\n",
            "20/20 [==============================] - 0s 8ms/step - loss: 0.4771 - accuracy: 0.7508 - val_loss: 0.5002 - val_accuracy: 0.7792\n",
            "Epoch 122/200\n",
            "20/20 [==============================] - 0s 7ms/step - loss: 0.4719 - accuracy: 0.7687 - val_loss: 0.5002 - val_accuracy: 0.7857\n",
            "Epoch 123/200\n",
            "20/20 [==============================] - 0s 8ms/step - loss: 0.4762 - accuracy: 0.7720 - val_loss: 0.5007 - val_accuracy: 0.7792\n",
            "Epoch 124/200\n",
            "20/20 [==============================] - 0s 7ms/step - loss: 0.4850 - accuracy: 0.7704 - val_loss: 0.5001 - val_accuracy: 0.7792\n",
            "Epoch 125/200\n",
            "20/20 [==============================] - 0s 7ms/step - loss: 0.4791 - accuracy: 0.7622 - val_loss: 0.4952 - val_accuracy: 0.7857\n",
            "Epoch 126/200\n",
            "20/20 [==============================] - 0s 7ms/step - loss: 0.4775 - accuracy: 0.7687 - val_loss: 0.4945 - val_accuracy: 0.7792\n",
            "Epoch 127/200\n",
            "20/20 [==============================] - 0s 8ms/step - loss: 0.4655 - accuracy: 0.7622 - val_loss: 0.4869 - val_accuracy: 0.7662\n",
            "Epoch 128/200\n",
            "20/20 [==============================] - 0s 8ms/step - loss: 0.4817 - accuracy: 0.7606 - val_loss: 0.4938 - val_accuracy: 0.7792\n",
            "Epoch 129/200\n",
            "20/20 [==============================] - 0s 8ms/step - loss: 0.4613 - accuracy: 0.7655 - val_loss: 0.4987 - val_accuracy: 0.7792\n",
            "Epoch 130/200\n",
            "20/20 [==============================] - 0s 5ms/step - loss: 0.4834 - accuracy: 0.7606 - val_loss: 0.4960 - val_accuracy: 0.7792\n",
            "Epoch 131/200\n",
            "20/20 [==============================] - 0s 5ms/step - loss: 0.4866 - accuracy: 0.7704 - val_loss: 0.5001 - val_accuracy: 0.7792\n",
            "Epoch 132/200\n",
            "20/20 [==============================] - 0s 6ms/step - loss: 0.4769 - accuracy: 0.7541 - val_loss: 0.5031 - val_accuracy: 0.7792\n",
            "Epoch 133/200\n",
            "20/20 [==============================] - 0s 6ms/step - loss: 0.4589 - accuracy: 0.7736 - val_loss: 0.5022 - val_accuracy: 0.7792\n",
            "Epoch 134/200\n",
            "20/20 [==============================] - 0s 7ms/step - loss: 0.4868 - accuracy: 0.7671 - val_loss: 0.4988 - val_accuracy: 0.7792\n",
            "Epoch 135/200\n",
            "20/20 [==============================] - 0s 5ms/step - loss: 0.4768 - accuracy: 0.7655 - val_loss: 0.4962 - val_accuracy: 0.7727\n",
            "Epoch 136/200\n",
            "20/20 [==============================] - 0s 6ms/step - loss: 0.4803 - accuracy: 0.7736 - val_loss: 0.4967 - val_accuracy: 0.7792\n",
            "Epoch 137/200\n",
            "20/20 [==============================] - 0s 5ms/step - loss: 0.4797 - accuracy: 0.7704 - val_loss: 0.5011 - val_accuracy: 0.7792\n",
            "Epoch 138/200\n",
            "20/20 [==============================] - 0s 5ms/step - loss: 0.4737 - accuracy: 0.7818 - val_loss: 0.4995 - val_accuracy: 0.7727\n",
            "Epoch 139/200\n",
            "20/20 [==============================] - 0s 5ms/step - loss: 0.4759 - accuracy: 0.7834 - val_loss: 0.5004 - val_accuracy: 0.7792\n",
            "Epoch 140/200\n",
            "20/20 [==============================] - 0s 6ms/step - loss: 0.4885 - accuracy: 0.7622 - val_loss: 0.4994 - val_accuracy: 0.7792\n",
            "Epoch 141/200\n",
            "20/20 [==============================] - 0s 5ms/step - loss: 0.4685 - accuracy: 0.7704 - val_loss: 0.4987 - val_accuracy: 0.7727\n",
            "Epoch 142/200\n",
            "20/20 [==============================] - 0s 6ms/step - loss: 0.4719 - accuracy: 0.7655 - val_loss: 0.5008 - val_accuracy: 0.7792\n",
            "Epoch 143/200\n",
            "20/20 [==============================] - 0s 5ms/step - loss: 0.4745 - accuracy: 0.7801 - val_loss: 0.4997 - val_accuracy: 0.7792\n",
            "Epoch 144/200\n",
            "20/20 [==============================] - 0s 6ms/step - loss: 0.4745 - accuracy: 0.7622 - val_loss: 0.5004 - val_accuracy: 0.7792\n",
            "Epoch 145/200\n",
            "20/20 [==============================] - 0s 6ms/step - loss: 0.4676 - accuracy: 0.7818 - val_loss: 0.4999 - val_accuracy: 0.7792\n",
            "Epoch 146/200\n",
            "20/20 [==============================] - 0s 6ms/step - loss: 0.4796 - accuracy: 0.7606 - val_loss: 0.4979 - val_accuracy: 0.7792\n",
            "Epoch 147/200\n",
            "20/20 [==============================] - 0s 5ms/step - loss: 0.4761 - accuracy: 0.7736 - val_loss: 0.4985 - val_accuracy: 0.7792\n",
            "Epoch 148/200\n",
            "20/20 [==============================] - 0s 6ms/step - loss: 0.4833 - accuracy: 0.7606 - val_loss: 0.4985 - val_accuracy: 0.7792\n",
            "Epoch 149/200\n",
            "20/20 [==============================] - 0s 6ms/step - loss: 0.4814 - accuracy: 0.7638 - val_loss: 0.4995 - val_accuracy: 0.7727\n",
            "Epoch 150/200\n",
            "20/20 [==============================] - 0s 6ms/step - loss: 0.4784 - accuracy: 0.7655 - val_loss: 0.5016 - val_accuracy: 0.7727\n",
            "Epoch 151/200\n",
            "20/20 [==============================] - 0s 7ms/step - loss: 0.4735 - accuracy: 0.7752 - val_loss: 0.4962 - val_accuracy: 0.7792\n",
            "Epoch 152/200\n",
            "20/20 [==============================] - 0s 5ms/step - loss: 0.4677 - accuracy: 0.7655 - val_loss: 0.4975 - val_accuracy: 0.7792\n",
            "Epoch 153/200\n",
            "20/20 [==============================] - 0s 6ms/step - loss: 0.4696 - accuracy: 0.7785 - val_loss: 0.4969 - val_accuracy: 0.7792\n",
            "Epoch 154/200\n",
            "20/20 [==============================] - 0s 5ms/step - loss: 0.4643 - accuracy: 0.7801 - val_loss: 0.5006 - val_accuracy: 0.7857\n",
            "Epoch 155/200\n",
            "20/20 [==============================] - 0s 6ms/step - loss: 0.4686 - accuracy: 0.7752 - val_loss: 0.5008 - val_accuracy: 0.7792\n",
            "Epoch 156/200\n",
            "20/20 [==============================] - 0s 5ms/step - loss: 0.4802 - accuracy: 0.7720 - val_loss: 0.5016 - val_accuracy: 0.7792\n",
            "Epoch 157/200\n",
            "20/20 [==============================] - 0s 6ms/step - loss: 0.4690 - accuracy: 0.7769 - val_loss: 0.5038 - val_accuracy: 0.7857\n",
            "Epoch 158/200\n",
            "20/20 [==============================] - 0s 6ms/step - loss: 0.4737 - accuracy: 0.7687 - val_loss: 0.5032 - val_accuracy: 0.7792\n",
            "Epoch 159/200\n",
            "20/20 [==============================] - 0s 5ms/step - loss: 0.4629 - accuracy: 0.7704 - val_loss: 0.5023 - val_accuracy: 0.7792\n",
            "Epoch 160/200\n",
            "20/20 [==============================] - 0s 6ms/step - loss: 0.4724 - accuracy: 0.7720 - val_loss: 0.5035 - val_accuracy: 0.7792\n",
            "Epoch 161/200\n",
            "20/20 [==============================] - 0s 6ms/step - loss: 0.4757 - accuracy: 0.7752 - val_loss: 0.5032 - val_accuracy: 0.7857\n",
            "Epoch 162/200\n",
            "20/20 [==============================] - 0s 5ms/step - loss: 0.4721 - accuracy: 0.7606 - val_loss: 0.5019 - val_accuracy: 0.7792\n",
            "Epoch 163/200\n",
            "20/20 [==============================] - 0s 6ms/step - loss: 0.4778 - accuracy: 0.7752 - val_loss: 0.5038 - val_accuracy: 0.7792\n",
            "Epoch 164/200\n",
            "20/20 [==============================] - 0s 5ms/step - loss: 0.4629 - accuracy: 0.7850 - val_loss: 0.5026 - val_accuracy: 0.7792\n",
            "Epoch 165/200\n",
            "20/20 [==============================] - 0s 6ms/step - loss: 0.4814 - accuracy: 0.7638 - val_loss: 0.5018 - val_accuracy: 0.7792\n",
            "Epoch 166/200\n",
            "20/20 [==============================] - 0s 7ms/step - loss: 0.4626 - accuracy: 0.7818 - val_loss: 0.5021 - val_accuracy: 0.7792\n",
            "Epoch 167/200\n",
            "20/20 [==============================] - 0s 5ms/step - loss: 0.4749 - accuracy: 0.7671 - val_loss: 0.5035 - val_accuracy: 0.7792\n",
            "Epoch 168/200\n",
            "20/20 [==============================] - 0s 5ms/step - loss: 0.4765 - accuracy: 0.7590 - val_loss: 0.5009 - val_accuracy: 0.7792\n",
            "Epoch 169/200\n",
            "20/20 [==============================] - 0s 6ms/step - loss: 0.4581 - accuracy: 0.7769 - val_loss: 0.5018 - val_accuracy: 0.7792\n",
            "Epoch 170/200\n",
            "20/20 [==============================] - 0s 6ms/step - loss: 0.4848 - accuracy: 0.7687 - val_loss: 0.5013 - val_accuracy: 0.7727\n",
            "Epoch 171/200\n",
            "20/20 [==============================] - 0s 5ms/step - loss: 0.4726 - accuracy: 0.7752 - val_loss: 0.4954 - val_accuracy: 0.7662\n",
            "Epoch 172/200\n",
            "20/20 [==============================] - 0s 6ms/step - loss: 0.4784 - accuracy: 0.7606 - val_loss: 0.5039 - val_accuracy: 0.7792\n",
            "Epoch 173/200\n",
            "20/20 [==============================] - 0s 6ms/step - loss: 0.4638 - accuracy: 0.7769 - val_loss: 0.4979 - val_accuracy: 0.7792\n",
            "Epoch 174/200\n",
            "20/20 [==============================] - 0s 6ms/step - loss: 0.4732 - accuracy: 0.7638 - val_loss: 0.5007 - val_accuracy: 0.7792\n",
            "Epoch 175/200\n",
            "20/20 [==============================] - 0s 7ms/step - loss: 0.4801 - accuracy: 0.7752 - val_loss: 0.4983 - val_accuracy: 0.7727\n",
            "Epoch 176/200\n",
            "20/20 [==============================] - 0s 6ms/step - loss: 0.4675 - accuracy: 0.7736 - val_loss: 0.4960 - val_accuracy: 0.7727\n",
            "Epoch 177/200\n",
            "20/20 [==============================] - 0s 5ms/step - loss: 0.4670 - accuracy: 0.7704 - val_loss: 0.4939 - val_accuracy: 0.7727\n",
            "Epoch 178/200\n",
            "20/20 [==============================] - 0s 6ms/step - loss: 0.4810 - accuracy: 0.7573 - val_loss: 0.4998 - val_accuracy: 0.7792\n",
            "Epoch 179/200\n",
            "20/20 [==============================] - 0s 6ms/step - loss: 0.4737 - accuracy: 0.7671 - val_loss: 0.4925 - val_accuracy: 0.7792\n",
            "Epoch 180/200\n",
            "20/20 [==============================] - 0s 5ms/step - loss: 0.4695 - accuracy: 0.7638 - val_loss: 0.4945 - val_accuracy: 0.7727\n",
            "Epoch 181/200\n",
            "20/20 [==============================] - 0s 5ms/step - loss: 0.4654 - accuracy: 0.7818 - val_loss: 0.4952 - val_accuracy: 0.7727\n",
            "Epoch 182/200\n",
            "20/20 [==============================] - 0s 6ms/step - loss: 0.4569 - accuracy: 0.7720 - val_loss: 0.4954 - val_accuracy: 0.7727\n",
            "Epoch 183/200\n",
            "20/20 [==============================] - 0s 6ms/step - loss: 0.4627 - accuracy: 0.7801 - val_loss: 0.4948 - val_accuracy: 0.7662\n",
            "Epoch 184/200\n",
            "20/20 [==============================] - 0s 5ms/step - loss: 0.4601 - accuracy: 0.7801 - val_loss: 0.4945 - val_accuracy: 0.7727\n",
            "Epoch 185/200\n",
            "20/20 [==============================] - 0s 5ms/step - loss: 0.4696 - accuracy: 0.7704 - val_loss: 0.4966 - val_accuracy: 0.7792\n",
            "Epoch 186/200\n",
            "20/20 [==============================] - 0s 5ms/step - loss: 0.4705 - accuracy: 0.7736 - val_loss: 0.4975 - val_accuracy: 0.7727\n",
            "Epoch 187/200\n",
            "20/20 [==============================] - 0s 5ms/step - loss: 0.4747 - accuracy: 0.7573 - val_loss: 0.4980 - val_accuracy: 0.7727\n",
            "Epoch 188/200\n",
            "20/20 [==============================] - 0s 6ms/step - loss: 0.4778 - accuracy: 0.7671 - val_loss: 0.4979 - val_accuracy: 0.7792\n",
            "Epoch 189/200\n",
            "20/20 [==============================] - 0s 5ms/step - loss: 0.4686 - accuracy: 0.7524 - val_loss: 0.4976 - val_accuracy: 0.7792\n",
            "Epoch 190/200\n",
            "20/20 [==============================] - 0s 7ms/step - loss: 0.4741 - accuracy: 0.7769 - val_loss: 0.4992 - val_accuracy: 0.7792\n",
            "Epoch 191/200\n",
            "20/20 [==============================] - 0s 6ms/step - loss: 0.4656 - accuracy: 0.7818 - val_loss: 0.4981 - val_accuracy: 0.7792\n",
            "Epoch 192/200\n",
            "20/20 [==============================] - 0s 6ms/step - loss: 0.4631 - accuracy: 0.7769 - val_loss: 0.4978 - val_accuracy: 0.7792\n",
            "Epoch 193/200\n",
            "20/20 [==============================] - 0s 8ms/step - loss: 0.4585 - accuracy: 0.7948 - val_loss: 0.4918 - val_accuracy: 0.7727\n",
            "Epoch 194/200\n",
            "20/20 [==============================] - 0s 6ms/step - loss: 0.4714 - accuracy: 0.7801 - val_loss: 0.4983 - val_accuracy: 0.7727\n",
            "Epoch 195/200\n",
            "20/20 [==============================] - 0s 6ms/step - loss: 0.4697 - accuracy: 0.7818 - val_loss: 0.4939 - val_accuracy: 0.7727\n",
            "Epoch 196/200\n",
            "20/20 [==============================] - 0s 6ms/step - loss: 0.4577 - accuracy: 0.7769 - val_loss: 0.4965 - val_accuracy: 0.7727\n",
            "Epoch 197/200\n",
            "20/20 [==============================] - 0s 6ms/step - loss: 0.4742 - accuracy: 0.7622 - val_loss: 0.4961 - val_accuracy: 0.7727\n",
            "Epoch 198/200\n",
            "20/20 [==============================] - 0s 6ms/step - loss: 0.4661 - accuracy: 0.7671 - val_loss: 0.4975 - val_accuracy: 0.7727\n",
            "Epoch 199/200\n",
            "20/20 [==============================] - 0s 5ms/step - loss: 0.4785 - accuracy: 0.7655 - val_loss: 0.4924 - val_accuracy: 0.7727\n",
            "Epoch 200/200\n",
            "20/20 [==============================] - 0s 6ms/step - loss: 0.4675 - accuracy: 0.7769 - val_loss: 0.4947 - val_accuracy: 0.7727\n"
          ]
        },
        {
          "output_type": "execute_result",
          "data": {
            "text/plain": [
              "<keras.callbacks.History at 0x7fea4c0416d0>"
            ]
          },
          "metadata": {},
          "execution_count": 106
        }
      ]
    },
    {
      "cell_type": "code",
      "source": [],
      "metadata": {
        "id": "e8NHnyMC27p9"
      },
      "execution_count": null,
      "outputs": []
    }
  ]
}