{
  "nbformat": 4,
  "nbformat_minor": 0,
  "metadata": {
    "colab": {
      "provenance": []
    },
    "kernelspec": {
      "name": "python3",
      "display_name": "Python 3"
    },
    "language_info": {
      "name": "python"
    },
    "accelerator": "GPU",
    "gpuClass": "standard"
  },
  "cells": [
    {
      "cell_type": "code",
      "execution_count": 2,
      "metadata": {
        "id": "ALKbuV6J1hl_"
      },
      "outputs": [],
      "source": [
        "import numpy as np\n",
        "import pandas as pd\n",
        "import seaborn as sns\n",
        "from sklearn.model_selection import train_test_split\n",
        "import tensorflow as tf\n",
        "from tensorflow import keras\n",
        "from keras import Sequential\n",
        "from keras.layers import Dense"
      ]
    },
    {
      "cell_type": "code",
      "source": [
        "df = pd.read_csv('/content/Social_Network_Ads.csv')\n",
        "df.head(3)"
      ],
      "metadata": {
        "colab": {
          "base_uri": "https://localhost:8080/",
          "height": 143
        },
        "id": "oqFy7HFX2HzW",
        "outputId": "6cf2524a-50a4-415a-e900-c43320853730"
      },
      "execution_count": 8,
      "outputs": [
        {
          "output_type": "execute_result",
          "data": {
            "text/plain": [
              "    User ID  Gender  Age  EstimatedSalary  Purchased\n",
              "0  15624510    Male   19            19000          0\n",
              "1  15810944    Male   35            20000          0\n",
              "2  15668575  Female   26            43000          0"
            ],
            "text/html": [
              "\n",
              "  <div id=\"df-06b4fa43-4692-4e30-a0be-8bb1f9d46483\">\n",
              "    <div class=\"colab-df-container\">\n",
              "      <div>\n",
              "<style scoped>\n",
              "    .dataframe tbody tr th:only-of-type {\n",
              "        vertical-align: middle;\n",
              "    }\n",
              "\n",
              "    .dataframe tbody tr th {\n",
              "        vertical-align: top;\n",
              "    }\n",
              "\n",
              "    .dataframe thead th {\n",
              "        text-align: right;\n",
              "    }\n",
              "</style>\n",
              "<table border=\"1\" class=\"dataframe\">\n",
              "  <thead>\n",
              "    <tr style=\"text-align: right;\">\n",
              "      <th></th>\n",
              "      <th>User ID</th>\n",
              "      <th>Gender</th>\n",
              "      <th>Age</th>\n",
              "      <th>EstimatedSalary</th>\n",
              "      <th>Purchased</th>\n",
              "    </tr>\n",
              "  </thead>\n",
              "  <tbody>\n",
              "    <tr>\n",
              "      <th>0</th>\n",
              "      <td>15624510</td>\n",
              "      <td>Male</td>\n",
              "      <td>19</td>\n",
              "      <td>19000</td>\n",
              "      <td>0</td>\n",
              "    </tr>\n",
              "    <tr>\n",
              "      <th>1</th>\n",
              "      <td>15810944</td>\n",
              "      <td>Male</td>\n",
              "      <td>35</td>\n",
              "      <td>20000</td>\n",
              "      <td>0</td>\n",
              "    </tr>\n",
              "    <tr>\n",
              "      <th>2</th>\n",
              "      <td>15668575</td>\n",
              "      <td>Female</td>\n",
              "      <td>26</td>\n",
              "      <td>43000</td>\n",
              "      <td>0</td>\n",
              "    </tr>\n",
              "  </tbody>\n",
              "</table>\n",
              "</div>\n",
              "      <button class=\"colab-df-convert\" onclick=\"convertToInteractive('df-06b4fa43-4692-4e30-a0be-8bb1f9d46483')\"\n",
              "              title=\"Convert this dataframe to an interactive table.\"\n",
              "              style=\"display:none;\">\n",
              "        \n",
              "  <svg xmlns=\"http://www.w3.org/2000/svg\" height=\"24px\"viewBox=\"0 0 24 24\"\n",
              "       width=\"24px\">\n",
              "    <path d=\"M0 0h24v24H0V0z\" fill=\"none\"/>\n",
              "    <path d=\"M18.56 5.44l.94 2.06.94-2.06 2.06-.94-2.06-.94-.94-2.06-.94 2.06-2.06.94zm-11 1L8.5 8.5l.94-2.06 2.06-.94-2.06-.94L8.5 2.5l-.94 2.06-2.06.94zm10 10l.94 2.06.94-2.06 2.06-.94-2.06-.94-.94-2.06-.94 2.06-2.06.94z\"/><path d=\"M17.41 7.96l-1.37-1.37c-.4-.4-.92-.59-1.43-.59-.52 0-1.04.2-1.43.59L10.3 9.45l-7.72 7.72c-.78.78-.78 2.05 0 2.83L4 21.41c.39.39.9.59 1.41.59.51 0 1.02-.2 1.41-.59l7.78-7.78 2.81-2.81c.8-.78.8-2.07 0-2.86zM5.41 20L4 18.59l7.72-7.72 1.47 1.35L5.41 20z\"/>\n",
              "  </svg>\n",
              "      </button>\n",
              "      \n",
              "  <style>\n",
              "    .colab-df-container {\n",
              "      display:flex;\n",
              "      flex-wrap:wrap;\n",
              "      gap: 12px;\n",
              "    }\n",
              "\n",
              "    .colab-df-convert {\n",
              "      background-color: #E8F0FE;\n",
              "      border: none;\n",
              "      border-radius: 50%;\n",
              "      cursor: pointer;\n",
              "      display: none;\n",
              "      fill: #1967D2;\n",
              "      height: 32px;\n",
              "      padding: 0 0 0 0;\n",
              "      width: 32px;\n",
              "    }\n",
              "\n",
              "    .colab-df-convert:hover {\n",
              "      background-color: #E2EBFA;\n",
              "      box-shadow: 0px 1px 2px rgba(60, 64, 67, 0.3), 0px 1px 3px 1px rgba(60, 64, 67, 0.15);\n",
              "      fill: #174EA6;\n",
              "    }\n",
              "\n",
              "    [theme=dark] .colab-df-convert {\n",
              "      background-color: #3B4455;\n",
              "      fill: #D2E3FC;\n",
              "    }\n",
              "\n",
              "    [theme=dark] .colab-df-convert:hover {\n",
              "      background-color: #434B5C;\n",
              "      box-shadow: 0px 1px 3px 1px rgba(0, 0, 0, 0.15);\n",
              "      filter: drop-shadow(0px 1px 2px rgba(0, 0, 0, 0.3));\n",
              "      fill: #FFFFFF;\n",
              "    }\n",
              "  </style>\n",
              "\n",
              "      <script>\n",
              "        const buttonEl =\n",
              "          document.querySelector('#df-06b4fa43-4692-4e30-a0be-8bb1f9d46483 button.colab-df-convert');\n",
              "        buttonEl.style.display =\n",
              "          google.colab.kernel.accessAllowed ? 'block' : 'none';\n",
              "\n",
              "        async function convertToInteractive(key) {\n",
              "          const element = document.querySelector('#df-06b4fa43-4692-4e30-a0be-8bb1f9d46483');\n",
              "          const dataTable =\n",
              "            await google.colab.kernel.invokeFunction('convertToInteractive',\n",
              "                                                     [key], {});\n",
              "          if (!dataTable) return;\n",
              "\n",
              "          const docLinkHtml = 'Like what you see? Visit the ' +\n",
              "            '<a target=\"_blank\" href=https://colab.research.google.com/notebooks/data_table.ipynb>data table notebook</a>'\n",
              "            + ' to learn more about interactive tables.';\n",
              "          element.innerHTML = '';\n",
              "          dataTable['output_type'] = 'display_data';\n",
              "          await google.colab.output.renderOutput(dataTable, element);\n",
              "          const docLink = document.createElement('div');\n",
              "          docLink.innerHTML = docLinkHtml;\n",
              "          element.appendChild(docLink);\n",
              "        }\n",
              "      </script>\n",
              "    </div>\n",
              "  </div>\n",
              "  "
            ]
          },
          "metadata": {},
          "execution_count": 8
        }
      ]
    },
    {
      "cell_type": "code",
      "source": [
        "df = df.drop(['User ID','Gender'], axis=1)"
      ],
      "metadata": {
        "id": "av9U0yrU2kfN"
      },
      "execution_count": 10,
      "outputs": []
    },
    {
      "cell_type": "code",
      "source": [
        "df.head(1)"
      ],
      "metadata": {
        "colab": {
          "base_uri": "https://localhost:8080/",
          "height": 80
        },
        "id": "QrPUk0A22s-t",
        "outputId": "1ca63355-3171-40ed-ba22-edbe8951fae9"
      },
      "execution_count": 11,
      "outputs": [
        {
          "output_type": "execute_result",
          "data": {
            "text/plain": [
              "   Age  EstimatedSalary  Purchased\n",
              "0   19            19000          0"
            ],
            "text/html": [
              "\n",
              "  <div id=\"df-a721e451-93fc-4051-978f-7c64aa75862b\">\n",
              "    <div class=\"colab-df-container\">\n",
              "      <div>\n",
              "<style scoped>\n",
              "    .dataframe tbody tr th:only-of-type {\n",
              "        vertical-align: middle;\n",
              "    }\n",
              "\n",
              "    .dataframe tbody tr th {\n",
              "        vertical-align: top;\n",
              "    }\n",
              "\n",
              "    .dataframe thead th {\n",
              "        text-align: right;\n",
              "    }\n",
              "</style>\n",
              "<table border=\"1\" class=\"dataframe\">\n",
              "  <thead>\n",
              "    <tr style=\"text-align: right;\">\n",
              "      <th></th>\n",
              "      <th>Age</th>\n",
              "      <th>EstimatedSalary</th>\n",
              "      <th>Purchased</th>\n",
              "    </tr>\n",
              "  </thead>\n",
              "  <tbody>\n",
              "    <tr>\n",
              "      <th>0</th>\n",
              "      <td>19</td>\n",
              "      <td>19000</td>\n",
              "      <td>0</td>\n",
              "    </tr>\n",
              "  </tbody>\n",
              "</table>\n",
              "</div>\n",
              "      <button class=\"colab-df-convert\" onclick=\"convertToInteractive('df-a721e451-93fc-4051-978f-7c64aa75862b')\"\n",
              "              title=\"Convert this dataframe to an interactive table.\"\n",
              "              style=\"display:none;\">\n",
              "        \n",
              "  <svg xmlns=\"http://www.w3.org/2000/svg\" height=\"24px\"viewBox=\"0 0 24 24\"\n",
              "       width=\"24px\">\n",
              "    <path d=\"M0 0h24v24H0V0z\" fill=\"none\"/>\n",
              "    <path d=\"M18.56 5.44l.94 2.06.94-2.06 2.06-.94-2.06-.94-.94-2.06-.94 2.06-2.06.94zm-11 1L8.5 8.5l.94-2.06 2.06-.94-2.06-.94L8.5 2.5l-.94 2.06-2.06.94zm10 10l.94 2.06.94-2.06 2.06-.94-2.06-.94-.94-2.06-.94 2.06-2.06.94z\"/><path d=\"M17.41 7.96l-1.37-1.37c-.4-.4-.92-.59-1.43-.59-.52 0-1.04.2-1.43.59L10.3 9.45l-7.72 7.72c-.78.78-.78 2.05 0 2.83L4 21.41c.39.39.9.59 1.41.59.51 0 1.02-.2 1.41-.59l7.78-7.78 2.81-2.81c.8-.78.8-2.07 0-2.86zM5.41 20L4 18.59l7.72-7.72 1.47 1.35L5.41 20z\"/>\n",
              "  </svg>\n",
              "      </button>\n",
              "      \n",
              "  <style>\n",
              "    .colab-df-container {\n",
              "      display:flex;\n",
              "      flex-wrap:wrap;\n",
              "      gap: 12px;\n",
              "    }\n",
              "\n",
              "    .colab-df-convert {\n",
              "      background-color: #E8F0FE;\n",
              "      border: none;\n",
              "      border-radius: 50%;\n",
              "      cursor: pointer;\n",
              "      display: none;\n",
              "      fill: #1967D2;\n",
              "      height: 32px;\n",
              "      padding: 0 0 0 0;\n",
              "      width: 32px;\n",
              "    }\n",
              "\n",
              "    .colab-df-convert:hover {\n",
              "      background-color: #E2EBFA;\n",
              "      box-shadow: 0px 1px 2px rgba(60, 64, 67, 0.3), 0px 1px 3px 1px rgba(60, 64, 67, 0.15);\n",
              "      fill: #174EA6;\n",
              "    }\n",
              "\n",
              "    [theme=dark] .colab-df-convert {\n",
              "      background-color: #3B4455;\n",
              "      fill: #D2E3FC;\n",
              "    }\n",
              "\n",
              "    [theme=dark] .colab-df-convert:hover {\n",
              "      background-color: #434B5C;\n",
              "      box-shadow: 0px 1px 3px 1px rgba(0, 0, 0, 0.15);\n",
              "      filter: drop-shadow(0px 1px 2px rgba(0, 0, 0, 0.3));\n",
              "      fill: #FFFFFF;\n",
              "    }\n",
              "  </style>\n",
              "\n",
              "      <script>\n",
              "        const buttonEl =\n",
              "          document.querySelector('#df-a721e451-93fc-4051-978f-7c64aa75862b button.colab-df-convert');\n",
              "        buttonEl.style.display =\n",
              "          google.colab.kernel.accessAllowed ? 'block' : 'none';\n",
              "\n",
              "        async function convertToInteractive(key) {\n",
              "          const element = document.querySelector('#df-a721e451-93fc-4051-978f-7c64aa75862b');\n",
              "          const dataTable =\n",
              "            await google.colab.kernel.invokeFunction('convertToInteractive',\n",
              "                                                     [key], {});\n",
              "          if (!dataTable) return;\n",
              "\n",
              "          const docLinkHtml = 'Like what you see? Visit the ' +\n",
              "            '<a target=\"_blank\" href=https://colab.research.google.com/notebooks/data_table.ipynb>data table notebook</a>'\n",
              "            + ' to learn more about interactive tables.';\n",
              "          element.innerHTML = '';\n",
              "          dataTable['output_type'] = 'display_data';\n",
              "          await google.colab.output.renderOutput(dataTable, element);\n",
              "          const docLink = document.createElement('div');\n",
              "          docLink.innerHTML = docLinkHtml;\n",
              "          element.appendChild(docLink);\n",
              "        }\n",
              "      </script>\n",
              "    </div>\n",
              "  </div>\n",
              "  "
            ]
          },
          "metadata": {},
          "execution_count": 11
        }
      ]
    },
    {
      "cell_type": "code",
      "source": [
        "sns.scatterplot(df.iloc[:,0] )"
      ],
      "metadata": {
        "colab": {
          "base_uri": "https://localhost:8080/",
          "height": 282
        },
        "id": "IvmcuXHB2usm",
        "outputId": "528ee910-42ac-4f10-9f5b-e24f70880eda"
      },
      "execution_count": 13,
      "outputs": [
        {
          "output_type": "execute_result",
          "data": {
            "text/plain": [
              "<Axes: ylabel='Age'>"
            ]
          },
          "metadata": {},
          "execution_count": 13
        },
        {
          "output_type": "display_data",
          "data": {
            "text/plain": [
              "<Figure size 432x288 with 1 Axes>"
            ],
            "image/png": "[encoded data removed]"
          },
          "metadata": {
            "needs_background": "light"
          }
        }
      ]
    },
    {
      "cell_type": "code",
      "source": [
        "sns.scatterplot(df.iloc[:,1] )\n"
      ],
      "metadata": {
        "colab": {
          "base_uri": "https://localhost:8080/",
          "height": 282
        },
        "id": "YDEKJdAK3RP-",
        "outputId": "d3649947-774a-4687-ac26-731b6e304957"
      },
      "execution_count": 14,
      "outputs": [
        {
          "output_type": "execute_result",
          "data": {
            "text/plain": [
              "<Axes: ylabel='EstimatedSalary'>"
            ]
          },
          "metadata": {},
          "execution_count": 14
        },
        {
          "output_type": "display_data",
          "data": {
            "text/plain": [
              "<Figure size 432x288 with 1 Axes>"
            ],
            "image/png": "[encoded data removed]"
          },
          "metadata": {
            "needs_background": "light"
          }
        }
      ]
    },
    {
      "cell_type": "code",
      "source": [
        "x = df.drop('Purchased',axis=1)\n",
        "y = df['Purchased']"
      ],
      "metadata": {
        "id": "eK_l-8nd3eFa"
      },
      "execution_count": 31,
      "outputs": []
    },
    {
      "cell_type": "code",
      "source": [
        "x.shape,y.shape"
      ],
      "metadata": {
        "colab": {
          "base_uri": "https://localhost:8080/"
        },
        "id": "yvNm_I5I4Gen",
        "outputId": "e5ea4abf-e6b5-4412-a2f6-5a5353af22a0"
      },
      "execution_count": 32,
      "outputs": [
        {
          "output_type": "execute_result",
          "data": {
            "text/plain": [
              "((400, 2), (400,))"
            ]
          },
          "metadata": {},
          "execution_count": 32
        }
      ]
    },
    {
      "cell_type": "code",
      "source": [
        "x_train,x_test,y_train,y_test = train_test_split(x,y, test_size=0.2, random_state=42)"
      ],
      "metadata": {
        "id": "d1BQIVAT4I8K"
      },
      "execution_count": 33,
      "outputs": []
    },
    {
      "cell_type": "code",
      "source": [
        "model = Sequential()\n",
        "model.add(Dense(128, activation='relu',input_dim=2))\n",
        "model.add(Dense(1,activation='sigmoid'))"
      ],
      "metadata": {
        "id": "9Tq1vBhk4VLg"
      },
      "execution_count": 34,
      "outputs": []
    },
    {
      "cell_type": "code",
      "source": [
        "model.summary()"
      ],
      "metadata": {
        "colab": {
          "base_uri": "https://localhost:8080/"
        },
        "id": "OaJuiSna4nNx",
        "outputId": "a551a04d-ea27-47c7-e20c-9cfabbc6927e"
      },
      "execution_count": 35,
      "outputs": [
        {
          "output_type": "stream",
          "name": "stdout",
          "text": [
            "Model: \"sequential_2\"\n",
            "_________________________________________________________________\n",
            " Layer (type)                Output Shape              Param #   \n",
            "=================================================================\n",
            " dense_4 (Dense)             (None, 128)               384       \n",
            "                                                                 \n",
            " dense_5 (Dense)             (None, 1)                 129       \n",
            "                                                                 \n",
            "=================================================================\n",
            "Total params: 513\n",
            "Trainable params: 513\n",
            "Non-trainable params: 0\n",
            "_________________________________________________________________\n"
          ]
        }
      ]
    },
    {
      "cell_type": "code",
      "source": [
        "model.compile(optimizer='adam',loss='binary_crossentropy',metrics=['accuracy'])"
      ],
      "metadata": {
        "id": "ZRyLNUC04qCZ"
      },
      "execution_count": 36,
      "outputs": []
    },
    {
      "cell_type": "code",
      "source": [
        "history = model.fit(x_train,y_train, validation_data=(x_test,y_test), epochs=50)"
      ],
      "metadata": {
        "colab": {
          "base_uri": "https://localhost:8080/"
        },
        "id": "66uPAtLX419i",
        "outputId": "8ba4d78b-dd79-4bf7-f78a-d1f1cc35819e"
      },
      "execution_count": 37,
      "outputs": [
        {
          "output_type": "stream",
          "name": "stdout",
          "text": [
            "Epoch 1/50\n",
            "10/10 [==============================] - 1s 19ms/step - loss: 500.7086 - accuracy: 0.5219 - val_loss: 150.3791 - val_accuracy: 0.3500\n",
            "Epoch 2/50\n",
            "10/10 [==============================] - 0s 7ms/step - loss: 131.0654 - accuracy: 0.4969 - val_loss: 179.7322 - val_accuracy: 0.3500\n",
            "Epoch 3/50\n",
            "10/10 [==============================] - 0s 6ms/step - loss: 62.7708 - accuracy: 0.5094 - val_loss: 57.7729 - val_accuracy: 0.3500\n",
            "Epoch 4/50\n",
            "10/10 [==============================] - 0s 6ms/step - loss: 92.2110 - accuracy: 0.5188 - val_loss: 155.1857 - val_accuracy: 0.3500\n",
            "Epoch 5/50\n",
            "10/10 [==============================] - 0s 6ms/step - loss: 32.3535 - accuracy: 0.5156 - val_loss: 29.2584 - val_accuracy: 0.6500\n",
            "Epoch 6/50\n",
            "10/10 [==============================] - 0s 7ms/step - loss: 25.0100 - accuracy: 0.5562 - val_loss: 30.4670 - val_accuracy: 0.3500\n",
            "Epoch 7/50\n",
            "10/10 [==============================] - 0s 8ms/step - loss: 56.4446 - accuracy: 0.5031 - val_loss: 57.7709 - val_accuracy: 0.6500\n",
            "Epoch 8/50\n",
            "10/10 [==============================] - 0s 6ms/step - loss: 81.3161 - accuracy: 0.5344 - val_loss: 106.9542 - val_accuracy: 0.3500\n",
            "Epoch 9/50\n",
            "10/10 [==============================] - 0s 6ms/step - loss: 111.4856 - accuracy: 0.4344 - val_loss: 100.0313 - val_accuracy: 0.3500\n",
            "Epoch 10/50\n",
            "10/10 [==============================] - 0s 6ms/step - loss: 122.4216 - accuracy: 0.5406 - val_loss: 267.8040 - val_accuracy: 0.3500\n",
            "Epoch 11/50\n",
            "10/10 [==============================] - 0s 6ms/step - loss: 181.3908 - accuracy: 0.5719 - val_loss: 100.6926 - val_accuracy: 0.6500\n",
            "Epoch 12/50\n",
            "10/10 [==============================] - 0s 6ms/step - loss: 71.8562 - accuracy: 0.5156 - val_loss: 54.2169 - val_accuracy: 0.3500\n",
            "Epoch 13/50\n",
            "10/10 [==============================] - 0s 6ms/step - loss: 39.6179 - accuracy: 0.5750 - val_loss: 26.1093 - val_accuracy: 0.6500\n",
            "Epoch 14/50\n",
            "10/10 [==============================] - 0s 7ms/step - loss: 46.1648 - accuracy: 0.4656 - val_loss: 118.5315 - val_accuracy: 0.6500\n",
            "Epoch 15/50\n",
            "10/10 [==============================] - 0s 7ms/step - loss: 112.8827 - accuracy: 0.5094 - val_loss: 46.7593 - val_accuracy: 0.6500\n",
            "Epoch 16/50\n",
            "10/10 [==============================] - 0s 6ms/step - loss: 37.7592 - accuracy: 0.5156 - val_loss: 35.2590 - val_accuracy: 0.3500\n",
            "Epoch 17/50\n",
            "10/10 [==============================] - 0s 6ms/step - loss: 38.2289 - accuracy: 0.4594 - val_loss: 87.1997 - val_accuracy: 0.3500\n",
            "Epoch 18/50\n",
            "10/10 [==============================] - 0s 6ms/step - loss: 40.4483 - accuracy: 0.4969 - val_loss: 41.0450 - val_accuracy: 0.6500\n",
            "Epoch 19/50\n",
            "10/10 [==============================] - 0s 6ms/step - loss: 46.2398 - accuracy: 0.5250 - val_loss: 57.0314 - val_accuracy: 0.3500\n",
            "Epoch 20/50\n",
            "10/10 [==============================] - 0s 7ms/step - loss: 29.1387 - accuracy: 0.5344 - val_loss: 46.3258 - val_accuracy: 0.3500\n",
            "Epoch 21/50\n",
            "10/10 [==============================] - 0s 6ms/step - loss: 27.7035 - accuracy: 0.5375 - val_loss: 46.0269 - val_accuracy: 0.3500\n",
            "Epoch 22/50\n",
            "10/10 [==============================] - 0s 8ms/step - loss: 85.4486 - accuracy: 0.4781 - val_loss: 73.0420 - val_accuracy: 0.6500\n",
            "Epoch 23/50\n",
            "10/10 [==============================] - 0s 8ms/step - loss: 92.6836 - accuracy: 0.5594 - val_loss: 140.0768 - val_accuracy: 0.6500\n",
            "Epoch 24/50\n",
            "10/10 [==============================] - 0s 7ms/step - loss: 74.6474 - accuracy: 0.5719 - val_loss: 68.5860 - val_accuracy: 0.3500\n",
            "Epoch 25/50\n",
            "10/10 [==============================] - 0s 6ms/step - loss: 45.0574 - accuracy: 0.5531 - val_loss: 43.3222 - val_accuracy: 0.6500\n",
            "Epoch 26/50\n",
            "10/10 [==============================] - 0s 8ms/step - loss: 68.4880 - accuracy: 0.5281 - val_loss: 68.9639 - val_accuracy: 0.3500\n",
            "Epoch 27/50\n",
            "10/10 [==============================] - 0s 7ms/step - loss: 83.5279 - accuracy: 0.4219 - val_loss: 151.5293 - val_accuracy: 0.6500\n",
            "Epoch 28/50\n",
            "10/10 [==============================] - 0s 6ms/step - loss: 112.5676 - accuracy: 0.4969 - val_loss: 129.1478 - val_accuracy: 0.6500\n",
            "Epoch 29/50\n",
            "10/10 [==============================] - 0s 7ms/step - loss: 117.5333 - accuracy: 0.5219 - val_loss: 215.9972 - val_accuracy: 0.6500\n",
            "Epoch 30/50\n",
            "10/10 [==============================] - 0s 5ms/step - loss: 166.1347 - accuracy: 0.4469 - val_loss: 106.3833 - val_accuracy: 0.6500\n",
            "Epoch 31/50\n",
            "10/10 [==============================] - 0s 6ms/step - loss: 51.8188 - accuracy: 0.5531 - val_loss: 16.6048 - val_accuracy: 0.3500\n",
            "Epoch 32/50\n",
            "10/10 [==============================] - 0s 6ms/step - loss: 53.3301 - accuracy: 0.5406 - val_loss: 16.9079 - val_accuracy: 0.6500\n",
            "Epoch 33/50\n",
            "10/10 [==============================] - 0s 6ms/step - loss: 56.6909 - accuracy: 0.4969 - val_loss: 51.5539 - val_accuracy: 0.3500\n",
            "Epoch 34/50\n",
            "10/10 [==============================] - 0s 8ms/step - loss: 45.2377 - accuracy: 0.5719 - val_loss: 13.0758 - val_accuracy: 0.6500\n",
            "Epoch 35/50\n",
            "10/10 [==============================] - 0s 6ms/step - loss: 77.8964 - accuracy: 0.4719 - val_loss: 141.3180 - val_accuracy: 0.3500\n",
            "Epoch 36/50\n",
            "10/10 [==============================] - 0s 8ms/step - loss: 53.5923 - accuracy: 0.5125 - val_loss: 8.1073 - val_accuracy: 0.6500\n",
            "Epoch 37/50\n",
            "10/10 [==============================] - 0s 8ms/step - loss: 45.2102 - accuracy: 0.5094 - val_loss: 17.4607 - val_accuracy: 0.6500\n",
            "Epoch 38/50\n",
            "10/10 [==============================] - 0s 7ms/step - loss: 43.3903 - accuracy: 0.5219 - val_loss: 20.9310 - val_accuracy: 0.3500\n",
            "Epoch 39/50\n",
            "10/10 [==============================] - 0s 6ms/step - loss: 12.7081 - accuracy: 0.5406 - val_loss: 72.0151 - val_accuracy: 0.3500\n",
            "Epoch 40/50\n",
            "10/10 [==============================] - 0s 7ms/step - loss: 67.5950 - accuracy: 0.4719 - val_loss: 26.0246 - val_accuracy: 0.6500\n",
            "Epoch 41/50\n",
            "10/10 [==============================] - 0s 7ms/step - loss: 91.1040 - accuracy: 0.4875 - val_loss: 188.7448 - val_accuracy: 0.6500\n",
            "Epoch 42/50\n",
            "10/10 [==============================] - 0s 6ms/step - loss: 118.1352 - accuracy: 0.5344 - val_loss: 180.9561 - val_accuracy: 0.6500\n",
            "Epoch 43/50\n",
            "10/10 [==============================] - 0s 6ms/step - loss: 121.3512 - accuracy: 0.5219 - val_loss: 24.4403 - val_accuracy: 0.3500\n",
            "Epoch 44/50\n",
            "10/10 [==============================] - 0s 8ms/step - loss: 28.2402 - accuracy: 0.5281 - val_loss: 17.2054 - val_accuracy: 0.3500\n",
            "Epoch 45/50\n",
            "10/10 [==============================] - 0s 7ms/step - loss: 40.3094 - accuracy: 0.4594 - val_loss: 20.4223 - val_accuracy: 0.3500\n",
            "Epoch 46/50\n",
            "10/10 [==============================] - 0s 8ms/step - loss: 61.7235 - accuracy: 0.5469 - val_loss: 60.3982 - val_accuracy: 0.6500\n",
            "Epoch 47/50\n",
            "10/10 [==============================] - 0s 7ms/step - loss: 86.6991 - accuracy: 0.5094 - val_loss: 13.6183 - val_accuracy: 0.6500\n",
            "Epoch 48/50\n",
            "10/10 [==============================] - 0s 7ms/step - loss: 149.4591 - accuracy: 0.4719 - val_loss: 125.9111 - val_accuracy: 0.6500\n",
            "Epoch 49/50\n",
            "10/10 [==============================] - 0s 7ms/step - loss: 97.6871 - accuracy: 0.5344 - val_loss: 33.5868 - val_accuracy: 0.6500\n",
            "Epoch 50/50\n",
            "10/10 [==============================] - 0s 9ms/step - loss: 139.7002 - accuracy: 0.5094 - val_loss: 129.8951 - val_accuracy: 0.6500\n"
          ]
        }
      ]
    },
    {
      "cell_type": "code",
      "source": [
        "import matplotlib.pyplot as plt\n",
        "plt.plot(history.history['val_accuracy'])"
      ],
      "metadata": {
        "colab": {
          "base_uri": "https://localhost:8080/",
          "height": 282
        },
        "id": "9e9vdDWk5E9S",
        "outputId": "1d50739a-e8b3-419c-da7f-65b312dec7d0"
      },
      "execution_count": 38,
      "outputs": [
        {
          "output_type": "execute_result",
          "data": {
            "text/plain": [
              "[<matplotlib.lines.Line2D at 0x7fb069182370>]"
            ]
          },
          "metadata": {},
          "execution_count": 38
        },
        {
          "output_type": "display_data",
          "data": {
            "text/plain": [
              "<Figure size 432x288 with 1 Axes>"
            ],
            "image/png": "[encoded data removed]"
          },
          "metadata": {
            "needs_background": "light"
          }
        }
      ]
    },
    {
      "cell_type": "markdown",
      "source": [
        "### now we will go for scalling \n",
        "--> 1. Standard Scaler\n",
        "--> 2. Normalizer"
      ],
      "metadata": {
        "id": "c_o4cUc953cA"
      }
    },
    {
      "cell_type": "code",
      "source": [
        "from sklearn.preprocessing import StandardScaler\n",
        "scaler = StandardScaler()\n",
        "\n",
        "x_train_scaled = scaler.fit_transform(x_train)\n",
        "x_test_scaled = scaler.transform(x_test)\n"
      ],
      "metadata": {
        "id": "o3mq3UV250vW"
      },
      "execution_count": 39,
      "outputs": []
    },
    {
      "cell_type": "code",
      "source": [
        "x_train_scaled[0],x_test_scaled[0]"
      ],
      "metadata": {
        "colab": {
          "base_uri": "https://localhost:8080/"
        },
        "id": "FEJTf7Sv6k51",
        "outputId": "fc5b5242-1474-4451-c14d-7e8bb17e9d2b"
      },
      "execution_count": 41,
      "outputs": [
        {
          "output_type": "execute_result",
          "data": {
            "text/plain": [
              "(array([-1.06675246, -0.38634438]), array([ 0.79753468, -1.40447546]))"
            ]
          },
          "metadata": {},
          "execution_count": 41
        }
      ]
    },
    {
      "cell_type": "code",
      "source": [
        " mod = Sequential()\n",
        " mod.add(Dense(128, activation='relu', input_dim=2))\n",
        " mod.add(Dense(1,activation = \"sigmoid\"))"
      ],
      "metadata": {
        "id": "QbWtXgf37Qe0"
      },
      "execution_count": 49,
      "outputs": []
    },
    {
      "cell_type": "code",
      "source": [
        "mod.compile(optimizer='adam',loss='binary_crossentropy',metrics=['accuracy'])"
      ],
      "metadata": {
        "id": "II1vcEEm7bBc"
      },
      "execution_count": 50,
      "outputs": []
    },
    {
      "cell_type": "code",
      "source": [
        "mod.fit(x_train_scaled,y_train, validation_data=(x_test_scaled,y_test),epochs=50)"
      ],
      "metadata": {
        "colab": {
          "base_uri": "https://localhost:8080/"
        },
        "id": "4AVXXIpa78a7",
        "outputId": "e2de50fa-3047-4a8b-dd08-7397f58f1c18"
      },
      "execution_count": 51,
      "outputs": [
        {
          "output_type": "stream",
          "name": "stdout",
          "text": [
            "Epoch 1/50\n",
            "10/10 [==============================] - 1s 20ms/step - loss: 0.6365 - accuracy: 0.7875 - val_loss: 0.5977 - val_accuracy: 0.8875\n",
            "Epoch 2/50\n",
            "10/10 [==============================] - 0s 6ms/step - loss: 0.5873 - accuracy: 0.8406 - val_loss: 0.5392 - val_accuracy: 0.8375\n",
            "Epoch 3/50\n",
            "10/10 [==============================] - 0s 6ms/step - loss: 0.5437 - accuracy: 0.8219 - val_loss: 0.4907 - val_accuracy: 0.8375\n",
            "Epoch 4/50\n",
            "10/10 [==============================] - 0s 6ms/step - loss: 0.5079 - accuracy: 0.8344 - val_loss: 0.4480 - val_accuracy: 0.8500\n",
            "Epoch 5/50\n",
            "10/10 [==============================] - 0s 7ms/step - loss: 0.4770 - accuracy: 0.8438 - val_loss: 0.4117 - val_accuracy: 0.8750\n",
            "Epoch 6/50\n",
            "10/10 [==============================] - 0s 6ms/step - loss: 0.4492 - accuracy: 0.8469 - val_loss: 0.3812 - val_accuracy: 0.9125\n",
            "Epoch 7/50\n",
            "10/10 [==============================] - 0s 7ms/step - loss: 0.4267 - accuracy: 0.8625 - val_loss: 0.3538 - val_accuracy: 0.9125\n",
            "Epoch 8/50\n",
            "10/10 [==============================] - 0s 6ms/step - loss: 0.4055 - accuracy: 0.8719 - val_loss: 0.3304 - val_accuracy: 0.9125\n",
            "Epoch 9/50\n",
            "10/10 [==============================] - 0s 7ms/step - loss: 0.3880 - accuracy: 0.8719 - val_loss: 0.3100 - val_accuracy: 0.9125\n",
            "Epoch 10/50\n",
            "10/10 [==============================] - 0s 6ms/step - loss: 0.3720 - accuracy: 0.8719 - val_loss: 0.2927 - val_accuracy: 0.9125\n",
            "Epoch 11/50\n",
            "10/10 [==============================] - 0s 6ms/step - loss: 0.3590 - accuracy: 0.8687 - val_loss: 0.2781 - val_accuracy: 0.9125\n",
            "Epoch 12/50\n",
            "10/10 [==============================] - 0s 6ms/step - loss: 0.3470 - accuracy: 0.8781 - val_loss: 0.2627 - val_accuracy: 0.9375\n",
            "Epoch 13/50\n",
            "10/10 [==============================] - 0s 6ms/step - loss: 0.3363 - accuracy: 0.8875 - val_loss: 0.2511 - val_accuracy: 0.9375\n",
            "Epoch 14/50\n",
            "10/10 [==============================] - 0s 6ms/step - loss: 0.3275 - accuracy: 0.8875 - val_loss: 0.2411 - val_accuracy: 0.9375\n",
            "Epoch 15/50\n",
            "10/10 [==============================] - 0s 7ms/step - loss: 0.3199 - accuracy: 0.8875 - val_loss: 0.2338 - val_accuracy: 0.9375\n",
            "Epoch 16/50\n",
            "10/10 [==============================] - 0s 6ms/step - loss: 0.3131 - accuracy: 0.8875 - val_loss: 0.2266 - val_accuracy: 0.9500\n",
            "Epoch 17/50\n",
            "10/10 [==============================] - 0s 7ms/step - loss: 0.3076 - accuracy: 0.8906 - val_loss: 0.2197 - val_accuracy: 0.9375\n",
            "Epoch 18/50\n",
            "10/10 [==============================] - 0s 7ms/step - loss: 0.3033 - accuracy: 0.8906 - val_loss: 0.2126 - val_accuracy: 0.9375\n",
            "Epoch 19/50\n",
            "10/10 [==============================] - 0s 6ms/step - loss: 0.2983 - accuracy: 0.8906 - val_loss: 0.2086 - val_accuracy: 0.9375\n",
            "Epoch 20/50\n",
            "10/10 [==============================] - 0s 6ms/step - loss: 0.2947 - accuracy: 0.8906 - val_loss: 0.2049 - val_accuracy: 0.9375\n",
            "Epoch 21/50\n",
            "10/10 [==============================] - 0s 6ms/step - loss: 0.2914 - accuracy: 0.8906 - val_loss: 0.2008 - val_accuracy: 0.9375\n",
            "Epoch 22/50\n",
            "10/10 [==============================] - 0s 7ms/step - loss: 0.2881 - accuracy: 0.8906 - val_loss: 0.1975 - val_accuracy: 0.9375\n",
            "Epoch 23/50\n",
            "10/10 [==============================] - 0s 8ms/step - loss: 0.2854 - accuracy: 0.8906 - val_loss: 0.1948 - val_accuracy: 0.9375\n",
            "Epoch 24/50\n",
            "10/10 [==============================] - 0s 7ms/step - loss: 0.2834 - accuracy: 0.8938 - val_loss: 0.1930 - val_accuracy: 0.9375\n",
            "Epoch 25/50\n",
            "10/10 [==============================] - 0s 15ms/step - loss: 0.2816 - accuracy: 0.8938 - val_loss: 0.1899 - val_accuracy: 0.9375\n",
            "Epoch 26/50\n",
            "10/10 [==============================] - 0s 9ms/step - loss: 0.2795 - accuracy: 0.8969 - val_loss: 0.1884 - val_accuracy: 0.9375\n",
            "Epoch 27/50\n",
            "10/10 [==============================] - 0s 8ms/step - loss: 0.2778 - accuracy: 0.8969 - val_loss: 0.1877 - val_accuracy: 0.9375\n",
            "Epoch 28/50\n",
            "10/10 [==============================] - 0s 9ms/step - loss: 0.2758 - accuracy: 0.9031 - val_loss: 0.1858 - val_accuracy: 0.9375\n",
            "Epoch 29/50\n",
            "10/10 [==============================] - 0s 9ms/step - loss: 0.2744 - accuracy: 0.9031 - val_loss: 0.1840 - val_accuracy: 0.9375\n",
            "Epoch 30/50\n",
            "10/10 [==============================] - 0s 10ms/step - loss: 0.2733 - accuracy: 0.9031 - val_loss: 0.1825 - val_accuracy: 0.9375\n",
            "Epoch 31/50\n",
            "10/10 [==============================] - 0s 9ms/step - loss: 0.2720 - accuracy: 0.9031 - val_loss: 0.1811 - val_accuracy: 0.9375\n",
            "Epoch 32/50\n",
            "10/10 [==============================] - 0s 9ms/step - loss: 0.2710 - accuracy: 0.9031 - val_loss: 0.1815 - val_accuracy: 0.9375\n",
            "Epoch 33/50\n",
            "10/10 [==============================] - 0s 9ms/step - loss: 0.2698 - accuracy: 0.9031 - val_loss: 0.1801 - val_accuracy: 0.9375\n",
            "Epoch 34/50\n",
            "10/10 [==============================] - 0s 9ms/step - loss: 0.2690 - accuracy: 0.9031 - val_loss: 0.1798 - val_accuracy: 0.9375\n",
            "Epoch 35/50\n",
            "10/10 [==============================] - 0s 8ms/step - loss: 0.2689 - accuracy: 0.9031 - val_loss: 0.1786 - val_accuracy: 0.9375\n",
            "Epoch 36/50\n",
            "10/10 [==============================] - 0s 10ms/step - loss: 0.2670 - accuracy: 0.9031 - val_loss: 0.1777 - val_accuracy: 0.9375\n",
            "Epoch 37/50\n",
            "10/10 [==============================] - 0s 9ms/step - loss: 0.2661 - accuracy: 0.9031 - val_loss: 0.1781 - val_accuracy: 0.9375\n",
            "Epoch 38/50\n",
            "10/10 [==============================] - 0s 9ms/step - loss: 0.2656 - accuracy: 0.9031 - val_loss: 0.1768 - val_accuracy: 0.9375\n",
            "Epoch 39/50\n",
            "10/10 [==============================] - 0s 9ms/step - loss: 0.2653 - accuracy: 0.9000 - val_loss: 0.1767 - val_accuracy: 0.9375\n",
            "Epoch 40/50\n",
            "10/10 [==============================] - 0s 8ms/step - loss: 0.2642 - accuracy: 0.9031 - val_loss: 0.1755 - val_accuracy: 0.9375\n",
            "Epoch 41/50\n",
            "10/10 [==============================] - 0s 9ms/step - loss: 0.2633 - accuracy: 0.9031 - val_loss: 0.1760 - val_accuracy: 0.9375\n",
            "Epoch 42/50\n",
            "10/10 [==============================] - 0s 9ms/step - loss: 0.2636 - accuracy: 0.9031 - val_loss: 0.1776 - val_accuracy: 0.9375\n",
            "Epoch 43/50\n",
            "10/10 [==============================] - 0s 12ms/step - loss: 0.2625 - accuracy: 0.9062 - val_loss: 0.1778 - val_accuracy: 0.9375\n",
            "Epoch 44/50\n",
            "10/10 [==============================] - 0s 10ms/step - loss: 0.2621 - accuracy: 0.9062 - val_loss: 0.1760 - val_accuracy: 0.9375\n",
            "Epoch 45/50\n",
            "10/10 [==============================] - 0s 10ms/step - loss: 0.2616 - accuracy: 0.9062 - val_loss: 0.1766 - val_accuracy: 0.9375\n",
            "Epoch 46/50\n",
            "10/10 [==============================] - 0s 10ms/step - loss: 0.2609 - accuracy: 0.9062 - val_loss: 0.1744 - val_accuracy: 0.9375\n",
            "Epoch 47/50\n",
            "10/10 [==============================] - 0s 10ms/step - loss: 0.2600 - accuracy: 0.9062 - val_loss: 0.1751 - val_accuracy: 0.9375\n",
            "Epoch 48/50\n",
            "10/10 [==============================] - 0s 9ms/step - loss: 0.2599 - accuracy: 0.9031 - val_loss: 0.1759 - val_accuracy: 0.9500\n",
            "Epoch 49/50\n",
            "10/10 [==============================] - 0s 6ms/step - loss: 0.2590 - accuracy: 0.9031 - val_loss: 0.1752 - val_accuracy: 0.9375\n",
            "Epoch 50/50\n",
            "10/10 [==============================] - 0s 6ms/step - loss: 0.2588 - accuracy: 0.9062 - val_loss: 0.1743 - val_accuracy: 0.9375\n"
          ]
        },
        {
          "output_type": "execute_result",
          "data": {
            "text/plain": [
              "<keras.callbacks.History at 0x7fb06903a130>"
            ]
          },
          "metadata": {},
          "execution_count": 51
        }
      ]
    },
    {
      "cell_type": "code",
      "source": [
        "import matplotlib.pyplot as plt\n",
        "plt.plot(history.history['accuracy'])"
      ],
      "metadata": {
        "colab": {
          "base_uri": "https://localhost:8080/",
          "height": 283
        },
        "id": "5ICU0AJC8JnX",
        "outputId": "91750e5c-60c6-48a9-9002-00f2ca4945cd"
      },
      "execution_count": 53,
      "outputs": [
        {
          "output_type": "execute_result",
          "data": {
            "text/plain": [
              "[<matplotlib.lines.Line2D at 0x7fb068d27580>]"
            ]
          },
          "metadata": {},
          "execution_count": 53
        },
        {
          "output_type": "display_data",
          "data": {
            "text/plain": [
              "<Figure size 432x288 with 1 Axes>"
            ],
            "image/png": "[encoded data removed]"
          },
          "metadata": {
            "needs_background": "light"
          }
        }
      ]
    },
    {
      "cell_type": "code",
      "source": [
        "import matplotlib.pyplot as plt\n",
        "plt.plot(history.history['val_accuracy'])"
      ],
      "metadata": {
        "colab": {
          "base_uri": "https://localhost:8080/",
          "height": 282
        },
        "id": "KmrGMUl18QMR",
        "outputId": "085777ce-05bd-4ddc-f170-eeb7adecab8a"
      },
      "execution_count": 54,
      "outputs": [
        {
          "output_type": "execute_result",
          "data": {
            "text/plain": [
              "[<matplotlib.lines.Line2D at 0x7fb068c9caf0>]"
            ]
          },
          "metadata": {},
          "execution_count": 54
        },
        {
          "output_type": "display_data",
          "data": {
            "text/plain": [
              "<Figure size 432x288 with 1 Axes>"
            ],
            "image/png": "[encoded data removed]"
          },
          "metadata": {
            "needs_background": "light"
          }
        }
      ]
    },
    {
      "cell_type": "code",
      "source": [
        "from sklearn.preprocessing import Normalizer\n",
        "x_train_skld = Normalizer().fit_transform(x_train)"
      ],
      "metadata": {
        "id": "4vMxkEML8yu1"
      },
      "execution_count": 61,
      "outputs": []
    },
    {
      "cell_type": "code",
      "source": [
        "x_train_skld[0]"
      ],
      "metadata": {
        "colab": {
          "base_uri": "https://localhost:8080/"
        },
        "id": "eWRG_EZi9cjd",
        "outputId": "d0cf8948-4e0f-4b94-bfe4-19161aac6373"
      },
      "execution_count": 62,
      "outputs": [
        {
          "output_type": "execute_result",
          "data": {
            "text/plain": [
              "array([4.73684157e-04, 9.99999888e-01])"
            ]
          },
          "metadata": {},
          "execution_count": 62
        }
      ]
    },
    {
      "cell_type": "code",
      "source": [
        "x_test_scld = Normalizer().transform(x_test)"
      ],
      "metadata": {
        "colab": {
          "base_uri": "https://localhost:8080/"
        },
        "id": "No6Awpb391QZ",
        "outputId": "a89d938e-a445-453e-9ad6-a9887bd3488a"
      },
      "execution_count": 63,
      "outputs": [
        {
          "output_type": "stream",
          "name": "stderr",
          "text": [
            "/usr/local/lib/python3.9/dist-packages/sklearn/base.py:432: UserWarning: X has feature names, but Normalizer was fitted without feature names\n",
            "  warnings.warn(\n"
          ]
        }
      ]
    },
    {
      "cell_type": "code",
      "source": [
        "model = Sequential()\n",
        "model.add(Dense(128, activation='relu', input_dim=2))\n",
        "model.add(Dense(1, activation='sigmoid'))"
      ],
      "metadata": {
        "id": "EQHXKPNd-WUu"
      },
      "execution_count": 64,
      "outputs": []
    },
    {
      "cell_type": "code",
      "source": [
        "model.compile(optimizer='adam', loss='binary_crossentropy', metrics=['accuracy'])"
      ],
      "metadata": {
        "id": "03spAP5y-qKz"
      },
      "execution_count": 65,
      "outputs": []
    },
    {
      "cell_type": "code",
      "source": [
        "model.fit(x_train_skld,y_train, validation_data=(x_test_scld,y_test), epochs=50)"
      ],
      "metadata": {
        "colab": {
          "base_uri": "https://localhost:8080/"
        },
        "id": "5CFmJli0-2W0",
        "outputId": "c5bf122b-f394-4547-d5e0-21efbd2b411d"
      },
      "execution_count": 66,
      "outputs": [
        {
          "output_type": "stream",
          "name": "stdout",
          "text": [
            "Epoch 1/50\n",
            "10/10 [==============================] - 1s 32ms/step - loss: 0.6964 - accuracy: 0.4594 - val_loss: 0.6783 - val_accuracy: 0.6500\n",
            "Epoch 2/50\n",
            "10/10 [==============================] - 0s 12ms/step - loss: 0.6721 - accuracy: 0.6406 - val_loss: 0.6622 - val_accuracy: 0.6500\n",
            "Epoch 3/50\n",
            "10/10 [==============================] - 0s 10ms/step - loss: 0.6606 - accuracy: 0.6406 - val_loss: 0.6534 - val_accuracy: 0.6500\n",
            "Epoch 4/50\n",
            "10/10 [==============================] - 0s 9ms/step - loss: 0.6558 - accuracy: 0.6406 - val_loss: 0.6493 - val_accuracy: 0.6500\n",
            "Epoch 5/50\n",
            "10/10 [==============================] - 0s 8ms/step - loss: 0.6545 - accuracy: 0.6406 - val_loss: 0.6478 - val_accuracy: 0.6500\n",
            "Epoch 6/50\n",
            "10/10 [==============================] - 0s 9ms/step - loss: 0.6531 - accuracy: 0.6406 - val_loss: 0.6477 - val_accuracy: 0.6500\n",
            "Epoch 7/50\n",
            "10/10 [==============================] - 0s 10ms/step - loss: 0.6532 - accuracy: 0.6406 - val_loss: 0.6476 - val_accuracy: 0.6500\n",
            "Epoch 8/50\n",
            "10/10 [==============================] - 0s 7ms/step - loss: 0.6531 - accuracy: 0.6406 - val_loss: 0.6476 - val_accuracy: 0.6500\n",
            "Epoch 9/50\n",
            "10/10 [==============================] - 0s 7ms/step - loss: 0.6533 - accuracy: 0.6406 - val_loss: 0.6476 - val_accuracy: 0.6500\n",
            "Epoch 10/50\n",
            "10/10 [==============================] - 0s 5ms/step - loss: 0.6534 - accuracy: 0.6406 - val_loss: 0.6475 - val_accuracy: 0.6500\n",
            "Epoch 11/50\n",
            "10/10 [==============================] - 0s 5ms/step - loss: 0.6532 - accuracy: 0.6406 - val_loss: 0.6475 - val_accuracy: 0.6500\n",
            "Epoch 12/50\n",
            "10/10 [==============================] - 0s 5ms/step - loss: 0.6532 - accuracy: 0.6406 - val_loss: 0.6477 - val_accuracy: 0.6500\n",
            "Epoch 13/50\n",
            "10/10 [==============================] - 0s 6ms/step - loss: 0.6533 - accuracy: 0.6406 - val_loss: 0.6477 - val_accuracy: 0.6500\n",
            "Epoch 14/50\n",
            "10/10 [==============================] - 0s 6ms/step - loss: 0.6532 - accuracy: 0.6406 - val_loss: 0.6477 - val_accuracy: 0.6500\n",
            "Epoch 15/50\n",
            "10/10 [==============================] - 0s 6ms/step - loss: 0.6531 - accuracy: 0.6406 - val_loss: 0.6477 - val_accuracy: 0.6500\n",
            "Epoch 16/50\n",
            "10/10 [==============================] - 0s 8ms/step - loss: 0.6533 - accuracy: 0.6406 - val_loss: 0.6478 - val_accuracy: 0.6500\n",
            "Epoch 17/50\n",
            "10/10 [==============================] - 0s 7ms/step - loss: 0.6532 - accuracy: 0.6406 - val_loss: 0.6477 - val_accuracy: 0.6500\n",
            "Epoch 18/50\n",
            "10/10 [==============================] - 0s 7ms/step - loss: 0.6531 - accuracy: 0.6406 - val_loss: 0.6476 - val_accuracy: 0.6500\n",
            "Epoch 19/50\n",
            "10/10 [==============================] - 0s 5ms/step - loss: 0.6533 - accuracy: 0.6406 - val_loss: 0.6478 - val_accuracy: 0.6500\n",
            "Epoch 20/50\n",
            "10/10 [==============================] - 0s 7ms/step - loss: 0.6532 - accuracy: 0.6406 - val_loss: 0.6477 - val_accuracy: 0.6500\n",
            "Epoch 21/50\n",
            "10/10 [==============================] - 0s 8ms/step - loss: 0.6531 - accuracy: 0.6406 - val_loss: 0.6477 - val_accuracy: 0.6500\n",
            "Epoch 22/50\n",
            "10/10 [==============================] - 0s 6ms/step - loss: 0.6532 - accuracy: 0.6406 - val_loss: 0.6477 - val_accuracy: 0.6500\n",
            "Epoch 23/50\n",
            "10/10 [==============================] - 0s 8ms/step - loss: 0.6532 - accuracy: 0.6406 - val_loss: 0.6477 - val_accuracy: 0.6500\n",
            "Epoch 24/50\n",
            "10/10 [==============================] - 0s 6ms/step - loss: 0.6532 - accuracy: 0.6406 - val_loss: 0.6476 - val_accuracy: 0.6500\n",
            "Epoch 25/50\n",
            "10/10 [==============================] - 0s 7ms/step - loss: 0.6532 - accuracy: 0.6406 - val_loss: 0.6476 - val_accuracy: 0.6500\n",
            "Epoch 26/50\n",
            "10/10 [==============================] - 0s 6ms/step - loss: 0.6533 - accuracy: 0.6406 - val_loss: 0.6475 - val_accuracy: 0.6500\n",
            "Epoch 27/50\n",
            "10/10 [==============================] - 0s 6ms/step - loss: 0.6532 - accuracy: 0.6406 - val_loss: 0.6476 - val_accuracy: 0.6500\n",
            "Epoch 28/50\n",
            "10/10 [==============================] - 0s 6ms/step - loss: 0.6532 - accuracy: 0.6406 - val_loss: 0.6476 - val_accuracy: 0.6500\n",
            "Epoch 29/50\n",
            "10/10 [==============================] - 0s 6ms/step - loss: 0.6532 - accuracy: 0.6406 - val_loss: 0.6476 - val_accuracy: 0.6500\n",
            "Epoch 30/50\n",
            "10/10 [==============================] - 0s 7ms/step - loss: 0.6533 - accuracy: 0.6406 - val_loss: 0.6478 - val_accuracy: 0.6500\n",
            "Epoch 31/50\n",
            "10/10 [==============================] - 0s 6ms/step - loss: 0.6535 - accuracy: 0.6406 - val_loss: 0.6476 - val_accuracy: 0.6500\n",
            "Epoch 32/50\n",
            "10/10 [==============================] - 0s 7ms/step - loss: 0.6534 - accuracy: 0.6406 - val_loss: 0.6475 - val_accuracy: 0.6500\n",
            "Epoch 33/50\n",
            "10/10 [==============================] - 0s 7ms/step - loss: 0.6537 - accuracy: 0.6406 - val_loss: 0.6478 - val_accuracy: 0.6500\n",
            "Epoch 34/50\n",
            "10/10 [==============================] - 0s 7ms/step - loss: 0.6534 - accuracy: 0.6406 - val_loss: 0.6480 - val_accuracy: 0.6500\n",
            "Epoch 35/50\n",
            "10/10 [==============================] - 0s 7ms/step - loss: 0.6532 - accuracy: 0.6406 - val_loss: 0.6476 - val_accuracy: 0.6500\n",
            "Epoch 36/50\n",
            "10/10 [==============================] - 0s 8ms/step - loss: 0.6533 - accuracy: 0.6406 - val_loss: 0.6475 - val_accuracy: 0.6500\n",
            "Epoch 37/50\n",
            "10/10 [==============================] - 0s 6ms/step - loss: 0.6532 - accuracy: 0.6406 - val_loss: 0.6476 - val_accuracy: 0.6500\n",
            "Epoch 38/50\n",
            "10/10 [==============================] - 0s 7ms/step - loss: 0.6531 - accuracy: 0.6406 - val_loss: 0.6476 - val_accuracy: 0.6500\n",
            "Epoch 39/50\n",
            "10/10 [==============================] - 0s 7ms/step - loss: 0.6532 - accuracy: 0.6406 - val_loss: 0.6475 - val_accuracy: 0.6500\n",
            "Epoch 40/50\n",
            "10/10 [==============================] - 0s 7ms/step - loss: 0.6533 - accuracy: 0.6406 - val_loss: 0.6475 - val_accuracy: 0.6500\n",
            "Epoch 41/50\n",
            "10/10 [==============================] - 0s 6ms/step - loss: 0.6536 - accuracy: 0.6406 - val_loss: 0.6475 - val_accuracy: 0.6500\n",
            "Epoch 42/50\n",
            "10/10 [==============================] - 0s 7ms/step - loss: 0.6537 - accuracy: 0.6406 - val_loss: 0.6479 - val_accuracy: 0.6500\n",
            "Epoch 43/50\n",
            "10/10 [==============================] - 0s 6ms/step - loss: 0.6537 - accuracy: 0.6406 - val_loss: 0.6476 - val_accuracy: 0.6500\n",
            "Epoch 44/50\n",
            "10/10 [==============================] - 0s 7ms/step - loss: 0.6533 - accuracy: 0.6406 - val_loss: 0.6477 - val_accuracy: 0.6500\n",
            "Epoch 45/50\n",
            "10/10 [==============================] - 0s 6ms/step - loss: 0.6535 - accuracy: 0.6406 - val_loss: 0.6475 - val_accuracy: 0.6500\n",
            "Epoch 46/50\n",
            "10/10 [==============================] - 0s 6ms/step - loss: 0.6536 - accuracy: 0.6406 - val_loss: 0.6478 - val_accuracy: 0.6500\n",
            "Epoch 47/50\n",
            "10/10 [==============================] - 0s 6ms/step - loss: 0.6536 - accuracy: 0.6406 - val_loss: 0.6478 - val_accuracy: 0.6500\n",
            "Epoch 48/50\n",
            "10/10 [==============================] - 0s 7ms/step - loss: 0.6531 - accuracy: 0.6406 - val_loss: 0.6476 - val_accuracy: 0.6500\n",
            "Epoch 49/50\n",
            "10/10 [==============================] - 0s 7ms/step - loss: 0.6533 - accuracy: 0.6406 - val_loss: 0.6475 - val_accuracy: 0.6500\n",
            "Epoch 50/50\n",
            "10/10 [==============================] - 0s 7ms/step - loss: 0.6534 - accuracy: 0.6406 - val_loss: 0.6474 - val_accuracy: 0.6500\n"
          ]
        },
        {
          "output_type": "execute_result",
          "data": {
            "text/plain": [
              "<keras.callbacks.History at 0x7fb068fe3af0>"
            ]
          },
          "metadata": {},
          "execution_count": 66
        }
      ]
    },
    {
      "cell_type": "code",
      "source": [
        "plt.plot(history.history['val_accuracy'])"
      ],
      "metadata": {
        "colab": {
          "base_uri": "https://localhost:8080/",
          "height": 282
        },
        "id": "U8P4sYxO_DN2",
        "outputId": "07d9ddf6-f75f-4524-cdd7-640706d50cf3"
      },
      "execution_count": 69,
      "outputs": [
        {
          "output_type": "execute_result",
          "data": {
            "text/plain": [
              "[<matplotlib.lines.Line2D at 0x7fb069060a00>]"
            ]
          },
          "metadata": {},
          "execution_count": 69
        },
        {
          "output_type": "display_data",
          "data": {
            "text/plain": [
              "<Figure size 432x288 with 1 Axes>"
            ],
            "image/png": "[encoded data removed]"
          },
          "metadata": {
            "needs_background": "light"
          }
        }
      ]
    },
    {
      "cell_type": "code",
      "source": [],
      "metadata": {
        "id": "9Y5C8uzY_L1C"
      },
      "execution_count": null,
      "outputs": []
    }
  ]
}